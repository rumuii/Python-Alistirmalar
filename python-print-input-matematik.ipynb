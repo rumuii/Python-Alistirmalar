{
 "cells": [
  {
   "cell_type": "code",
   "execution_count": 1,
   "id": "d12d554d",
   "metadata": {},
   "outputs": [
    {
     "name": "stdout",
     "output_type": "stream",
     "text": [
      "35\n"
     ]
    }
   ],
   "source": [
    "print(35)"
   ]
  },
  {
   "cell_type": "code",
   "execution_count": 2,
   "id": "0861dc57",
   "metadata": {},
   "outputs": [
    {
     "name": "stdout",
     "output_type": "stream",
     "text": [
      "3.14\n"
     ]
    }
   ],
   "source": [
    "print(3.14)"
   ]
  },
  {
   "cell_type": "code",
   "execution_count": 2,
   "id": "e34f6e04",
   "metadata": {},
   "outputs": [
    {
     "name": "stdout",
     "output_type": "stream",
     "text": [
      "Mavi Dershanem\n"
     ]
    }
   ],
   "source": [
    "print(\"Mavi \" \"Dershanem\")"
   ]
  },
  {
   "cell_type": "code",
   "execution_count": 12,
   "id": "3a7241cc",
   "metadata": {},
   "outputs": [
    {
     "data": {
      "text/plain": [
       "'Mavi'"
      ]
     },
     "execution_count": 12,
     "metadata": {},
     "output_type": "execute_result"
    }
   ],
   "source": [
    "\"Mavi\""
   ]
  },
  {
   "cell_type": "code",
   "execution_count": 13,
   "id": "d013310f",
   "metadata": {
    "scrolled": true
   },
   "outputs": [
    {
     "name": "stdout",
     "output_type": "stream",
     "text": [
      "Mavi Dershanem\n"
     ]
    }
   ],
   "source": [
    "print(\"Mavi \"+\"Dershanem\")"
   ]
  },
  {
   "cell_type": "code",
   "execution_count": 45,
   "id": "0a84705a",
   "metadata": {},
   "outputs": [
    {
     "name": "stdout",
     "output_type": "stream",
     "text": [
      "Mavi+Dershanem\n"
     ]
    }
   ],
   "source": [
    "print(\"Mavi\" \"+\" \"Dershanem\")"
   ]
  },
  {
   "cell_type": "code",
   "execution_count": 46,
   "id": "70ed9c3b",
   "metadata": {},
   "outputs": [
    {
     "name": "stdout",
     "output_type": "stream",
     "text": [
      "Mavi + Dershanem\n"
     ]
    }
   ],
   "source": [
    "print(\"Mavi\", \"+\" ,\"Dershanem\")"
   ]
  },
  {
   "cell_type": "code",
   "execution_count": 15,
   "id": "f541c4f6",
   "metadata": {},
   "outputs": [
    {
     "name": "stdout",
     "output_type": "stream",
     "text": [
      "55\n"
     ]
    }
   ],
   "source": [
    "print(25+30)"
   ]
  },
  {
   "cell_type": "code",
   "execution_count": 19,
   "id": "46614d3a",
   "metadata": {},
   "outputs": [
    {
     "name": "stdout",
     "output_type": "stream",
     "text": [
      "32 3.14 Merhaba python\n"
     ]
    }
   ],
   "source": [
    "print(32,3.14,\"Merhaba\",\"python\")"
   ]
  },
  {
   "cell_type": "code",
   "execution_count": 21,
   "id": "bff48476",
   "metadata": {},
   "outputs": [
    {
     "name": "stdout",
     "output_type": "stream",
     "text": [
      "32 3.14 Merhaba python\n"
     ]
    }
   ],
   "source": [
    "print(32,3.14,\"Merhaba \"\"python\")"
   ]
  },
  {
   "cell_type": "code",
   "execution_count": 23,
   "id": "f2029268",
   "metadata": {},
   "outputs": [
    {
     "name": "stdout",
     "output_type": "stream",
     "text": [
      "35\n"
     ]
    }
   ],
   "source": [
    "a=10\n",
    "b=25\n",
    "print(a+b)"
   ]
  },
  {
   "cell_type": "code",
   "execution_count": 24,
   "id": "961e095c",
   "metadata": {},
   "outputs": [
    {
     "name": "stdout",
     "output_type": "stream",
     "text": [
      "Merhaba\n",
      "Naılsın\n",
      "iyi misin?\n"
     ]
    }
   ],
   "source": [
    "print(\"Merhaba\\nNaılsın\\niyi misin?\")"
   ]
  },
  {
   "cell_type": "code",
   "execution_count": 25,
   "id": "4358456c",
   "metadata": {},
   "outputs": [
    {
     "name": "stdout",
     "output_type": "stream",
     "text": [
      "45/115/12\n"
     ]
    }
   ],
   "source": [
    "print(45,115,12, sep=\"/\")"
   ]
  },
  {
   "cell_type": "code",
   "execution_count": 26,
   "id": "773d5925",
   "metadata": {},
   "outputs": [
    {
     "name": "stdout",
     "output_type": "stream",
     "text": [
      "python\n"
     ]
    }
   ],
   "source": [
    "print(\"python\")"
   ]
  },
  {
   "cell_type": "code",
   "execution_count": 27,
   "id": "f78c70d8",
   "metadata": {},
   "outputs": [
    {
     "name": "stdout",
     "output_type": "stream",
     "text": [
      "P y t h o n\n"
     ]
    }
   ],
   "source": [
    "print(*\"Python\")"
   ]
  },
  {
   "cell_type": "code",
   "execution_count": 4,
   "id": "9c338d2a",
   "metadata": {},
   "outputs": [
    {
     "name": "stdout",
     "output_type": "stream",
     "text": [
      "p/y/t/h/o/n\n"
     ]
    }
   ],
   "source": [
    "print(*\"python\",sep = \"/\")"
   ]
  },
  {
   "cell_type": "code",
   "execution_count": 31,
   "id": "397a270f",
   "metadata": {},
   "outputs": [
    {
     "name": "stdout",
     "output_type": "stream",
     "text": [
      "T.B.M.M\n"
     ]
    }
   ],
   "source": [
    "print(\"T\",\"B\",\"M\",\"M\", sep=\".\")"
   ]
  },
  {
   "cell_type": "code",
   "execution_count": 32,
   "id": "2ba18805",
   "metadata": {},
   "outputs": [
    {
     "name": "stdout",
     "output_type": "stream",
     "text": [
      "T.B.M.M\n"
     ]
    }
   ],
   "source": [
    "print(*\"TBMM\", sep=\".\")"
   ]
  },
  {
   "cell_type": "code",
   "execution_count": 33,
   "id": "2491d73b",
   "metadata": {},
   "outputs": [
    {
     "name": "stdout",
     "output_type": "stream",
     "text": [
      "Merhaba İyi misin?\n"
     ]
    }
   ],
   "source": [
    "print(\"Merhaba İyi misin?\")"
   ]
  },
  {
   "cell_type": "code",
   "execution_count": 34,
   "id": "41b55f2c",
   "metadata": {},
   "outputs": [
    {
     "name": "stdout",
     "output_type": "stream",
     "text": [
      "Ocak\tSubat\tMart\n"
     ]
    }
   ],
   "source": [
    "print(\"Ocak\\tSubat\\tMart\")"
   ]
  },
  {
   "cell_type": "code",
   "execution_count": 35,
   "id": "274cb672",
   "metadata": {},
   "outputs": [
    {
     "name": "stdout",
     "output_type": "stream",
     "text": [
      "a\t\t\t\n"
     ]
    }
   ],
   "source": [
    "print(\"a\\t\\t\\t\")"
   ]
  },
  {
   "cell_type": "markdown",
   "id": "9ca1ebd2",
   "metadata": {},
   "source": [
    "# VERİ TÜRLERİ"
   ]
  },
  {
   "cell_type": "code",
   "execution_count": 36,
   "id": "0d25bb74",
   "metadata": {},
   "outputs": [
    {
     "data": {
      "text/plain": [
       "int"
      ]
     },
     "execution_count": 36,
     "metadata": {},
     "output_type": "execute_result"
    }
   ],
   "source": [
    "type(14)"
   ]
  },
  {
   "cell_type": "code",
   "execution_count": 37,
   "id": "5d75ec0f",
   "metadata": {},
   "outputs": [
    {
     "name": "stdout",
     "output_type": "stream",
     "text": [
      "<class 'int'>\n"
     ]
    }
   ],
   "source": [
    "x=7\n",
    "print(type(x))"
   ]
  },
  {
   "cell_type": "code",
   "execution_count": 38,
   "id": "4aeede72",
   "metadata": {},
   "outputs": [
    {
     "data": {
      "text/plain": [
       "str"
      ]
     },
     "execution_count": 38,
     "metadata": {},
     "output_type": "execute_result"
    }
   ],
   "source": [
    "type(\"Mavi\")"
   ]
  },
  {
   "cell_type": "code",
   "execution_count": 39,
   "id": "08c892da",
   "metadata": {},
   "outputs": [
    {
     "data": {
      "text/plain": [
       "float"
      ]
     },
     "execution_count": 39,
     "metadata": {},
     "output_type": "execute_result"
    }
   ],
   "source": [
    "type(3.14)"
   ]
  },
  {
   "cell_type": "code",
   "execution_count": 40,
   "id": "9828ba86",
   "metadata": {},
   "outputs": [
    {
     "name": "stdout",
     "output_type": "stream",
     "text": [
      "<class 'float'>\n"
     ]
    }
   ],
   "source": [
    "y=3.14\n",
    "print(type(y))"
   ]
  },
  {
   "cell_type": "code",
   "execution_count": 41,
   "id": "95afe087",
   "metadata": {},
   "outputs": [
    {
     "name": "stdout",
     "output_type": "stream",
     "text": [
      "<class 'str'>\n"
     ]
    }
   ],
   "source": [
    "z=\"mavi\"\n",
    "print(type(z))"
   ]
  },
  {
   "cell_type": "code",
   "execution_count": 48,
   "id": "cd763e74",
   "metadata": {},
   "outputs": [
    {
     "name": "stdout",
     "output_type": "stream",
     "text": [
      "a= <class 'str'>\n",
      "b= <class 'int'>\n",
      "c= <class 'float'>\n",
      "d= <class 'list'>\n",
      "e= <class 'range'>\n",
      "f= <class 'bool'>\n"
     ]
    }
   ],
   "source": [
    "a=\"Hello World\"\n",
    "b=20\n",
    "c=20.5\n",
    "d=[\"elma\",\"armut\",\"çilek\"]\n",
    "e=range(6)\n",
    "f=True\n",
    "\n",
    "\n",
    "print(\"a=\",type(a))\n",
    "print(\"b=\",type(b))\n",
    "print(\"c=\",type(c))\n",
    "print(\"d=\",type(d))\n",
    "print(\"e=\",type(e))\n",
    "print(\"f=\",type(f))"
   ]
  },
  {
   "cell_type": "markdown",
   "id": "9f37e2c3",
   "metadata": {},
   "source": [
    "# INPUT"
   ]
  },
  {
   "cell_type": "markdown",
   "id": "a9ddb6b4",
   "metadata": {},
   "source": [
    "#Kullanıcıdan girdi alma komutu input kullanımı"
   ]
  },
  {
   "cell_type": "code",
   "execution_count": 49,
   "id": "8f38cbbf",
   "metadata": {},
   "outputs": [
    {
     "name": "stdout",
     "output_type": "stream",
     "text": [
      "MAVİ\n"
     ]
    },
    {
     "data": {
      "text/plain": [
       "'MAVİ'"
      ]
     },
     "execution_count": 49,
     "metadata": {},
     "output_type": "execute_result"
    }
   ],
   "source": [
    "input()"
   ]
  },
  {
   "cell_type": "code",
   "execution_count": 65,
   "id": "399c1c63",
   "metadata": {},
   "outputs": [
    {
     "name": "stdout",
     "output_type": "stream",
     "text": [
      "lütfen bir sayı giriniz: 7\n"
     ]
    },
    {
     "data": {
      "text/plain": [
       "'7'"
      ]
     },
     "execution_count": 65,
     "metadata": {},
     "output_type": "execute_result"
    }
   ],
   "source": [
    "input(\"lütfen bir sayı giriniz: \")"
   ]
  },
  {
   "cell_type": "code",
   "execution_count": 64,
   "id": "d1e68ae2",
   "metadata": {},
   "outputs": [
    {
     "name": "stdout",
     "output_type": "stream",
     "text": [
      "lütfen bir sayı giriniz: 6\n",
      "kullanıcıdan giridiği deger 6\n"
     ]
    }
   ],
   "source": [
    "a=input(\"lütfen bir sayı giriniz: \")\n",
    "print(\"kullanıcıdan giridiği deger\", a)\n"
   ]
  },
  {
   "cell_type": "code",
   "execution_count": 63,
   "id": "b25db487",
   "metadata": {},
   "outputs": [
    {
     "name": "stdout",
     "output_type": "stream",
     "text": [
      "lütfen bir sayı giriniz: 4\n",
      "444\n"
     ]
    }
   ],
   "source": [
    "a=input(\"lütfen bir sayı giriniz: \")\n",
    "print(a*3)\n"
   ]
  },
  {
   "cell_type": "code",
   "execution_count": 62,
   "id": "1acf6366",
   "metadata": {
    "scrolled": true
   },
   "outputs": [
    {
     "name": "stdout",
     "output_type": "stream",
     "text": [
      "lütfen bir sayı giriniz: 8\n",
      "888\n"
     ]
    }
   ],
   "source": [
    "a=input(\"lütfen bir sayı giriniz: \")\n",
    "print(a * 3)"
   ]
  },
  {
   "cell_type": "code",
   "execution_count": 75,
   "id": "6cde0877",
   "metadata": {},
   "outputs": [
    {
     "name": "stdout",
     "output_type": "stream",
     "text": [
      "bir sayı giriniz: 5\n",
      "10\n"
     ]
    }
   ],
   "source": [
    "a=int(input(\"bir sayı giriniz: \"))\n",
    "print(a+5)"
   ]
  },
  {
   "cell_type": "code",
   "execution_count": 66,
   "id": "92bd8085",
   "metadata": {},
   "outputs": [
    {
     "name": "stdout",
     "output_type": "stream",
     "text": [
      "bir sayı giriniz: 4\n",
      "<class 'str'>\n"
     ]
    }
   ],
   "source": [
    "a=input(\"bir sayı giriniz: \")\n",
    "print(type(a))"
   ]
  },
  {
   "cell_type": "code",
   "execution_count": 70,
   "id": "4038ac4f",
   "metadata": {},
   "outputs": [
    {
     "name": "stdout",
     "output_type": "stream",
     "text": [
      "bir sayı giriniz:3.14\n",
      "<class 'float'>\n"
     ]
    }
   ],
   "source": [
    "a=float(input(\"bir sayı giriniz:\"))\n",
    "print(type(a))"
   ]
  },
  {
   "cell_type": "code",
   "execution_count": 71,
   "id": "ad745d26",
   "metadata": {},
   "outputs": [
    {
     "name": "stdout",
     "output_type": "stream",
     "text": [
      "bir sayı giriniz:5\n",
      "<class 'int'>\n"
     ]
    }
   ],
   "source": [
    "a=int(input(\"bir sayı giriniz:\"))\n",
    "print(type(a))"
   ]
  },
  {
   "cell_type": "code",
   "execution_count": 74,
   "id": "709a0014",
   "metadata": {},
   "outputs": [
    {
     "name": "stdout",
     "output_type": "stream",
     "text": [
      "bir sayı giriniz: 8\n",
      "24.0\n"
     ]
    }
   ],
   "source": [
    "a=float(input(\"bir sayı giriniz: \"))\n",
    "print(a*3)"
   ]
  },
  {
   "cell_type": "code",
   "execution_count": 77,
   "id": "4b323ae0",
   "metadata": {},
   "outputs": [
    {
     "name": "stdout",
     "output_type": "stream",
     "text": [
      "bir sayı giriniz: 15\n",
      "bir sayı giriniz: 23\n",
      "bir sayı giriniz: 88\n",
      "126\n"
     ]
    }
   ],
   "source": [
    "a=int(input(\"bir sayı giriniz: \"))\n",
    "b=int(input(\"bir sayı giriniz: \"))\n",
    "c=int(input(\"bir sayı giriniz: \"))\n",
    "print(a+b+c)"
   ]
  },
  {
   "cell_type": "markdown",
   "id": "d1a58147",
   "metadata": {},
   "source": [
    "# MATEMATİKSEL OPERATÖRLER"
   ]
  },
  {
   "cell_type": "code",
   "execution_count": 78,
   "id": "0b3b8517",
   "metadata": {},
   "outputs": [
    {
     "data": {
      "text/plain": [
       "26"
      ]
     },
     "execution_count": 78,
     "metadata": {},
     "output_type": "execute_result"
    }
   ],
   "source": [
    "#Toplama\n",
    "a=14\n",
    "b=12\n",
    "a+b"
   ]
  },
  {
   "cell_type": "code",
   "execution_count": 79,
   "id": "99354f5b",
   "metadata": {},
   "outputs": [
    {
     "data": {
      "text/plain": [
       "13"
      ]
     },
     "execution_count": 79,
     "metadata": {},
     "output_type": "execute_result"
    }
   ],
   "source": [
    "#Çıkarma\n",
    "a=25\n",
    "b=12\n",
    "a-b"
   ]
  },
  {
   "cell_type": "code",
   "execution_count": 80,
   "id": "dce62c29",
   "metadata": {},
   "outputs": [
    {
     "data": {
      "text/plain": [
       "50"
      ]
     },
     "execution_count": 80,
     "metadata": {},
     "output_type": "execute_result"
    }
   ],
   "source": [
    "#Çarpma\n",
    "a=25\n",
    "b=2\n",
    "a*b"
   ]
  },
  {
   "cell_type": "code",
   "execution_count": 81,
   "id": "6955821e",
   "metadata": {},
   "outputs": [
    {
     "data": {
      "text/plain": [
       "10.0"
      ]
     },
     "execution_count": 81,
     "metadata": {},
     "output_type": "execute_result"
    }
   ],
   "source": [
    "#Bölme\n",
    "a=30\n",
    "b=3\n",
    "a/b"
   ]
  },
  {
   "cell_type": "code",
   "execution_count": 83,
   "id": "4e0aa8fd",
   "metadata": {},
   "outputs": [
    {
     "data": {
      "text/plain": [
       "3"
      ]
     },
     "execution_count": 83,
     "metadata": {},
     "output_type": "execute_result"
    }
   ],
   "source": [
    "#13'ün 4 ile bölümünden kalan bölüm sonuc 3tür.\n",
    "a=13\n",
    "b=4\n",
    "a//b"
   ]
  },
  {
   "cell_type": "code",
   "execution_count": 84,
   "id": "b56e04c1",
   "metadata": {},
   "outputs": [
    {
     "data": {
      "text/plain": [
       "1"
      ]
     },
     "execution_count": 84,
     "metadata": {},
     "output_type": "execute_result"
    }
   ],
   "source": [
    "#13'ün 4 ile bölümünden kalan  sonuc 1tür.\n",
    "a=13\n",
    "b=4\n",
    "a%b"
   ]
  },
  {
   "cell_type": "code",
   "execution_count": 85,
   "id": "2095e68b",
   "metadata": {},
   "outputs": [
    {
     "data": {
      "text/plain": [
       "64"
      ]
     },
     "execution_count": 85,
     "metadata": {},
     "output_type": "execute_result"
    }
   ],
   "source": [
    "#ÜS ALMA 4^3\n",
    "a=4\n",
    "b=3\n",
    "a**b"
   ]
  },
  {
   "cell_type": "code",
   "execution_count": 86,
   "id": "625230b0",
   "metadata": {},
   "outputs": [
    {
     "data": {
      "text/plain": [
       "-4"
      ]
     },
     "execution_count": 86,
     "metadata": {},
     "output_type": "execute_result"
    }
   ],
   "source": [
    "#işaret değiştirme\n",
    "a=4\n",
    "-a"
   ]
  },
  {
   "cell_type": "code",
   "execution_count": 87,
   "id": "0e57b860",
   "metadata": {},
   "outputs": [
    {
     "data": {
      "text/plain": [
       "-4.0"
      ]
     },
     "execution_count": 87,
     "metadata": {},
     "output_type": "execute_result"
    }
   ],
   "source": [
    "8+4*3/2-18"
   ]
  },
  {
   "cell_type": "code",
   "execution_count": 2,
   "id": "a969f5f8",
   "metadata": {},
   "outputs": [
    {
     "name": "stdout",
     "output_type": "stream",
     "text": [
      "m.a.v.i. .d.e.r.s.h.a.n.e.m\n"
     ]
    }
   ],
   "source": [
    "print(*\"mavi dershanem\", sep=\".\")"
   ]
  },
  {
   "cell_type": "code",
   "execution_count": 4,
   "id": "f4effccd",
   "metadata": {},
   "outputs": [
    {
     "name": "stdout",
     "output_type": "stream",
     "text": [
      "<class 'str'>\n"
     ]
    }
   ],
   "source": [
    "yıl=\"2020\"\n",
    "print(type(yıl))"
   ]
  },
  {
   "cell_type": "code",
   "execution_count": 5,
   "id": "0be7ddc9",
   "metadata": {},
   "outputs": [
    {
     "name": "stdout",
     "output_type": "stream",
     "text": [
      "2\n"
     ]
    }
   ],
   "source": [
    "a= 14\n",
    "b=6\n",
    "c= a% b\n",
    "print(c)"
   ]
  },
  {
   "cell_type": "code",
   "execution_count": 6,
   "id": "3b9a7ba5",
   "metadata": {},
   "outputs": [
    {
     "name": "stdout",
     "output_type": "stream",
     "text": [
      "Mavi Dershanem\n"
     ]
    }
   ],
   "source": [
    "a=\"Mavi\"\n",
    "b=\"Dershanem\"\n",
    "print(a,b)"
   ]
  },
  {
   "cell_type": "code",
   "execution_count": 7,
   "id": "5a96b279",
   "metadata": {},
   "outputs": [
    {
     "name": "stdout",
     "output_type": "stream",
     "text": [
      "[1, 2, ['M', 'a', 'v', 'i'], 4, 5, 6, [0, 9]]\n"
     ]
    }
   ],
   "source": [
    "liste1=[1,2,3,4,5,6]\n",
    "liste2=[0,9]\n",
    "liste3 = list(\"Mavi\")\n",
    "liste1.append(liste2)\n",
    "liste1.insert(2,liste3)\n",
    "liste1.pop(3)\n",
    "print(liste1)"
   ]
  },
  {
   "cell_type": "code",
   "execution_count": 6,
   "id": "f6504d27",
   "metadata": {},
   "outputs": [],
   "source": [
    "strone =str(\"Mavi\")\n",
    "strTwo=\"Mavi\"\n",
    "\n"
   ]
  },
  {
   "cell_type": "code",
   "execution_count": 9,
   "id": "6c1c3e3b",
   "metadata": {},
   "outputs": [
    {
     "name": "stdout",
     "output_type": "stream",
     "text": [
      "[5, 4, 0, 'M', 'a', 'v', 'i', 'M', 'a', 'v', 'i']\n"
     ]
    }
   ],
   "source": [
    "x= [3,8,5,4,0,1]\n",
    "y=list(\"Mavi\")\n",
    "z= x[2:5]+y*2\n",
    "print(z)"
   ]
  },
  {
   "cell_type": "code",
   "execution_count": 10,
   "id": "28e4cfa4",
   "metadata": {},
   "outputs": [
    {
     "name": "stdout",
     "output_type": "stream",
     "text": [
      "M a v i Dershanem-Mavi T i m\n"
     ]
    }
   ],
   "source": [
    "print(*\"Mavi\", \"Dershanem\", end=\"-\")\n",
    "print(\"Mavi\",*\"Tim\")"
   ]
  },
  {
   "cell_type": "code",
   "execution_count": 11,
   "id": "079dcbfc",
   "metadata": {},
   "outputs": [
    {
     "name": "stdout",
     "output_type": "stream",
     "text": [
      "<class 'float'>\n"
     ]
    }
   ],
   "source": [
    "deger=10.5\n",
    "print(type(deger))"
   ]
  },
  {
   "cell_type": "code",
   "execution_count": 12,
   "id": "59fbda08",
   "metadata": {},
   "outputs": [
    {
     "name": "stdout",
     "output_type": "stream",
     "text": [
      "17.0\n"
     ]
    }
   ],
   "source": [
    "a=2\n",
    "b=5\n",
    "c= b**a\n",
    "b= c/b\n",
    "c=b*a\n",
    "d=a+b+c\n",
    "print(d)"
   ]
  },
  {
   "cell_type": "code",
   "execution_count": 15,
   "id": "c4bc8989",
   "metadata": {},
   "outputs": [
    {
     "name": "stdout",
     "output_type": "stream",
     "text": [
      "irelmitiğE mılı\n"
     ]
    }
   ],
   "source": [
    "a= \"Mavi Derhanem Yazılım Eğitimleri\"\n",
    "print(a[:16:-1])"
   ]
  },
  {
   "cell_type": "code",
   "execution_count": 16,
   "id": "52e89fe4",
   "metadata": {},
   "outputs": [
    {
     "name": "stdout",
     "output_type": "stream",
     "text": [
      "34\n"
     ]
    }
   ],
   "source": [
    "a=\"Python\"\n",
    "b=\"Eğitimleri\"\n",
    "c=len(a*4)\n",
    "print(c+len(b))"
   ]
  },
  {
   "cell_type": "code",
   "execution_count": 18,
   "id": "61d3ba0d",
   "metadata": {},
   "outputs": [
    {
     "name": "stdout",
     "output_type": "stream",
     "text": [
      "5 30\n"
     ]
    }
   ],
   "source": [
    "a= '5'\n",
    "b = 5\n",
    "c= b*int(a)\n",
    "print(a, b+c)"
   ]
  },
  {
   "cell_type": "code",
   "execution_count": 19,
   "id": "ea5566cb",
   "metadata": {},
   "outputs": [
    {
     "name": "stdout",
     "output_type": "stream",
     "text": [
      "55555\n"
     ]
    }
   ],
   "source": [
    "a='5'\n",
    "c=a*5\n",
    "print(c)"
   ]
  },
  {
   "cell_type": "code",
   "execution_count": 20,
   "id": "84202018",
   "metadata": {},
   "outputs": [
    {
     "name": "stdout",
     "output_type": "stream",
     "text": [
      "<class 'int'>\n"
     ]
    }
   ],
   "source": [
    "print(type(1))"
   ]
  },
  {
   "cell_type": "code",
   "execution_count": 21,
   "id": "08b4a8f6",
   "metadata": {},
   "outputs": [
    {
     "name": "stdout",
     "output_type": "stream",
     "text": [
      "Mavi-D-e-r-h-a-n-e-m\n"
     ]
    }
   ],
   "source": [
    "print(\"Mavi\",*\"Derhanem\", sep=\"-\")"
   ]
  },
  {
   "cell_type": "code",
   "execution_count": 24,
   "id": "f318b1bc",
   "metadata": {},
   "outputs": [
    {
     "data": {
      "text/plain": [
       "{'armut', 'elma', 'çilek'}"
      ]
     },
     "execution_count": 24,
     "metadata": {},
     "output_type": "execute_result"
    }
   ],
   "source": [
    "{\"elma\", \"armut\",\"çilek\"}"
   ]
  },
  {
   "cell_type": "code",
   "execution_count": 1,
   "id": "e8857038",
   "metadata": {},
   "outputs": [
    {
     "name": "stdout",
     "output_type": "stream",
     "text": [
      "<class 'str'>\n"
     ]
    }
   ],
   "source": [
    "yıl=\"20.20\"\n",
    "print(type(yıl))"
   ]
  },
  {
   "cell_type": "code",
   "execution_count": null,
   "id": "b7abc640",
   "metadata": {},
   "outputs": [],
   "source": []
  }
 ],
 "metadata": {
  "kernelspec": {
   "display_name": "Python 3.10.5 64-bit",
   "language": "python",
   "name": "python3"
  },
  "language_info": {
   "codemirror_mode": {
    "name": "ipython",
    "version": 3
   },
   "file_extension": ".py",
   "mimetype": "text/x-python",
   "name": "python",
   "nbconvert_exporter": "python",
   "pygments_lexer": "ipython3",
   "version": "3.10.5"
  },
  "vscode": {
   "interpreter": {
    "hash": "b4044981413740eee27414ea3226f4e43a5d1b63348b3154fc0b089b38ce4bb9"
   }
  }
 },
 "nbformat": 4,
 "nbformat_minor": 5
}
