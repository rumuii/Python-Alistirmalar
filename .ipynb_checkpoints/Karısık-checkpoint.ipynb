{
 "cells": [
  {
   "cell_type": "code",
   "execution_count": 1,
   "id": "cd9f8744",
   "metadata": {},
   "outputs": [
    {
     "name": "stdout",
     "output_type": "stream",
     "text": [
      "hello rüm\n"
     ]
    }
   ],
   "source": [
    "print(\"hello rüm\")"
   ]
  },
  {
   "cell_type": "code",
   "execution_count": 1,
   "id": "a6ac6287",
   "metadata": {},
   "outputs": [
    {
     "name": "stdout",
     "output_type": "stream",
     "text": [
      "35\n"
     ]
    }
   ],
   "source": [
    "print(35)"
   ]
  },
  {
   "cell_type": "code",
   "execution_count": 2,
   "id": "4864e4de",
   "metadata": {},
   "outputs": [
    {
     "name": "stdout",
     "output_type": "stream",
     "text": [
      "25\n"
     ]
    }
   ],
   "source": [
    "a=15\n",
    "b=10\n",
    "print(a+b)"
   ]
  },
  {
   "cell_type": "code",
   "execution_count": 3,
   "id": "e721ffbd",
   "metadata": {},
   "outputs": [
    {
     "name": "stdout",
     "output_type": "stream",
     "text": [
      "mavi\n"
     ]
    },
    {
     "data": {
      "text/plain": [
       "'mavi'"
      ]
     },
     "execution_count": 3,
     "metadata": {},
     "output_type": "execute_result"
    }
   ],
   "source": [
    "input()"
   ]
  },
  {
   "cell_type": "code",
   "execution_count": 1,
   "id": "7ea6f1e6",
   "metadata": {},
   "outputs": [
    {
     "name": "stdout",
     "output_type": "stream",
     "text": [
      "3.14\n"
     ]
    }
   ],
   "source": [
    "print(3.14)"
   ]
  },
  {
   "cell_type": "code",
   "execution_count": 3,
   "id": "7458bee3",
   "metadata": {},
   "outputs": [
    {
     "name": "stdout",
     "output_type": "stream",
     "text": [
      "Mavi dershanem\n"
     ]
    }
   ],
   "source": [
    "print(\"Mavi \"+\"dershanem\")"
   ]
  },
  {
   "cell_type": "code",
   "execution_count": 4,
   "id": "0fad4dcf",
   "metadata": {},
   "outputs": [
    {
     "name": "stdout",
     "output_type": "stream",
     "text": [
      "30\n"
     ]
    }
   ],
   "source": [
    "print(16+14)"
   ]
  },
  {
   "cell_type": "code",
   "execution_count": 5,
   "id": "50364eb3",
   "metadata": {},
   "outputs": [
    {
     "name": "stdout",
     "output_type": "stream",
     "text": [
      "35 3.14 Merhaba ptyhon\n"
     ]
    }
   ],
   "source": [
    "print(35,3.14,\"Merhaba\",\"ptyhon\")"
   ]
  },
  {
   "cell_type": "code",
   "execution_count": 6,
   "id": "76889967",
   "metadata": {},
   "outputs": [
    {
     "name": "stdout",
     "output_type": "stream",
     "text": [
      "25\n"
     ]
    }
   ],
   "source": [
    "a=15\n",
    "b=10\n",
    "print(a+b)"
   ]
  },
  {
   "cell_type": "code",
   "execution_count": 7,
   "id": "f84876ed",
   "metadata": {},
   "outputs": [
    {
     "name": "stdout",
     "output_type": "stream",
     "text": [
      "Merhaba\n",
      "Nasılsın\n",
      "İyi misin\n"
     ]
    }
   ],
   "source": [
    "print(\"Merhaba\\nNasılsın\\nİyi misin\")"
   ]
  },
  {
   "cell_type": "code",
   "execution_count": 8,
   "id": "e91c520e",
   "metadata": {},
   "outputs": [
    {
     "name": "stdout",
     "output_type": "stream",
     "text": [
      "35/43/54/65\n"
     ]
    }
   ],
   "source": [
    "print(35,43,54,65,sep =\"/\")"
   ]
  },
  {
   "cell_type": "code",
   "execution_count": 9,
   "id": "cdb82a5d",
   "metadata": {},
   "outputs": [
    {
     "name": "stdout",
     "output_type": "stream",
     "text": [
      "ali\n",
      "veli\n",
      "cemil\n"
     ]
    }
   ],
   "source": [
    "print(\"ali\",\"veli\",\"cemil\",sep=\"\\n\")"
   ]
  },
  {
   "cell_type": "code",
   "execution_count": 12,
   "id": "4f4f56fc",
   "metadata": {},
   "outputs": [
    {
     "name": "stdout",
     "output_type": "stream",
     "text": [
      "Python\n"
     ]
    }
   ],
   "source": [
    "print(\"Python\")"
   ]
  },
  {
   "cell_type": "code",
   "execution_count": 13,
   "id": "8646c9fc",
   "metadata": {},
   "outputs": [
    {
     "name": "stdout",
     "output_type": "stream",
     "text": [
      "P y t h o n\n"
     ]
    }
   ],
   "source": [
    "print(*\"Python\")"
   ]
  },
  {
   "cell_type": "code",
   "execution_count": 14,
   "id": "81cf18d8",
   "metadata": {},
   "outputs": [
    {
     "name": "stdout",
     "output_type": "stream",
     "text": [
      "P/y/t/h/o/n\n"
     ]
    }
   ],
   "source": [
    "print(*\"Python\",sep =\"/\")"
   ]
  },
  {
   "cell_type": "code",
   "execution_count": 17,
   "id": "c6bde2e1",
   "metadata": {},
   "outputs": [
    {
     "name": "stdout",
     "output_type": "stream",
     "text": [
      "T.B.M.M\n"
     ]
    }
   ],
   "source": [
    "print(\"T\",\"B\",\"M\",\"M\", sep =\".\")"
   ]
  },
  {
   "cell_type": "code",
   "execution_count": 19,
   "id": "bac05db1",
   "metadata": {},
   "outputs": [
    {
     "name": "stdout",
     "output_type": "stream",
     "text": [
      "T.B.M.M\n"
     ]
    }
   ],
   "source": [
    "print(*\"TBMM\",sep =\".\")"
   ]
  },
  {
   "cell_type": "code",
   "execution_count": 20,
   "id": "d1a32935",
   "metadata": {},
   "outputs": [
    {
     "name": "stdout",
     "output_type": "stream",
     "text": [
      "Merhaba İyi misin?\n"
     ]
    }
   ],
   "source": [
    "print(\"Merhaba İyi misin?\")"
   ]
  },
  {
   "cell_type": "code",
   "execution_count": 21,
   "id": "29a43ad0",
   "metadata": {},
   "outputs": [
    {
     "name": "stdout",
     "output_type": "stream",
     "text": [
      "Ocak\tMart\tŞubat\n"
     ]
    }
   ],
   "source": [
    "print(\"Ocak\\tMart\\tŞubat\")"
   ]
  },
  {
   "cell_type": "code",
   "execution_count": 23,
   "id": "fba95ef3",
   "metadata": {},
   "outputs": [
    {
     "name": "stdout",
     "output_type": "stream",
     "text": [
      "a\t\t\t\t\t\t\t\n"
     ]
    }
   ],
   "source": [
    "print(\"a\\t\\t\\t\\t\\t\\t\\t\")"
   ]
  },
  {
   "cell_type": "code",
   "execution_count": 25,
   "id": "66260022",
   "metadata": {},
   "outputs": [
    {
     "data": {
      "text/plain": [
       "int"
      ]
     },
     "execution_count": 25,
     "metadata": {},
     "output_type": "execute_result"
    }
   ],
   "source": [
    "type(34)"
   ]
  },
  {
   "cell_type": "code",
   "execution_count": 26,
   "id": "9c02fc33",
   "metadata": {},
   "outputs": [
    {
     "name": "stdout",
     "output_type": "stream",
     "text": [
      "<class 'int'>\n"
     ]
    }
   ],
   "source": [
    "x = 7\n",
    "print  (type(x))"
   ]
  },
  {
   "cell_type": "code",
   "execution_count": 27,
   "id": "1c19c015",
   "metadata": {},
   "outputs": [
    {
     "data": {
      "text/plain": [
       "float"
      ]
     },
     "execution_count": 27,
     "metadata": {},
     "output_type": "execute_result"
    }
   ],
   "source": [
    "type(3.14)"
   ]
  },
  {
   "cell_type": "code",
   "execution_count": 28,
   "id": "f410d194",
   "metadata": {},
   "outputs": [],
   "source": [
    "y=5.14"
   ]
  },
  {
   "cell_type": "code",
   "execution_count": 29,
   "id": "16c2e6b0",
   "metadata": {},
   "outputs": [
    {
     "name": "stdout",
     "output_type": "stream",
     "text": [
      "<class 'float'>\n"
     ]
    }
   ],
   "source": [
    "print (type(y))"
   ]
  },
  {
   "cell_type": "code",
   "execution_count": 30,
   "id": "0497beef",
   "metadata": {},
   "outputs": [
    {
     "data": {
      "text/plain": [
       "str"
      ]
     },
     "execution_count": 30,
     "metadata": {},
     "output_type": "execute_result"
    }
   ],
   "source": [
    "type(\"Mavi\")"
   ]
  },
  {
   "cell_type": "code",
   "execution_count": 31,
   "id": "fa6eb9d2",
   "metadata": {},
   "outputs": [
    {
     "name": "stdout",
     "output_type": "stream",
     "text": [
      "<class 'str'>\n"
     ]
    }
   ],
   "source": [
    "z=\"Mavi\"\n",
    "print(type(z))"
   ]
  },
  {
   "cell_type": "code",
   "execution_count": 4,
   "id": "2f090fa5",
   "metadata": {},
   "outputs": [
    {
     "data": {
      "text/plain": [
       "'hll'"
      ]
     },
     "execution_count": 4,
     "metadata": {},
     "output_type": "execute_result"
    }
   ],
   "source": [
    "a= \"halil ibrahim\"\n",
    "a [0:5:2]"
   ]
  },
  {
   "cell_type": "code",
   "execution_count": 8,
   "id": "508cd36b",
   "metadata": {
    "scrolled": true
   },
   "outputs": [
    {
     "data": {
      "text/plain": [
       "'rea'"
      ]
     },
     "execution_count": 8,
     "metadata": {},
     "output_type": "execute_result"
    }
   ],
   "source": [
    "b= \"rümeysa ergen\"\n",
    "b [0:7:3]"
   ]
  },
  {
   "cell_type": "markdown",
   "id": "5415b924",
   "metadata": {},
   "source": [
    "# ödev 1 soru"
   ]
  },
  {
   "cell_type": "code",
   "execution_count": 13,
   "id": "fec495f5",
   "metadata": {},
   "outputs": [
    {
     "name": "stdout",
     "output_type": "stream",
     "text": [
      "birinci değer gir30\n",
      "ikinci değer gir20\n",
      "ücüncü değer gir10\n",
      "en büyük değer 30\n"
     ]
    }
   ],
   "source": [
    "x =int(input(\"birinci değer gir\"))\n",
    "y =int(input(\"ikinci değer gir\"))\n",
    "z =int(input(\"ücüncü değer gir\"))\n",
    "if x>y or x>z:\n",
    "    print(\"en büyük değer\",x)\n",
    "elif y>x or y>z:\n",
    "    print(\"en büyük değer\",y)\n",
    "elif z>x or z>y:\n",
    "    print(\"en büyük değer\",z)\n",
    "else:\n",
    "    print(\"tekrar dene\");"
   ]
  },
  {
   "cell_type": "code",
   "execution_count": 13,
   "id": "b2dd42db",
   "metadata": {},
   "outputs": [
    {
     "name": "stdout",
     "output_type": "stream",
     "text": [
      "birinci değer gir40\n",
      "ikinci değer gir50\n",
      "ücüncü değer gir60\n",
      "en büyük değer 60\n"
     ]
    }
   ],
   "source": [
    "x = int(input(\"birinci değer gir\"))\n",
    "y = int(input(\"ikinci değer gir\"))\n",
    "z = int(input(\"ücüncü değer gir\"))\n",
    "if x>y and x>z:\n",
    "    print(\"en büyük değer\",x)\n",
    "elif y>x and y>z:\n",
    "    print(\"en büyük değer\",y)\n",
    "elif z>x and z>y:\n",
    "    print(\"en büyük değer\",z)\n",
    "else:\n",
    "    print(\"tekrar dene\")"
   ]
  },
  {
   "cell_type": "code",
   "execution_count": 14,
   "id": "c4b9d539",
   "metadata": {},
   "outputs": [
    {
     "name": "stdout",
     "output_type": "stream",
     "text": [
      "birinci değer gir40\n",
      "ikinci değer gir50\n",
      "ücüncü değer gir60\n",
      "en büyük değer 50\n"
     ]
    }
   ],
   "source": [
    "x =int(input(\"birinci değer gir\"))\n",
    "y =int(input(\"ikinci değer gir\"))\n",
    "z =int(input(\"ücüncü değer gir\"))\n",
    "if x>y or x>z:\n",
    "    print(\"en büyük değer\",x)\n",
    "elif y>x or y>z:\n",
    "    print(\"en büyük değer\",y)\n",
    "elif z>x or z>y:\n",
    "    print(\"en büyük değer\",z)\n",
    "else:\n",
    "    print(\"tekrar dene\")"
   ]
  },
  {
   "cell_type": "code",
   "execution_count": 18,
   "id": "10d1b829",
   "metadata": {},
   "outputs": [
    {
     "name": "stdout",
     "output_type": "stream",
     "text": [
      "Kullanıcı adınız: rümeysa\n",
      "Teşekkürler!\n"
     ]
    }
   ],
   "source": [
    "kullanıcı = input(\"Kullanıcı adınız: \")\n",
    "\n",
    "if kullanıcı:\n",
    "    print(\"Teşekkürler!\")"
   ]
  },
  {
   "cell_type": "code",
   "execution_count": 17,
   "id": "5537d08b",
   "metadata": {},
   "outputs": [
    {
     "name": "stdout",
     "output_type": "stream",
     "text": [
      "Notunuz: 60\n",
      "D aldınız.\n"
     ]
    }
   ],
   "source": [
    "x = int(input(\"Notunuz: \"))\n",
    "\n",
    "if x > 100 or x < 0:\n",
    "    print(\"Böyle bir not yok\")\n",
    "    \n",
    "elif 90 <= x <=100:\n",
    "    print(\"A aldınız.\")\n",
    "    \n",
    "elif 80 <= x <=89:\n",
    "    print(\"B aldınız.\")\n",
    "    \n",
    "elif 70 <= x <=79:\n",
    "    print(\"C aldınız.\")\n",
    "    \n",
    "elif 60 <= x <=69:\n",
    "    print(\"D aldınız.\")\n",
    "\n",
    "elif 0 <= x <=59: \n",
    "    print(\"F kaldınız.\")"
   ]
  },
  {
   "cell_type": "code",
   "execution_count": 6,
   "id": "6daefe1b",
   "metadata": {},
   "outputs": [
    {
     "name": "stdout",
     "output_type": "stream",
     "text": [
      "Birinci sınav notunu gir: 50\n",
      "ikinci sınav notunu gir: 10\n",
      "Final sınav notunu gir: 50\n",
      "Kaldı. Bir daha dene\n"
     ]
    }
   ],
   "source": [
    "s1=int (input(\"Birinci sınav notunu gir: \"))\n",
    "s2= int (input(\"ikinci sınav notunu gir: \"))\n",
    "f = int (input(\"Final sınav notunu gir: \"))\n",
    "dnotu=int(((s1+s2)/2)*0.4)+(f*0.6)\n",
    "\n",
    "if dnotu<50:\n",
    "    print(\"Kaldı.\", \"Bir daha dene\")\n",
    "\n",
    "elif dnotu>=50:\n",
    "    print(\"Geçti.\", \"Tebrikler\")\n",
    "    "
   ]
  },
  {
   "cell_type": "code",
   "execution_count": 7,
   "id": "9782ad7d",
   "metadata": {},
   "outputs": [
    {
     "name": "stdout",
     "output_type": "stream",
     "text": [
      "Birinci sınav notunu gir: 50\n",
      "ikinci sınav notunu gir: 10\n",
      "Final sınav notunu gir: 40\n",
      "Kaldı. Bir daha dene\n"
     ]
    }
   ],
   "source": [
    "s1=int (input(\"Birinci sınav notunu gir: \"))\n",
    "s2= int (input(\"ikinci sınav notunu gir: \"))\n",
    "f = int (input(\"Final sınav notunu gir: \"))\n",
    "dnotu=int(((s1+s2)/2)*0.4)+(f*0.6)\n",
    "\n",
    "if dnotu<50:\n",
    "    print(\"Kaldı.\", \"Bir daha dene\")\n",
    "\n",
    "elif dnotu>=50:\n",
    "    print(\"Geçti.\", \"Tebrikler\")"
   ]
  },
  {
   "cell_type": "code",
   "execution_count": 8,
   "id": "70749ec9",
   "metadata": {},
   "outputs": [
    {
     "name": "stdout",
     "output_type": "stream",
     "text": [
      "Birinci sınav notunu gir: 80\n",
      "ikinci sınav notunu gir: 90\n",
      "Final sınav notunu gir: 60\n",
      "Geçti. Tebrikler\n"
     ]
    }
   ],
   "source": [
    "s1=int (input(\"Birinci sınav notunu gir: \"))\n",
    "s2= int (input(\"ikinci sınav notunu gir: \"))\n",
    "f = int (input(\"Final sınav notunu gir: \"))\n",
    "dnotu=int(((s1+s2)/2)*0.4)+(f*0.6)\n",
    "\n",
    "if dnotu<50:\n",
    "    print(\"Kaldı.\", \"Bir daha dene\")\n",
    "\n",
    "elif dnotu>=50:\n",
    "    print(\"Geçti.\", \"Tebrikler\")"
   ]
  },
  {
   "cell_type": "code",
   "execution_count": 1,
   "id": "795c236c",
   "metadata": {},
   "outputs": [
    {
     "name": "stdout",
     "output_type": "stream",
     "text": [
      "Birinci sınav notunu gir: 10\n",
      "ikinci sınav notunu gir: 50\n",
      "Final sınav notunu gir: 60\n"
     ]
    },
    {
     "ename": "SyntaxError",
     "evalue": "'break' outside loop (Temp/ipykernel_12852/3823011337.py, line 7)",
     "output_type": "error",
     "traceback": [
      "\u001b[1;36m  File \u001b[1;32m\"C:\\Users\\GIGABYTE\\AppData\\Local\\Temp/ipykernel_12852/3823011337.py\"\u001b[1;36m, line \u001b[1;32m7\u001b[0m\n\u001b[1;33m    break\u001b[0m\n\u001b[1;37m    ^\u001b[0m\n\u001b[1;31mSyntaxError\u001b[0m\u001b[1;31m:\u001b[0m 'break' outside loop\n"
     ]
    }
   ],
   "source": [
    "s1= int(input(\"Birinci sınav notunu gir: \"))\n",
    "s2= int(input(\"ikinci sınav notunu gir: \"))\n",
    "f = int(input(\"Final sınav notunu gir: \"))\n",
    "dnotu=int(((s1+s2)/2)*0.4)+(f*0.6)\n",
    "\n",
    "if dnotu<50:\n",
    "    break\n",
    "\n",
    "elif dnotu>=50:\n",
    "    print(\"Geçti.\", \"Tebrikler\")\n",
    "    break"
   ]
  },
  {
   "cell_type": "code",
   "execution_count": 3,
   "id": "acf43daf",
   "metadata": {},
   "outputs": [
    {
     "name": "stdout",
     "output_type": "stream",
     "text": [
      "a sayısını gir: 0\n",
      "Bu sayı sıfırdır\n"
     ]
    }
   ],
   "source": [
    "a=int(input(\"a sayısını gir: \"))\n",
    "\n",
    "if   a>0:\n",
    "    print(\"Bu sayı pozitiftir\")\n",
    "\n",
    "elif a<0:\n",
    "    print(\"Bu sayı negatiftir\")\n",
    "    \n",
    "elif a==0:\n",
    "    print(\"Bu sayı sıfırdır\")\n",
    "    \n",
    "else:\n",
    "    print(\"tekrar dene\")"
   ]
  },
  {
   "cell_type": "code",
   "execution_count": 2,
   "id": "4449abc3",
   "metadata": {},
   "outputs": [
    {
     "name": "stdout",
     "output_type": "stream",
     "text": [
      "Plaka yazınız: 2\n"
     ]
    },
    {
     "ename": "NameError",
     "evalue": "name 'sözlük' is not defined",
     "output_type": "error",
     "traceback": [
      "\u001b[1;31m---------------------------------------------------------------------------\u001b[0m",
      "\u001b[1;31mNameError\u001b[0m                                 Traceback (most recent call last)",
      "\u001b[1;32m~\\AppData\\Local\\Temp/ipykernel_6624/3680061661.py\u001b[0m in \u001b[0;36m<module>\u001b[1;34m\u001b[0m\n\u001b[0;32m      4\u001b[0m     \u001b[1;32mfor\u001b[0m \u001b[1;33m(\u001b[0m\u001b[0mi\u001b[0m\u001b[1;33m,\u001b[0m\u001b[0mj\u001b[0m\u001b[1;33m)\u001b[0m \u001b[1;32min\u001b[0m \u001b[0msözlük\u001b[0m\u001b[1;33m.\u001b[0m\u001b[0mitems\u001b[0m\u001b[1;33m(\u001b[0m\u001b[1;33m)\u001b[0m\u001b[1;33m:\u001b[0m\u001b[1;33m\u001b[0m\u001b[1;33m\u001b[0m\u001b[0m\n\u001b[0;32m      5\u001b[0m         \u001b[0mprint\u001b[0m\u001b[1;33m(\u001b[0m\u001b[1;34m\"Plakabul: \"\u001b[0m\u001b[1;33m,\u001b[0m\u001b[0mi\u001b[0m\u001b[1;33m,\u001b[0m \u001b[1;34m\"plaka:\"\u001b[0m\u001b[1;33m,\u001b[0m\u001b[0mj\u001b[0m\u001b[1;33m)\u001b[0m\u001b[1;33m\u001b[0m\u001b[1;33m\u001b[0m\u001b[0m\n\u001b[1;32m----> 6\u001b[1;33m \u001b[0mbul\u001b[0m\u001b[1;33m(\u001b[0m\u001b[1;33m)\u001b[0m\u001b[1;33m\u001b[0m\u001b[1;33m\u001b[0m\u001b[0m\n\u001b[0m",
      "\u001b[1;32m~\\AppData\\Local\\Temp/ipykernel_6624/3680061661.py\u001b[0m in \u001b[0;36mbul\u001b[1;34m()\u001b[0m\n\u001b[0;32m      2\u001b[0m     \u001b[0ma\u001b[0m\u001b[1;33m=\u001b[0m\u001b[0minput\u001b[0m\u001b[1;33m(\u001b[0m\u001b[1;34m\"Plaka yazınız: \"\u001b[0m\u001b[1;33m)\u001b[0m\u001b[1;33m\u001b[0m\u001b[1;33m\u001b[0m\u001b[0m\n\u001b[0;32m      3\u001b[0m     \u001b[0mplaka\u001b[0m \u001b[1;33m=\u001b[0m\u001b[1;33m{\u001b[0m\u001b[1;34m\"adana\"\u001b[0m\u001b[1;33m:\u001b[0m\u001b[1;34m\"01\"\u001b[0m\u001b[1;33m,\u001b[0m\u001b[1;34m\"adıyaman\"\u001b[0m\u001b[1;33m:\u001b[0m\u001b[1;34m\"2\"\u001b[0m\u001b[1;33m,\u001b[0m \u001b[1;34m\"afyon\"\u001b[0m\u001b[1;33m:\u001b[0m\u001b[1;34m\"3\"\u001b[0m\u001b[1;33m}\u001b[0m\u001b[1;33m\u001b[0m\u001b[1;33m\u001b[0m\u001b[0m\n\u001b[1;32m----> 4\u001b[1;33m     \u001b[1;32mfor\u001b[0m \u001b[1;33m(\u001b[0m\u001b[0mi\u001b[0m\u001b[1;33m,\u001b[0m\u001b[0mj\u001b[0m\u001b[1;33m)\u001b[0m \u001b[1;32min\u001b[0m \u001b[0msözlük\u001b[0m\u001b[1;33m.\u001b[0m\u001b[0mitems\u001b[0m\u001b[1;33m(\u001b[0m\u001b[1;33m)\u001b[0m\u001b[1;33m:\u001b[0m\u001b[1;33m\u001b[0m\u001b[1;33m\u001b[0m\u001b[0m\n\u001b[0m\u001b[0;32m      5\u001b[0m         \u001b[0mprint\u001b[0m\u001b[1;33m(\u001b[0m\u001b[1;34m\"Plakabul: \"\u001b[0m\u001b[1;33m,\u001b[0m\u001b[0mi\u001b[0m\u001b[1;33m,\u001b[0m \u001b[1;34m\"plaka:\"\u001b[0m\u001b[1;33m,\u001b[0m\u001b[0mj\u001b[0m\u001b[1;33m)\u001b[0m\u001b[1;33m\u001b[0m\u001b[1;33m\u001b[0m\u001b[0m\n\u001b[0;32m      6\u001b[0m \u001b[0mbul\u001b[0m\u001b[1;33m(\u001b[0m\u001b[1;33m)\u001b[0m\u001b[1;33m\u001b[0m\u001b[1;33m\u001b[0m\u001b[0m\n",
      "\u001b[1;31mNameError\u001b[0m: name 'sözlük' is not defined"
     ]
    }
   ],
   "source": [
    "\n",
    "def bul():\n",
    "    a=input(\"Plaka yazınız: \")\n",
    "    plaka ={\"adana\":\"01\",\"adıyaman\":\"2\", \"afyon\":\"3\"}\n",
    "    for (i,j) in sözlük.items():\n",
    "        print(\"Plakabul: \",i, \"plaka:\",j)\n",
    "bul()"
   ]
  },
  {
   "cell_type": "code",
   "execution_count": null,
   "id": "5e40c899",
   "metadata": {},
   "outputs": [],
   "source": []
  }
 ],
 "metadata": {
  "kernelspec": {
   "display_name": "Python 3 (ipykernel)",
   "language": "python",
   "name": "python3"
  },
  "language_info": {
   "codemirror_mode": {
    "name": "ipython",
    "version": 3
   },
   "file_extension": ".py",
   "mimetype": "text/x-python",
   "name": "python",
   "nbconvert_exporter": "python",
   "pygments_lexer": "ipython3",
   "version": "3.9.7"
  }
 },
 "nbformat": 4,
 "nbformat_minor": 5
}
