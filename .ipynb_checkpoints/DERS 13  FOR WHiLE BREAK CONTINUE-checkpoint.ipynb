{
 "cells": [
  {
   "cell_type": "markdown",
   "id": "7138b477",
   "metadata": {},
   "source": [
    "# IN OPERATÖRÜ"
   ]
  },
  {
   "cell_type": "markdown",
   "id": "47b78bac",
   "metadata": {},
   "source": [
    "# Bir elemanın başka bir listede, demette veya stringde (karakter dizileri) bulunup bulunmadığını kontrol eder."
   ]
  },
  {
   "cell_type": "code",
   "execution_count": 1,
   "id": "f3c0733a",
   "metadata": {},
   "outputs": [
    {
     "data": {
      "text/plain": [
       "True"
      ]
     },
     "execution_count": 1,
     "metadata": {},
     "output_type": "execute_result"
    }
   ],
   "source": [
    "\"a\" in \"merhaba\""
   ]
  },
  {
   "cell_type": "code",
   "execution_count": 2,
   "id": "bddf1c62",
   "metadata": {},
   "outputs": [
    {
     "data": {
      "text/plain": [
       "True"
      ]
     },
     "execution_count": 2,
     "metadata": {},
     "output_type": "execute_result"
    }
   ],
   "source": [
    "\"mer\" in \"merhaba\""
   ]
  },
  {
   "cell_type": "code",
   "execution_count": 3,
   "id": "8bdecdbf",
   "metadata": {},
   "outputs": [
    {
     "data": {
      "text/plain": [
       "False"
      ]
     },
     "execution_count": 3,
     "metadata": {},
     "output_type": "execute_result"
    }
   ],
   "source": [
    "\"t\" in \"merhaba\""
   ]
  },
  {
   "cell_type": "code",
   "execution_count": 5,
   "id": "7946c885",
   "metadata": {},
   "outputs": [
    {
     "data": {
      "text/plain": [
       "True"
      ]
     },
     "execution_count": 5,
     "metadata": {},
     "output_type": "execute_result"
    }
   ],
   "source": [
    "4 in [1,2,3,4]"
   ]
  },
  {
   "cell_type": "code",
   "execution_count": 6,
   "id": "3a0b51a3",
   "metadata": {},
   "outputs": [
    {
     "data": {
      "text/plain": [
       "False"
      ]
     },
     "execution_count": 6,
     "metadata": {},
     "output_type": "execute_result"
    }
   ],
   "source": [
    "10 in [1,2,3,4]"
   ]
  },
  {
   "cell_type": "markdown",
   "id": "4e4c558d",
   "metadata": {},
   "source": [
    "# FOR DÖNGÜSÜ"
   ]
  },
  {
   "cell_type": "markdown",
   "id": "e59a2962",
   "metadata": {},
   "source": [
    "# For döngüsü, listelerin, demetlerini stringlerin ve hatta sözcüklerin üzerinde dolaşmamızı sağlayan bir döngüdür.\n"
   ]
  },
  {
   "cell_type": "code",
   "execution_count": 12,
   "id": "8dbaaa65",
   "metadata": {},
   "outputs": [
    {
     "name": "stdout",
     "output_type": "stream",
     "text": [
      "eleman 1\n",
      "eleman 2\n",
      "eleman 3\n",
      "eleman 4\n",
      "eleman 5\n",
      "eleman 6\n",
      "eleman 7\n"
     ]
    }
   ],
   "source": [
    "liste=[1,2,3,4,5,6,7]\n",
    "for eleman in liste:\n",
    "    print(\"eleman\", eleman)"
   ]
  },
  {
   "cell_type": "code",
   "execution_count": 19,
   "id": "00b2ff01",
   "metadata": {},
   "outputs": [
    {
     "name": "stdout",
     "output_type": "stream",
     "text": [
      "Toplam 28\n"
     ]
    }
   ],
   "source": [
    "liste=[1,2,3,4,5,6,7]\n",
    "toplam=0\n",
    "for i in liste:\n",
    "    toplam += i\n",
    "print(\"Toplam\", toplam)    "
   ]
  },
  {
   "cell_type": "code",
   "execution_count": 40,
   "id": "6b8134d9",
   "metadata": {},
   "outputs": [
    {
     "name": "stdout",
     "output_type": "stream",
     "text": [
      "2\n",
      "4\n",
      "6\n",
      "8\n"
     ]
    }
   ],
   "source": [
    "liste = [1,2,3,4,5,6,7,8,9]\n",
    "for i in liste:\n",
    "    if i % 2== 0:\n",
    "        print(i)\n",
    "    "
   ]
  },
  {
   "cell_type": "code",
   "execution_count": 41,
   "id": "756d0fbf",
   "metadata": {},
   "outputs": [
    {
     "name": "stdout",
     "output_type": "stream",
     "text": [
      "PPP\n",
      "yyy\n",
      "ttt\n",
      "hhh\n",
      "ooo\n",
      "nnn\n"
     ]
    }
   ],
   "source": [
    "s = \"Python\"\n",
    "for i in s:\n",
    "    print(i*3)"
   ]
  },
  {
   "cell_type": "code",
   "execution_count": 43,
   "id": "05ba00de",
   "metadata": {},
   "outputs": [
    {
     "name": "stdout",
     "output_type": "stream",
     "text": [
      "P\n",
      "y\n",
      "t\n",
      "h\n",
      "o\n",
      "n\n"
     ]
    }
   ],
   "source": [
    "s= \"Python\"\n",
    "for i in (s):\n",
    "    print(i)"
   ]
  },
  {
   "cell_type": "markdown",
   "id": "4fe51539",
   "metadata": {},
   "source": [
    "# Sözlükler üzerinde gezinmek DİCTİONARY"
   ]
  },
  {
   "cell_type": "code",
   "execution_count": 44,
   "id": "5cec255d",
   "metadata": {},
   "outputs": [
    {
     "data": {
      "text/plain": [
       "dict_keys(['bir', 'iki', 'üç', 'dört'])"
      ]
     },
     "execution_count": 44,
     "metadata": {},
     "output_type": "execute_result"
    }
   ],
   "source": [
    "sözlük = {\"bir\":1,\"iki\":2,\"üç\":3,\"dört\":4}\n",
    "sözlük.keys()"
   ]
  },
  {
   "cell_type": "code",
   "execution_count": 45,
   "id": "25094612",
   "metadata": {},
   "outputs": [
    {
     "data": {
      "text/plain": [
       "dict_values([1, 2, 3, 4])"
      ]
     },
     "execution_count": 45,
     "metadata": {},
     "output_type": "execute_result"
    }
   ],
   "source": [
    "sözlük.values()"
   ]
  },
  {
   "cell_type": "code",
   "execution_count": 46,
   "id": "214776be",
   "metadata": {},
   "outputs": [
    {
     "data": {
      "text/plain": [
       "dict_items([('bir', 1), ('iki', 2), ('üç', 3), ('dört', 4)])"
      ]
     },
     "execution_count": 46,
     "metadata": {},
     "output_type": "execute_result"
    }
   ],
   "source": [
    "sözlük.items()"
   ]
  },
  {
   "cell_type": "code",
   "execution_count": 54,
   "id": "5907a51d",
   "metadata": {},
   "outputs": [
    {
     "name": "stdout",
     "output_type": "stream",
     "text": [
      "bir\n",
      "iki\n",
      "üç\n",
      "dört\n"
     ]
    }
   ],
   "source": [
    "sözlük = {\"bir\":1,\"iki\":2, \"üç\":3, \"dört\":4}\n",
    "for i in sözlük:\n",
    "    print(i)"
   ]
  },
  {
   "cell_type": "code",
   "execution_count": 56,
   "id": "0bca437f",
   "metadata": {},
   "outputs": [
    {
     "name": "stdout",
     "output_type": "stream",
     "text": [
      "bir\n",
      "iki\n",
      "üç\n",
      "dört\n"
     ]
    }
   ],
   "source": [
    "# keys()  AYNI ŞEY\n",
    "sözlük = {\"bir\":1,\"iki\":2, \"üç\":3, \"dört\":4}\n",
    "for i in sözlük.keys():\n",
    "    print(i)"
   ]
  },
  {
   "cell_type": "code",
   "execution_count": 57,
   "id": "b2aa487d",
   "metadata": {},
   "outputs": [
    {
     "name": "stdout",
     "output_type": "stream",
     "text": [
      "1\n",
      "2\n",
      "3\n",
      "4\n"
     ]
    }
   ],
   "source": [
    "#values()\n",
    "sözlük = {\"bir\":1,\"iki\":2, \"üç\":3, \"dört\":4}\n",
    "for i in sözlük.values():\n",
    "    print(i)"
   ]
  },
  {
   "cell_type": "code",
   "execution_count": 58,
   "id": "a99e19d9",
   "metadata": {},
   "outputs": [
    {
     "name": "stdout",
     "output_type": "stream",
     "text": [
      "anahtar: bir değer: 1\n",
      "anahtar: iki değer: 2\n",
      "anahtar: üç değer: 3\n",
      "anahtar: dört değer: 4\n"
     ]
    }
   ],
   "source": [
    "#items()\n",
    "sözlük = {\"bir\":1,\"iki\":2, \"üç\":3, \"dört\":4}\n",
    "for (i,j) in sözlük.items():\n",
    "    print(\"anahtar:\",i,\"değer:\",j)"
   ]
  },
  {
   "cell_type": "markdown",
   "id": "a2ed8e22",
   "metadata": {},
   "source": [
    "# WHİLE DÖNGÜSÜ"
   ]
  },
  {
   "cell_type": "markdown",
   "id": "1ac7dba4",
   "metadata": {},
   "source": [
    "# while döngüsü belli bir koşul sağlandığı sürece blogundaki işlemleri gerçekleştirmeye devam eder.While döngüsünün sona ermesi için bir süre sonra false olması gerekir."
   ]
  },
  {
   "cell_type": "code",
   "execution_count": 81,
   "id": "ec316495",
   "metadata": {},
   "outputs": [
    {
     "name": "stdout",
     "output_type": "stream",
     "text": [
      "i'nın değeri 0\n",
      "i'nın değeri 1\n",
      "i'nın değeri 2\n",
      "i'nın değeri 3\n",
      "i'nın değeri 4\n",
      "i'nın değeri 5\n",
      "i'nın değeri 6\n",
      "i'nın değeri 7\n",
      "i'nın değeri 8\n",
      "i'nın değeri 9\n"
     ]
    }
   ],
   "source": [
    "i =0\n",
    "while (i<10):\n",
    "    print(\"i'nın değeri\", i)\n",
    "    i +=1\n",
    "    "
   ]
  },
  {
   "cell_type": "code",
   "execution_count": 82,
   "id": "b3a2ca0e",
   "metadata": {},
   "outputs": [
    {
     "name": "stdout",
     "output_type": "stream",
     "text": [
      "i'nın değeri 0\n",
      "i'nın değeri 2\n",
      "i'nın değeri 4\n",
      "i'nın değeri 6\n",
      "i'nın değeri 8\n",
      "i'nın değeri 10\n",
      "i'nın değeri 12\n",
      "i'nın değeri 14\n",
      "i'nın değeri 16\n",
      "i'nın değeri 18\n"
     ]
    }
   ],
   "source": [
    "i =0\n",
    "while (i<20):\n",
    "    print(\"i'nın değeri\", i)\n",
    "    i+=2"
   ]
  },
  {
   "cell_type": "code",
   "execution_count": 83,
   "id": "67baabbc",
   "metadata": {},
   "outputs": [
    {
     "name": "stdout",
     "output_type": "stream",
     "text": [
      "Python öğreniyorum\n",
      "Python öğreniyorum\n",
      "Python öğreniyorum\n",
      "Python öğreniyorum\n",
      "Python öğreniyorum\n",
      "Python öğreniyorum\n",
      "Python öğreniyorum\n",
      "Python öğreniyorum\n",
      "Python öğreniyorum\n",
      "Python öğreniyorum\n",
      "Python öğreniyorum\n",
      "Python öğreniyorum\n",
      "Python öğreniyorum\n",
      "Python öğreniyorum\n",
      "Python öğreniyorum\n",
      "Python öğreniyorum\n",
      "Python öğreniyorum\n",
      "Python öğreniyorum\n",
      "Python öğreniyorum\n",
      "Python öğreniyorum\n",
      "Python öğreniyorum\n",
      "Python öğreniyorum\n",
      "Python öğreniyorum\n",
      "Python öğreniyorum\n",
      "Python öğreniyorum\n",
      "Python öğreniyorum\n",
      "Python öğreniyorum\n",
      "Python öğreniyorum\n",
      "Python öğreniyorum\n",
      "Python öğreniyorum\n",
      "Python öğreniyorum\n",
      "Python öğreniyorum\n",
      "Python öğreniyorum\n",
      "Python öğreniyorum\n",
      "Python öğreniyorum\n",
      "Python öğreniyorum\n",
      "Python öğreniyorum\n",
      "Python öğreniyorum\n",
      "Python öğreniyorum\n",
      "Python öğreniyorum\n"
     ]
    }
   ],
   "source": [
    "i=0\n",
    "while (i <40):\n",
    "    print(\"Python öğreniyorum\")\n",
    "    i+=1"
   ]
  },
  {
   "cell_type": "markdown",
   "id": "3c756b7d",
   "metadata": {},
   "source": [
    "# RANGE FONKSİYONU"
   ]
  },
  {
   "cell_type": "markdown",
   "id": "5148b23e",
   "metadata": {},
   "source": [
    "# Bu yapı başlangıç, bitiş ve opsiyonel olarak artırma değeri alarak listelere benzeyen bir sayı dizisi oluşturur."
   ]
  },
  {
   "cell_type": "code",
   "execution_count": 91,
   "id": "a193a908",
   "metadata": {},
   "outputs": [
    {
     "data": {
      "text/plain": [
       "range(0, 20)"
      ]
     },
     "execution_count": 91,
     "metadata": {},
     "output_type": "execute_result"
    }
   ],
   "source": [
    "range(0,20) #o dan başlar 20 dahil değil"
   ]
  },
  {
   "cell_type": "code",
   "execution_count": 86,
   "id": "48b35a3e",
   "metadata": {},
   "outputs": [
    {
     "name": "stdout",
     "output_type": "stream",
     "text": [
      "0 1 2 3 4 5 6 7 8 9 10 11 12 13 14 15 16 17 18 19\n"
     ]
    }
   ],
   "source": [
    "print(*range(0,20)) #yazdırmak için başına *koymamız gerekiyor."
   ]
  },
  {
   "cell_type": "code",
   "execution_count": 92,
   "id": "dd780dd8",
   "metadata": {},
   "outputs": [
    {
     "data": {
      "text/plain": [
       "[0, 1, 2, 3, 4, 5, 6, 7, 8, 9, 10, 11, 12, 13, 14, 15, 16, 17, 18, 19]"
      ]
     },
     "execution_count": 92,
     "metadata": {},
     "output_type": "execute_result"
    }
   ],
   "source": [
    "liste = list(range(0,20)) #list fonks. listeye dönüştürülebilir\n",
    "liste"
   ]
  },
  {
   "cell_type": "code",
   "execution_count": 89,
   "id": "c34629ec",
   "metadata": {},
   "outputs": [
    {
     "name": "stdout",
     "output_type": "stream",
     "text": [
      "5 6 7 8 9\n"
     ]
    }
   ],
   "source": [
    "print(*range(5,10))"
   ]
  },
  {
   "cell_type": "code",
   "execution_count": 90,
   "id": "6f215e85",
   "metadata": {},
   "outputs": [
    {
     "name": "stdout",
     "output_type": "stream",
     "text": [
      "0 1 2 3 4 5 6 7 8 9 10 11 12 13 14\n"
     ]
    }
   ],
   "source": [
    "print(*range(15)) # başlangıç değeri vermediğimizde 0 dan başlar"
   ]
  },
  {
   "cell_type": "code",
   "execution_count": 93,
   "id": "8e5793e5",
   "metadata": {},
   "outputs": [
    {
     "name": "stdout",
     "output_type": "stream",
     "text": [
      "5 7 9 11 13 15 17 19\n"
     ]
    }
   ],
   "source": [
    "print(*range(5,20,2)) # 5 den 20 ye kadar olan sayıları 2 atlayarak alır"
   ]
  },
  {
   "cell_type": "code",
   "execution_count": 95,
   "id": "b263ceee",
   "metadata": {},
   "outputs": [
    {
     "name": "stdout",
     "output_type": "stream",
     "text": [
      "\n"
     ]
    }
   ],
   "source": [
    "print(*range(20,0)) # 20 den geri gelen sayıları almaz"
   ]
  },
  {
   "cell_type": "code",
   "execution_count": 96,
   "id": "04f6c05d",
   "metadata": {},
   "outputs": [
    {
     "name": "stdout",
     "output_type": "stream",
     "text": [
      "20 19 18 17 16 15 14 13 12 11 10 9 8 7 6 5 4 3 2 1\n"
     ]
    }
   ],
   "source": [
    "print(*range(20,0,-1)) #20 den geri gelen sayıları oluşturur."
   ]
  },
  {
   "cell_type": "code",
   "execution_count": 97,
   "id": "ece55510",
   "metadata": {},
   "outputs": [
    {
     "name": "stdout",
     "output_type": "stream",
     "text": [
      "0\n",
      "1\n",
      "2\n",
      "3\n",
      "4\n",
      "5\n",
      "6\n",
      "7\n",
      "8\n",
      "9\n"
     ]
    }
   ],
   "source": [
    "for sayı in range(0,10):\n",
    "    print(sayı)"
   ]
  },
  {
   "cell_type": "markdown",
   "id": "94c54070",
   "metadata": {},
   "source": [
    "# BREAK İFADESİ"
   ]
  },
  {
   "cell_type": "markdown",
   "id": "4f871b0f",
   "metadata": {},
   "source": [
    "# Döngülerde kullanılır. Döndü herhangi bir yerde ve herhangi bir zamanda break ifadesiyle karşılaştığı zaman çalışmasını bir anda durdurur.Böylelikle döngü hiç bir koşula bağlı kalmadna sonlaanmış olur.Sadece bulunduğu döngüyü durdurur.\n"
   ]
  },
  {
   "cell_type": "code",
   "execution_count": 101,
   "id": "eb5689f2",
   "metadata": {},
   "outputs": [
    {
     "name": "stdout",
     "output_type": "stream",
     "text": [
      "0\n",
      "1\n",
      "2\n",
      "3\n",
      "4\n",
      "5\n",
      "6\n",
      "7\n",
      "8\n",
      "9\n",
      "10\n"
     ]
    }
   ],
   "source": [
    "i=0\n",
    "while(i<20):\n",
    "    print(i)\n",
    "    if (i ==10):\n",
    "        break #i nın değeri 10 olunca koşul sağlanıyor ve break ifadesiyle karşılaşıldığı için döngü anında sonra eriyor.\n",
    "    i+=1    "
   ]
  },
  {
   "cell_type": "code",
   "execution_count": 102,
   "id": "220e8184",
   "metadata": {},
   "outputs": [
    {
     "name": "stdout",
     "output_type": "stream",
     "text": [
      "1\n",
      "2\n",
      "3\n",
      "4\n"
     ]
    }
   ],
   "source": [
    "# for döngüsüyle break kullanımı\n",
    "liste = [1,2,3,4,5,6,7,8,9]\n",
    "for i in liste:\n",
    "    if( i==5):\n",
    "        break\n",
    "    print(i)"
   ]
  },
  {
   "cell_type": "code",
   "execution_count": 103,
   "id": "b8ff241b",
   "metadata": {},
   "outputs": [
    {
     "name": "stdout",
     "output_type": "stream",
     "text": [
      "isminizi yazınız\\ çıkmak için q tıkla: rüm\n",
      "rüm\n",
      "isminizi yazınız\\ çıkmak için q tıkla: q\n",
      "çıkış yapılıyor\n"
     ]
    }
   ],
   "source": [
    "while True:\n",
    "    isim= input(\"isminizi yazınız\\ çıkmak için q tıkla: \")\n",
    "    if (isim == \"q\"):\n",
    "        print(\"çıkış yapılıyor\")\n",
    "        break\n",
    "    print(isim)    \n",
    "    "
   ]
  },
  {
   "cell_type": "markdown",
   "id": "f9fcabdd",
   "metadata": {},
   "source": [
    "# CONTINUE FONKSİYONU\n"
   ]
  },
  {
   "cell_type": "markdown",
   "id": "d0fcbf69",
   "metadata": {},
   "source": [
    "# continue ifadesi break'e daha az kullanılır. Döngü herhangi bir yerde ve herhangi bir zamanda continue ifadesiyle karşılaştığı zamana geri kalan işlemlerini yapmadan direk blogunun başına döner."
   ]
  },
  {
   "cell_type": "code",
   "execution_count": null,
   "id": "86bbe5cb",
   "metadata": {},
   "outputs": [
    {
     "name": "stdout",
     "output_type": "stream",
     "text": [
      "0\n",
      "1\n"
     ]
    }
   ],
   "source": [
    "i = 0\n",
    "while(i<10):\n",
    "    if (i ==2):\n",
    "        continue\n",
    "    print(i)\n",
    "    i+=1"
   ]
  },
  {
   "cell_type": "code",
   "execution_count": null,
   "id": "f5632631",
   "metadata": {},
   "outputs": [],
   "source": []
  }
 ],
 "metadata": {
  "kernelspec": {
   "display_name": "Python 3 (ipykernel)",
   "language": "python",
   "name": "python3"
  },
  "language_info": {
   "codemirror_mode": {
    "name": "ipython",
    "version": 3
   },
   "file_extension": ".py",
   "mimetype": "text/x-python",
   "name": "python",
   "nbconvert_exporter": "python",
   "pygments_lexer": "ipython3",
   "version": "3.9.7"
  }
 },
 "nbformat": 4,
 "nbformat_minor": 5
}
