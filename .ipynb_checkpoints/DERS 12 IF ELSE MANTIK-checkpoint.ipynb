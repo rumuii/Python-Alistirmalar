{
 "cells": [
  {
   "cell_type": "code",
   "execution_count": 1,
   "id": "ec2e11d3",
   "metadata": {},
   "outputs": [
    {
     "name": "stdout",
     "output_type": "stream",
     "text": [
      "2\n",
      "Merhaba\n"
     ]
    }
   ],
   "source": [
    "a = 2\n",
    "if(a==2):\n",
    "    print(a)\n",
    "print(\"Merhaba\")    "
   ]
  },
  {
   "cell_type": "markdown",
   "id": "8212dbd3",
   "metadata": {},
   "source": [
    "# 18 YAS KONTROL\n"
   ]
  },
  {
   "cell_type": "code",
   "execution_count": 11,
   "id": "b89fb407",
   "metadata": {},
   "outputs": [
    {
     "name": "stdout",
     "output_type": "stream",
     "text": [
      "yasınızı giriniz: 25\n",
      "hoş geldiniz.\n"
     ]
    }
   ],
   "source": [
    "yaş = int(input(\"yasınızı giriniz: \"))\n",
    "\n",
    "if (yaş < 18):\n",
    "    print(\"Bu mekana giremezsiniz.\")\n",
    "elif (yaş>=18):\n",
    "    print(\"hoş geldiniz.\")"
   ]
  },
  {
   "cell_type": "code",
   "execution_count": 12,
   "id": "5501bf3e",
   "metadata": {},
   "outputs": [
    {
     "name": "stdout",
     "output_type": "stream",
     "text": [
      "yasınızı giriniz: 25\n",
      "hoş geldiniz.\n"
     ]
    }
   ],
   "source": [
    "yaş = int(input(\"yasınızı giriniz: \"))\n",
    "\n",
    "if (yaş < 18):\n",
    "    print(\"Bu mekana giremezsiniz.\")\n",
    "else:\n",
    "    print(\"hoş geldiniz.\")\n",
    "    "
   ]
  },
  {
   "cell_type": "markdown",
   "id": "92758656",
   "metadata": {},
   "source": [
    "# bir else blogu kendinden önce koşul gelmezse çalışmaz hata verir."
   ]
  },
  {
   "cell_type": "code",
   "execution_count": 15,
   "id": "12989ef1",
   "metadata": {},
   "outputs": [
    {
     "name": "stdout",
     "output_type": "stream",
     "text": [
      "İşlem seçiniz: 0\n",
      "Geçersiz işlem\n"
     ]
    }
   ],
   "source": [
    "işlem = int(input(\"İşlem seçiniz: \"))\n",
    "\n",
    "if işlem==1:\n",
    "    print(\"1. işlem seçildi.\")\n",
    "elif işlem ==2:\n",
    "    print(\"2. işlem seçildi.\")\n",
    "elif işlem ==3 :\n",
    "    print(\"3. işlem seçildi\")\n",
    "else:\n",
    "    print(\"Geçersiz işlem\")"
   ]
  },
  {
   "cell_type": "markdown",
   "id": "02230df1",
   "metadata": {},
   "source": [
    "\n",
    "\n",
    "# Harf notu hesaplama"
   ]
  },
  {
   "cell_type": "code",
   "execution_count": 17,
   "id": "50d1af66",
   "metadata": {},
   "outputs": [
    {
     "name": "stdout",
     "output_type": "stream",
     "text": [
      "Notunuzu giriniz.80\n",
      "BB\n"
     ]
    }
   ],
   "source": [
    "not1= float(input(\"Notunuzu giriniz.\"))\n",
    "\n",
    "if not1>=90:\n",
    "    print(\"AA\")\n",
    "elif not1>=85:\n",
    "    print(\"BA\")\n",
    "elif not1>=80:\n",
    "    print(\"BB\")\n",
    "elif not1>=75:\n",
    "    print(\"CB\")\n",
    "elif not1>=70:\n",
    "    print(\"CC\")\n",
    "elif not1>=65:\n",
    "    print(\"DC\")\n",
    "elif not1>=60:\n",
    "    print(\"DD\")\n",
    "else:\n",
    "    print(\"Derten kaldınız.\")"
   ]
  },
  {
   "cell_type": "markdown",
   "id": "267db844",
   "metadata": {},
   "source": [
    "# AND OPERATÖRÜ"
   ]
  },
  {
   "cell_type": "code",
   "execution_count": 19,
   "id": "1cca6d5e",
   "metadata": {},
   "outputs": [
    {
     "data": {
      "text/plain": [
       "True"
      ]
     },
     "execution_count": 19,
     "metadata": {},
     "output_type": "execute_result"
    }
   ],
   "source": [
    "1 < 2 and\"ALİ\" == \"ALİ\""
   ]
  },
  {
   "cell_type": "code",
   "execution_count": 20,
   "id": "fb75ede8",
   "metadata": {},
   "outputs": [
    {
     "data": {
      "text/plain": [
       "False"
      ]
     },
     "execution_count": 20,
     "metadata": {},
     "output_type": "execute_result"
    }
   ],
   "source": [
    "2 < 3 and \"ali\" == \"ALİ\""
   ]
  },
  {
   "cell_type": "code",
   "execution_count": 21,
   "id": "be61784d",
   "metadata": {},
   "outputs": [
    {
     "data": {
      "text/plain": [
       "False"
      ]
     },
     "execution_count": 21,
     "metadata": {},
     "output_type": "execute_result"
    }
   ],
   "source": [
    "2 == 2 and 3.14 <2.54 and \"elma\" != \"armut\""
   ]
  },
  {
   "cell_type": "markdown",
   "id": "9c7ab562",
   "metadata": {},
   "source": [
    "# işlemlerin birinin bile sonucu false ise işlemin genel sonucu false çıkar"
   ]
  },
  {
   "cell_type": "markdown",
   "id": "e7b49c4c",
   "metadata": {},
   "source": [
    "# OR OPERATÖRÜ\n",
    "\n"
   ]
  },
  {
   "cell_type": "code",
   "execution_count": 22,
   "id": "325f6bcb",
   "metadata": {},
   "outputs": [
    {
     "data": {
      "text/plain": [
       "True"
      ]
     },
     "execution_count": 22,
     "metadata": {},
     "output_type": "execute_result"
    }
   ],
   "source": [
    "1 < 2 or \"ali\" != \"ali\""
   ]
  },
  {
   "cell_type": "code",
   "execution_count": 23,
   "id": "7f9724d9",
   "metadata": {},
   "outputs": [
    {
     "data": {
      "text/plain": [
       "False"
      ]
     },
     "execution_count": 23,
     "metadata": {},
     "output_type": "execute_result"
    }
   ],
   "source": [
    "2 > 3 or \"ali\" !=\"ali\""
   ]
  },
  {
   "cell_type": "code",
   "execution_count": 24,
   "id": "145f87fe",
   "metadata": {},
   "outputs": [
    {
     "data": {
      "text/plain": [
       "True"
      ]
     },
     "execution_count": 24,
     "metadata": {},
     "output_type": "execute_result"
    }
   ],
   "source": [
    "2 > 3 or \"ali\" != \"ali\" or 3.14 < 4.32"
   ]
  },
  {
   "cell_type": "markdown",
   "id": "612a57da",
   "metadata": {},
   "source": [
    "# or operatöründe en az biri true geldiyse genel sonuc true olur."
   ]
  },
  {
   "cell_type": "markdown",
   "id": "d0ede45e",
   "metadata": {},
   "source": [
    "\n",
    "\n",
    "# NOT OPERATÖRÜ"
   ]
  },
  {
   "cell_type": "code",
   "execution_count": 31,
   "id": "a761d4f4",
   "metadata": {},
   "outputs": [
    {
     "data": {
      "text/plain": [
       "False"
      ]
     },
     "execution_count": 31,
     "metadata": {},
     "output_type": "execute_result"
    }
   ],
   "source": [
    "not 2 == 2"
   ]
  },
  {
   "cell_type": "code",
   "execution_count": 32,
   "id": "50840e9a",
   "metadata": {},
   "outputs": [
    {
     "data": {
      "text/plain": [
       "True"
      ]
     },
     "execution_count": 32,
     "metadata": {},
     "output_type": "execute_result"
    }
   ],
   "source": [
    "not \"python\" == \"php\""
   ]
  },
  {
   "cell_type": "code",
   "execution_count": 33,
   "id": "f9edcba0",
   "metadata": {},
   "outputs": [
    {
     "data": {
      "text/plain": [
       "False"
      ]
     },
     "execution_count": 33,
     "metadata": {},
     "output_type": "execute_result"
    }
   ],
   "source": [
    "not \"python\" == \"python\""
   ]
  },
  {
   "cell_type": "code",
   "execution_count": 34,
   "id": "82261dfa",
   "metadata": {},
   "outputs": [
    {
     "data": {
      "text/plain": [
       "True"
      ]
     },
     "execution_count": 34,
     "metadata": {},
     "output_type": "execute_result"
    }
   ],
   "source": [
    " not 2 == 3"
   ]
  },
  {
   "cell_type": "markdown",
   "id": "fce97b1d",
   "metadata": {},
   "source": [
    "# Not op. True olan değeri false, false olan değeri true çevirir."
   ]
  },
  {
   "cell_type": "markdown",
   "id": "8c702628",
   "metadata": {},
   "source": [
    "\n",
    "\n",
    "# OPERATÖRLERİN BERABER KULLANIMI"
   ]
  },
  {
   "cell_type": "code",
   "execution_count": 35,
   "id": "8c782f24",
   "metadata": {},
   "outputs": [
    {
     "data": {
      "text/plain": [
       "True"
      ]
     },
     "execution_count": 35,
     "metadata": {},
     "output_type": "execute_result"
    }
   ],
   "source": [
    "not (2.14 > 3.49 or ( 2!=2 and \"ali\" == \"ali\"))"
   ]
  },
  {
   "cell_type": "code",
   "execution_count": 36,
   "id": "85638a90",
   "metadata": {},
   "outputs": [
    {
     "data": {
      "text/plain": [
       "True"
      ]
     },
     "execution_count": 36,
     "metadata": {},
     "output_type": "execute_result"
    }
   ],
   "source": [
    "\"araba\" < \"zula\" and (\"bebek\" < \"çoçuk\" or (not 14))"
   ]
  },
  {
   "cell_type": "code",
   "execution_count": 37,
   "id": "2af9324b",
   "metadata": {},
   "outputs": [
    {
     "data": {
      "text/plain": [
       "False"
      ]
     },
     "execution_count": 37,
     "metadata": {},
     "output_type": "execute_result"
    }
   ],
   "source": [
    "\"araba\" < \"zula\" and ( \"çoçuk \" < \"bebek\" or (not 14))"
   ]
  },
  {
   "cell_type": "code",
   "execution_count": 38,
   "id": "8dad8100",
   "metadata": {},
   "outputs": [
    {
     "data": {
      "text/plain": [
       "False"
      ]
     },
     "execution_count": 38,
     "metadata": {},
     "output_type": "execute_result"
    }
   ],
   "source": [
    "not(3.14 > 2.14 or ( 2 != 2 and \"ali\" == \"ali\"))"
   ]
  },
  {
   "cell_type": "code",
   "execution_count": null,
   "id": "0c3b8e52",
   "metadata": {},
   "outputs": [],
   "source": []
  }
 ],
 "metadata": {
  "kernelspec": {
   "display_name": "Python 3 (ipykernel)",
   "language": "python",
   "name": "python3"
  },
  "language_info": {
   "codemirror_mode": {
    "name": "ipython",
    "version": 3
   },
   "file_extension": ".py",
   "mimetype": "text/x-python",
   "name": "python",
   "nbconvert_exporter": "python",
   "pygments_lexer": "ipython3",
   "version": "3.9.7"
  }
 },
 "nbformat": 4,
 "nbformat_minor": 5
}
