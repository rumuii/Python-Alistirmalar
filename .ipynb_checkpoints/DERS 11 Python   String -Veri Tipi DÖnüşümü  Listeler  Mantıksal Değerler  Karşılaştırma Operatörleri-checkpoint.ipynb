{
 "cells": [
  {
   "cell_type": "markdown",
   "id": "30e25802",
   "metadata": {},
   "source": [
    "# String oluşturma"
   ]
  },
  {
   "cell_type": "markdown",
   "id": "8735081d",
   "metadata": {},
   "source": [
    "#string oluştumanın bir çok yolu vardır bunlardan hangisini kullanacağınız size kalmıştır.\n",
    "#Örnekler aşagıdaki gibidir."
   ]
  },
  {
   "cell_type": "code",
   "execution_count": 4,
   "id": "0a6acb34",
   "metadata": {},
   "outputs": [
    {
     "data": {
      "text/plain": [
       "'Tarık'"
      ]
     },
     "execution_count": 4,
     "metadata": {},
     "output_type": "execute_result"
    }
   ],
   "source": [
    "#Tek tırnak ile \n",
    "'Tarık'"
   ]
  },
  {
   "cell_type": "code",
   "execution_count": 5,
   "id": "d8df5e0a",
   "metadata": {},
   "outputs": [
    {
     "data": {
      "text/plain": [
       "'Furkan'"
      ]
     },
     "execution_count": 5,
     "metadata": {},
     "output_type": "execute_result"
    }
   ],
   "source": [
    "#çift tırnak ile \n",
    "\"Furkan\""
   ]
  },
  {
   "cell_type": "code",
   "execution_count": 6,
   "id": "70013083",
   "metadata": {},
   "outputs": [
    {
     "data": {
      "text/plain": [
       "'RÜMEYSA'"
      ]
     },
     "execution_count": 6,
     "metadata": {},
     "output_type": "execute_result"
    }
   ],
   "source": [
    "#3 tırnak ile\n",
    "#3 tırnak ile başladıysan 3 tırnak ile kapatman gerekir.\n",
    "#çift tırnak ise çift tırnak tek tırnak ise tek tırnakla kapatılmalıdır.\n",
    "\"\"\"RÜMEYSA\"\"\""
   ]
  },
  {
   "cell_type": "markdown",
   "id": "8d134733",
   "metadata": {},
   "source": [
    "# STRİNG iNEDEKSLEME VE PARÇALAMA"
   ]
  },
  {
   "cell_type": "markdown",
   "id": "fd4ec6ac",
   "metadata": {},
   "source": [
    "#Python ve diğer bir çok programlama dilinde genellikle(octave hariç) stringlerin indekslemesi 0 dan başlamaktadır."
   ]
  },
  {
   "cell_type": "code",
   "execution_count": 8,
   "id": "e2ec4f4e",
   "metadata": {},
   "outputs": [
    {
     "data": {
      "text/plain": [
       "'a'"
      ]
     },
     "execution_count": 8,
     "metadata": {},
     "output_type": "execute_result"
    }
   ],
   "source": [
    "#0. elemana ulaşalım.Bunun için[] operatörünü kullanacağız.\n",
    "a=\"ali\"\n",
    "a[0]"
   ]
  },
  {
   "cell_type": "code",
   "execution_count": 9,
   "id": "de217c70",
   "metadata": {},
   "outputs": [
    {
     "data": {
      "text/plain": [
       "'l'"
      ]
     },
     "execution_count": 9,
     "metadata": {},
     "output_type": "execute_result"
    }
   ],
   "source": [
    "#1. eleman \n",
    "a[1]"
   ]
  },
  {
   "cell_type": "code",
   "execution_count": 11,
   "id": "7db95598",
   "metadata": {},
   "outputs": [
    {
     "data": {
      "text/plain": [
       "'i'"
      ]
     },
     "execution_count": 11,
     "metadata": {},
     "output_type": "execute_result"
    }
   ],
   "source": [
    "a[2]"
   ]
  },
  {
   "cell_type": "code",
   "execution_count": 13,
   "id": "41d70525",
   "metadata": {},
   "outputs": [
    {
     "data": {
      "text/plain": [
       "'o'"
      ]
     },
     "execution_count": 13,
     "metadata": {},
     "output_type": "execute_result"
    }
   ],
   "source": [
    "#Sondaki eleman \"-1\"\n",
    "a=\"Python\"\n",
    "a[-2]"
   ]
  },
  {
   "cell_type": "code",
   "execution_count": 14,
   "id": "4bfe38b8",
   "metadata": {},
   "outputs": [
    {
     "data": {
      "text/plain": [
       "'h'"
      ]
     },
     "execution_count": 14,
     "metadata": {},
     "output_type": "execute_result"
    }
   ],
   "source": [
    "a[-3]"
   ]
  },
  {
   "cell_type": "code",
   "execution_count": 15,
   "id": "87e455d2",
   "metadata": {},
   "outputs": [
    {
     "data": {
      "text/plain": [
       "'t'"
      ]
     },
     "execution_count": 15,
     "metadata": {},
     "output_type": "execute_result"
    }
   ],
   "source": [
    "a[-4]"
   ]
  },
  {
   "cell_type": "code",
   "execution_count": 16,
   "id": "fac1b782",
   "metadata": {},
   "outputs": [
    {
     "data": {
      "text/plain": [
       "'y'"
      ]
     },
     "execution_count": 16,
     "metadata": {},
     "output_type": "execute_result"
    }
   ],
   "source": [
    "a[-5]"
   ]
  },
  {
   "cell_type": "code",
   "execution_count": 17,
   "id": "6391988c",
   "metadata": {},
   "outputs": [
    {
     "data": {
      "text/plain": [
       "'P'"
      ]
     },
     "execution_count": 17,
     "metadata": {},
     "output_type": "execute_result"
    }
   ],
   "source": [
    "a[-6]"
   ]
  },
  {
   "cell_type": "markdown",
   "id": "7c0b640c",
   "metadata": {},
   "source": [
    "#String'in sadece belirli bir bölümünü elde etmek için : ve [] işaretlerini kullanacağız"
   ]
  },
  {
   "cell_type": "code",
   "execution_count": 20,
   "id": "f23c2ad0",
   "metadata": {},
   "outputs": [
    {
     "data": {
      "text/plain": [
       "'on Programlama'"
      ]
     },
     "execution_count": 20,
     "metadata": {},
     "output_type": "execute_result"
    }
   ],
   "source": [
    "a=\"Python Programlama Dili\"\n",
    "a[4:18]"
   ]
  },
  {
   "cell_type": "code",
   "execution_count": 21,
   "id": "e49ff961",
   "metadata": {},
   "outputs": [
    {
     "data": {
      "text/plain": [
       "'Python Pro'"
      ]
     },
     "execution_count": 21,
     "metadata": {},
     "output_type": "execute_result"
    }
   ],
   "source": [
    "#Başlangıç değeri belirtilmemişse en baştan başlayarak alır.\n",
    "a[:10]"
   ]
  },
  {
   "cell_type": "code",
   "execution_count": 22,
   "id": "936d0a65",
   "metadata": {},
   "outputs": [
    {
     "data": {
      "text/plain": [
       "'gramlama Dili'"
      ]
     },
     "execution_count": 22,
     "metadata": {},
     "output_type": "execute_result"
    }
   ],
   "source": [
    "#Bitiş değeri belirtilmemişse en sonuna kadar alır.\n",
    "a[10:]"
   ]
  },
  {
   "cell_type": "code",
   "execution_count": 23,
   "id": "7c8d4372",
   "metadata": {},
   "outputs": [
    {
     "data": {
      "text/plain": [
       "'Python Programlama Dili'"
      ]
     },
     "execution_count": 23,
     "metadata": {},
     "output_type": "execute_result"
    }
   ],
   "source": [
    "#İki deeğer de belirtilmemişse tüm stringleri alır.\n",
    "a[:]"
   ]
  },
  {
   "cell_type": "code",
   "execution_count": 24,
   "id": "f4f9246a",
   "metadata": {},
   "outputs": [
    {
     "data": {
      "text/plain": [
       "'Python Programlama Dil'"
      ]
     },
     "execution_count": 24,
     "metadata": {},
     "output_type": "execute_result"
    }
   ],
   "source": [
    "#Son karaktere kadar al\n",
    "a[:-1]"
   ]
  },
  {
   "cell_type": "code",
   "execution_count": 25,
   "id": "67ec3be0",
   "metadata": {},
   "outputs": [
    {
     "data": {
      "text/plain": [
       "'Pto rgalm ii'"
      ]
     },
     "execution_count": 25,
     "metadata": {},
     "output_type": "execute_result"
    }
   ],
   "source": [
    "#Baştan sona 2 değer atlaya atlaya stringi al \n",
    "a[::2]"
   ]
  },
  {
   "cell_type": "code",
   "execution_count": 26,
   "id": "133e19a1",
   "metadata": {},
   "outputs": [
    {
     "data": {
      "text/plain": [
       "'oPg'"
      ]
     },
     "execution_count": 26,
     "metadata": {},
     "output_type": "execute_result"
    }
   ],
   "source": [
    "#4. indeksten 12inci indeksse 3 er atlayarak stringi al\n",
    "a[4:12:3]"
   ]
  },
  {
   "cell_type": "code",
   "execution_count": 27,
   "id": "a9a77b5a",
   "metadata": {},
   "outputs": [
    {
     "data": {
      "text/plain": [
       "'iliD amalmargorP nohtyP'"
      ]
     },
     "execution_count": 27,
     "metadata": {},
     "output_type": "execute_result"
    }
   ],
   "source": [
    "#Baştan sona -1 atlayarak stringi al.(Stringi ters çevirme)\n",
    "a[::-1]"
   ]
  },
  {
   "cell_type": "markdown",
   "id": "a8e94bf5",
   "metadata": {},
   "source": [
    "# String Özellikleri"
   ]
  },
  {
   "cell_type": "markdown",
   "id": "18a9809a",
   "metadata": {},
   "source": [
    "#Bir string'in uzunluğunu len() fonksiyonu bulmaktadır."
   ]
  },
  {
   "cell_type": "code",
   "execution_count": 29,
   "id": "ae6f5494",
   "metadata": {},
   "outputs": [
    {
     "data": {
      "text/plain": [
       "23"
      ]
     },
     "execution_count": 29,
     "metadata": {},
     "output_type": "execute_result"
    }
   ],
   "source": [
    "a=\"Python Programlama Dili\"\n",
    "len(a)"
   ]
  },
  {
   "cell_type": "code",
   "execution_count": 33,
   "id": "1af3579f",
   "metadata": {},
   "outputs": [
    {
     "data": {
      "text/plain": [
       "'python programlama dili'"
      ]
     },
     "execution_count": 33,
     "metadata": {},
     "output_type": "execute_result"
    }
   ],
   "source": [
    "#Stringleri toplayalım yani birbirine ekleme yapalım\n",
    "a=\"python \"\n",
    "b=\"programlama \"\n",
    "c=\"dili\"\n",
    "a+b+c"
   ]
  },
  {
   "cell_type": "code",
   "execution_count": 35,
   "id": "2388c1de",
   "metadata": {},
   "outputs": [
    {
     "data": {
      "text/plain": [
       "'Ali Furkan '"
      ]
     },
     "execution_count": 35,
     "metadata": {},
     "output_type": "execute_result"
    }
   ],
   "source": [
    "a=\"Ali \"\n",
    "a=a+\"Furkan \" #Burada stringleri birleştirerek yine a değişkenine atıyoruz.\n",
    "a"
   ]
  },
  {
   "cell_type": "code",
   "execution_count": 39,
   "id": "397e9fa4",
   "metadata": {},
   "outputs": [
    {
     "data": {
      "text/plain": [
       "'PythonPythonPython'"
      ]
     },
     "execution_count": 39,
     "metadata": {},
     "output_type": "execute_result"
    }
   ],
   "source": [
    "#Python * 3 aslında Python+Python+Python işlemine eş değerdir.\n",
    "\"Python\" *3"
   ]
  },
  {
   "cell_type": "markdown",
   "id": "b51c1d45",
   "metadata": {},
   "source": [
    "# Python da Veri Tipi Dönüşümleri"
   ]
  },
  {
   "cell_type": "markdown",
   "id": "be19ef97",
   "metadata": {},
   "source": [
    "#Bir tamsayı(integer) değeri ondalıklı sayıya (float) çevirmek için float() fonkisyonu kullanılır."
   ]
  },
  {
   "cell_type": "code",
   "execution_count": 40,
   "id": "e2471d8d",
   "metadata": {},
   "outputs": [
    {
     "data": {
      "text/plain": [
       "43.0"
      ]
     },
     "execution_count": 40,
     "metadata": {},
     "output_type": "execute_result"
    }
   ],
   "source": [
    "#Çevireceğimiz sayısı parantez içine alıyoruz.\n",
    "a=43\n",
    "float(43)"
   ]
  },
  {
   "cell_type": "code",
   "execution_count": 41,
   "id": "109e2b66",
   "metadata": {},
   "outputs": [
    {
     "data": {
      "text/plain": [
       "-1.0"
      ]
     },
     "execution_count": 41,
     "metadata": {},
     "output_type": "execute_result"
    }
   ],
   "source": [
    "float(-1)"
   ]
  },
  {
   "cell_type": "code",
   "execution_count": 42,
   "id": "c96e9fd2",
   "metadata": {},
   "outputs": [
    {
     "data": {
      "text/plain": [
       "9.0"
      ]
     },
     "execution_count": 42,
     "metadata": {},
     "output_type": "execute_result"
    }
   ],
   "source": [
    "float(9)"
   ]
  },
  {
   "cell_type": "markdown",
   "id": "733a8be6",
   "metadata": {},
   "source": [
    "#Bir ondalıklı sayıyı(float) tamsayıya(integer) çevirmek için int() fonksiyonunu kullanırız."
   ]
  },
  {
   "cell_type": "code",
   "execution_count": 43,
   "id": "6563a5aa",
   "metadata": {},
   "outputs": [
    {
     "data": {
      "text/plain": [
       "4"
      ]
     },
     "execution_count": 43,
     "metadata": {},
     "output_type": "execute_result"
    }
   ],
   "source": [
    "int(4.7)"
   ]
  },
  {
   "cell_type": "code",
   "execution_count": 44,
   "id": "95efdece",
   "metadata": {},
   "outputs": [
    {
     "data": {
      "text/plain": [
       "3"
      ]
     },
     "execution_count": 44,
     "metadata": {},
     "output_type": "execute_result"
    }
   ],
   "source": [
    "int(3.14)"
   ]
  },
  {
   "cell_type": "code",
   "execution_count": 45,
   "id": "04da23a1",
   "metadata": {},
   "outputs": [
    {
     "data": {
      "text/plain": [
       "10"
      ]
     },
     "execution_count": 45,
     "metadata": {},
     "output_type": "execute_result"
    }
   ],
   "source": [
    "int(10.4545444545)"
   ]
  },
  {
   "cell_type": "code",
   "execution_count": 46,
   "id": "143a117f",
   "metadata": {},
   "outputs": [
    {
     "data": {
      "text/plain": [
       "2"
      ]
     },
     "execution_count": 46,
     "metadata": {},
     "output_type": "execute_result"
    }
   ],
   "source": [
    "a=5\n",
    "b=2\n",
    "int(a/b)"
   ]
  },
  {
   "cell_type": "markdown",
   "id": "ddaab381",
   "metadata": {},
   "source": [
    "#Bir sayıyı string'e çevirmek için str() fonksiyonu kullanılır. Sayıyı oluşturan tüm rakamlar veya noktalar birer karektere dönüşecek."
   ]
  },
  {
   "cell_type": "code",
   "execution_count": 47,
   "id": "47d47c85",
   "metadata": {},
   "outputs": [
    {
     "data": {
      "text/plain": [
       "'32324324'"
      ]
     },
     "execution_count": 47,
     "metadata": {},
     "output_type": "execute_result"
    }
   ],
   "source": [
    "a=32324324\n",
    "b=str(a)\n",
    "b"
   ]
  },
  {
   "cell_type": "code",
   "execution_count": 48,
   "id": "8ec73da5",
   "metadata": {},
   "outputs": [
    {
     "data": {
      "text/plain": [
       "8"
      ]
     },
     "execution_count": 48,
     "metadata": {},
     "output_type": "execute_result"
    }
   ],
   "source": [
    "len(b)"
   ]
  },
  {
   "cell_type": "code",
   "execution_count": 49,
   "id": "3c719bd6",
   "metadata": {},
   "outputs": [
    {
     "data": {
      "text/plain": [
       "'3.1414555'"
      ]
     },
     "execution_count": 49,
     "metadata": {},
     "output_type": "execute_result"
    }
   ],
   "source": [
    "t=3.1414555\n",
    "y=str(t)\n",
    "y"
   ]
  },
  {
   "cell_type": "code",
   "execution_count": 50,
   "id": "ccdcb13a",
   "metadata": {},
   "outputs": [
    {
     "data": {
      "text/plain": [
       "9"
      ]
     },
     "execution_count": 50,
     "metadata": {},
     "output_type": "execute_result"
    }
   ],
   "source": [
    "len(y)"
   ]
  },
  {
   "cell_type": "markdown",
   "id": "deaee140",
   "metadata": {},
   "source": [
    "Stringleri tamsayıya çevirmek için int() fonks.kullanılır.\n",
    "Stringleri ondalıklı sayıya çevirmek için float() fonks. kullanılır."
   ]
  },
  {
   "cell_type": "code",
   "execution_count": 51,
   "id": "5f2b1c1f",
   "metadata": {},
   "outputs": [
    {
     "data": {
      "text/plain": [
       "323455456"
      ]
     },
     "execution_count": 51,
     "metadata": {},
     "output_type": "execute_result"
    }
   ],
   "source": [
    "a=\"323455456\"\n",
    "b=int(a)\n",
    "b"
   ]
  },
  {
   "cell_type": "code",
   "execution_count": 52,
   "id": "05dff4fe",
   "metadata": {},
   "outputs": [
    {
     "data": {
      "text/plain": [
       "5.54654"
      ]
     },
     "execution_count": 52,
     "metadata": {},
     "output_type": "execute_result"
    }
   ],
   "source": [
    "a=\"5.54654\"\n",
    "b=float(a)\n",
    "b"
   ]
  },
  {
   "cell_type": "markdown",
   "id": "9db443e8",
   "metadata": {},
   "source": [
    "# Pyton da Listeler"
   ]
  },
  {
   "cell_type": "markdown",
   "id": "5200a6e9",
   "metadata": {},
   "source": [
    "#Listelerde toplama-çarpma,eleman ekleme-çıkarma,büyükten küçüğe,küçükten büyüğe sıralama,alfabetik sıralama ve 2 boyutlu dizi(matris) örneklerini inceleyeceğiz."
   ]
  },
  {
   "cell_type": "markdown",
   "id": "93cc87ee",
   "metadata": {},
   "source": [
    "# liste işlemleri\n"
   ]
  },
  {
   "cell_type": "code",
   "execution_count": 53,
   "id": "e4a97952",
   "metadata": {},
   "outputs": [
    {
     "data": {
      "text/plain": [
       "list"
      ]
     },
     "execution_count": 53,
     "metadata": {},
     "output_type": "execute_result"
    }
   ],
   "source": [
    "liste=[\"elma\",35,\"merhaba\",3.14,5]\n",
    "type(liste)"
   ]
  },
  {
   "cell_type": "code",
   "execution_count": 54,
   "id": "999b91c6",
   "metadata": {},
   "outputs": [
    {
     "data": {
      "text/plain": [
       "['elma', 35, 'merhaba', 3.14, 5]"
      ]
     },
     "execution_count": 54,
     "metadata": {},
     "output_type": "execute_result"
    }
   ],
   "source": [
    "liste"
   ]
  },
  {
   "cell_type": "code",
   "execution_count": 65,
   "id": "ebdaf2c6",
   "metadata": {},
   "outputs": [
    {
     "data": {
      "text/plain": [
       "[]"
      ]
     },
     "execution_count": 65,
     "metadata": {},
     "output_type": "execute_result"
    }
   ],
   "source": [
    "liste = []\n",
    "liste"
   ]
  },
  {
   "cell_type": "code",
   "execution_count": 67,
   "id": "7d902bcd",
   "metadata": {},
   "outputs": [
    {
     "data": {
      "text/plain": [
       "9"
      ]
     },
     "execution_count": 67,
     "metadata": {},
     "output_type": "execute_result"
    }
   ],
   "source": [
    "liste2=[1,2,3,4,5,6,7,8,9]\n",
    "len(liste2)"
   ]
  },
  {
   "cell_type": "code",
   "execution_count": 69,
   "id": "2e085bb0",
   "metadata": {},
   "outputs": [
    {
     "data": {
      "text/plain": [
       "['M', 'e', 'r', 'h', 'a', 'b', 'a']"
      ]
     },
     "execution_count": 69,
     "metadata": {},
     "output_type": "execute_result"
    }
   ],
   "source": [
    "liste=list(\"Merhaba\")\n",
    "liste"
   ]
  },
  {
   "cell_type": "code",
   "execution_count": 70,
   "id": "f55169cf",
   "metadata": {},
   "outputs": [
    {
     "data": {
      "text/plain": [
       "7"
      ]
     },
     "execution_count": 70,
     "metadata": {},
     "output_type": "execute_result"
    }
   ],
   "source": [
    "len(liste)"
   ]
  },
  {
   "cell_type": "code",
   "execution_count": 72,
   "id": "016cf943",
   "metadata": {},
   "outputs": [
    {
     "data": {
      "text/plain": [
       "[1, 2, 3, 4, 5, 6]"
      ]
     },
     "execution_count": 72,
     "metadata": {},
     "output_type": "execute_result"
    }
   ],
   "source": [
    "liste1=[1,2,3]\n",
    "liste2=[4,5,6]\n",
    "liste3= liste1+liste2\n",
    "liste3"
   ]
  },
  {
   "cell_type": "code",
   "execution_count": 73,
   "id": "cc8adf5b",
   "metadata": {},
   "outputs": [
    {
     "data": {
      "text/plain": [
       "[1, 2, 3, 1, 2, 3, 1, 2, 3]"
      ]
     },
     "execution_count": 73,
     "metadata": {},
     "output_type": "execute_result"
    }
   ],
   "source": [
    "liste1*3"
   ]
  },
  {
   "cell_type": "code",
   "execution_count": 74,
   "id": "aca5cfd0",
   "metadata": {},
   "outputs": [
    {
     "data": {
      "text/plain": [
       "[4, 5, 6]"
      ]
     },
     "execution_count": 74,
     "metadata": {},
     "output_type": "execute_result"
    }
   ],
   "source": [
    "liste2"
   ]
  },
  {
   "cell_type": "code",
   "execution_count": 75,
   "id": "39440094",
   "metadata": {},
   "outputs": [
    {
     "data": {
      "text/plain": [
       "[4, 10, 6]"
      ]
     },
     "execution_count": 75,
     "metadata": {},
     "output_type": "execute_result"
    }
   ],
   "source": [
    "liste2[1]=10\n",
    "liste2"
   ]
  },
  {
   "cell_type": "code",
   "execution_count": 76,
   "id": "0d7e65ba",
   "metadata": {},
   "outputs": [
    {
     "data": {
      "text/plain": [
       "[1, 2]"
      ]
     },
     "execution_count": 76,
     "metadata": {},
     "output_type": "execute_result"
    }
   ],
   "source": [
    "liste=[1,2,3,4,5,6]\n",
    "liste[:2]"
   ]
  },
  {
   "cell_type": "code",
   "execution_count": 77,
   "id": "d8fa0e16",
   "metadata": {},
   "outputs": [
    {
     "data": {
      "text/plain": [
       "[10, 11, 3, 4, 5, 6]"
      ]
     },
     "execution_count": 77,
     "metadata": {},
     "output_type": "execute_result"
    }
   ],
   "source": [
    "liste[:2]=[10,11]\n",
    "liste"
   ]
  },
  {
   "cell_type": "code",
   "execution_count": 92,
   "id": "2a642fd1",
   "metadata": {},
   "outputs": [],
   "source": [
    "liste.append(\"python\")"
   ]
  },
  {
   "cell_type": "code",
   "execution_count": 93,
   "id": "e541efe7",
   "metadata": {},
   "outputs": [
    {
     "data": {
      "text/plain": [
       "[10,\n",
       " 11,\n",
       " 3,\n",
       " 4,\n",
       " 5,\n",
       " 6,\n",
       " 'python',\n",
       " 'python',\n",
       " 'Python',\n",
       " 'python',\n",
       " 'python',\n",
       " 'PYTHON',\n",
       " 'python']"
      ]
     },
     "execution_count": 93,
     "metadata": {},
     "output_type": "execute_result"
    }
   ],
   "source": [
    "liste"
   ]
  },
  {
   "cell_type": "code",
   "execution_count": 95,
   "id": "85adb7a0",
   "metadata": {},
   "outputs": [
    {
     "data": {
      "text/plain": [
       "[10,\n",
       " 11,\n",
       " 3,\n",
       " 4,\n",
       " 5,\n",
       " 6,\n",
       " 'python',\n",
       " 'python',\n",
       " 'Python',\n",
       " 'python',\n",
       " 'python',\n",
       " 'PYTHON',\n",
       " 'python',\n",
       " 12,\n",
       " 12]"
      ]
     },
     "execution_count": 95,
     "metadata": {},
     "output_type": "execute_result"
    }
   ],
   "source": [
    "liste.append(12)\n",
    "liste"
   ]
  },
  {
   "cell_type": "code",
   "execution_count": 96,
   "id": "649d2261",
   "metadata": {},
   "outputs": [
    {
     "data": {
      "text/plain": [
       "12"
      ]
     },
     "execution_count": 96,
     "metadata": {},
     "output_type": "execute_result"
    }
   ],
   "source": [
    "liste.pop()"
   ]
  },
  {
   "cell_type": "code",
   "execution_count": 97,
   "id": "1b6838bf",
   "metadata": {},
   "outputs": [
    {
     "data": {
      "text/plain": [
       "[10,\n",
       " 11,\n",
       " 3,\n",
       " 4,\n",
       " 5,\n",
       " 6,\n",
       " 'python',\n",
       " 'python',\n",
       " 'Python',\n",
       " 'python',\n",
       " 'python',\n",
       " 'PYTHON',\n",
       " 'python',\n",
       " 12]"
      ]
     },
     "execution_count": 97,
     "metadata": {},
     "output_type": "execute_result"
    }
   ],
   "source": [
    "liste"
   ]
  },
  {
   "cell_type": "code",
   "execution_count": 110,
   "id": "1efe2832",
   "metadata": {},
   "outputs": [
    {
     "data": {
      "text/plain": [
       "[11, 3, 4, 5, 'python', 'Python', 'python', 'PYTHON', 'python']"
      ]
     },
     "execution_count": 110,
     "metadata": {},
     "output_type": "execute_result"
    }
   ],
   "source": [
    "liste.pop(0)\n",
    "liste\n"
   ]
  },
  {
   "cell_type": "code",
   "execution_count": 112,
   "id": "3d046b8b",
   "metadata": {},
   "outputs": [],
   "source": [
    "liste=[34,15,88,45,264,2,11]\n",
    "liste.sort()"
   ]
  },
  {
   "cell_type": "code",
   "execution_count": 114,
   "id": "7ec0dab6",
   "metadata": {},
   "outputs": [
    {
     "data": {
      "text/plain": [
       "[2, 11, 15, 34, 45, 88, 264]"
      ]
     },
     "execution_count": 114,
     "metadata": {},
     "output_type": "execute_result"
    }
   ],
   "source": [
    "liste"
   ]
  },
  {
   "cell_type": "code",
   "execution_count": 115,
   "id": "8afb5d38",
   "metadata": {},
   "outputs": [
    {
     "data": {
      "text/plain": [
       "[264, 88, 45, 34, 15, 11, 2]"
      ]
     },
     "execution_count": 115,
     "metadata": {},
     "output_type": "execute_result"
    }
   ],
   "source": [
    "liste.sort(reverse=True)\n",
    "liste"
   ]
  },
  {
   "cell_type": "markdown",
   "id": "ec6bb57d",
   "metadata": {},
   "source": [
    "#Lİstelerde alfabetik sıralama yapma örn\n"
   ]
  },
  {
   "cell_type": "code",
   "execution_count": 116,
   "id": "9bb0a485",
   "metadata": {},
   "outputs": [
    {
     "data": {
      "text/plain": [
       "['c', 'java', 'php', 'python']"
      ]
     },
     "execution_count": 116,
     "metadata": {},
     "output_type": "execute_result"
    }
   ],
   "source": [
    "liste = [\"php\",\"python\",\"java\",\"c\"]\n",
    "liste.sort()\n",
    "liste"
   ]
  },
  {
   "cell_type": "code",
   "execution_count": 117,
   "id": "eb8d3424",
   "metadata": {},
   "outputs": [
    {
     "data": {
      "text/plain": [
       "['python', 'php', 'java', 'c']"
      ]
     },
     "execution_count": 117,
     "metadata": {},
     "output_type": "execute_result"
    }
   ],
   "source": [
    "liste.sort(reverse = True)\n",
    "liste"
   ]
  },
  {
   "cell_type": "markdown",
   "id": "0c3739b8",
   "metadata": {},
   "source": [
    "# 2 boyutlu liste yani matris örneği"
   ]
  },
  {
   "cell_type": "code",
   "execution_count": 118,
   "id": "c566126c",
   "metadata": {},
   "outputs": [
    {
     "data": {
      "text/plain": [
       "[[1, 2], [3, 4], [5, 6]]"
      ]
     },
     "execution_count": 118,
     "metadata": {},
     "output_type": "execute_result"
    }
   ],
   "source": [
    "liste=[[1,2],[3,4],[5,6]]\n",
    "liste"
   ]
  },
  {
   "cell_type": "code",
   "execution_count": 119,
   "id": "f6f155a9",
   "metadata": {},
   "outputs": [
    {
     "data": {
      "text/plain": [
       "[3, 4]"
      ]
     },
     "execution_count": 119,
     "metadata": {},
     "output_type": "execute_result"
    }
   ],
   "source": [
    "liste[1]"
   ]
  },
  {
   "cell_type": "code",
   "execution_count": 120,
   "id": "89c25542",
   "metadata": {},
   "outputs": [
    {
     "data": {
      "text/plain": [
       "4"
      ]
     },
     "execution_count": 120,
     "metadata": {},
     "output_type": "execute_result"
    }
   ],
   "source": [
    "liste[1][1]"
   ]
  },
  {
   "cell_type": "markdown",
   "id": "dae6cbe0",
   "metadata": {},
   "source": [
    "# Mantıksal Değerler"
   ]
  },
  {
   "cell_type": "code",
   "execution_count": 122,
   "id": "55823976",
   "metadata": {},
   "outputs": [
    {
     "name": "stdout",
     "output_type": "stream",
     "text": [
      "<class 'bool'>\n"
     ]
    }
   ],
   "source": [
    "a=True\n",
    "print(type(a))"
   ]
  },
  {
   "cell_type": "code",
   "execution_count": 123,
   "id": "d4761b21",
   "metadata": {},
   "outputs": [
    {
     "name": "stdout",
     "output_type": "stream",
     "text": [
      "<class 'bool'>\n"
     ]
    }
   ],
   "source": [
    "b= False\n",
    "print(type(b))"
   ]
  },
  {
   "cell_type": "code",
   "execution_count": 124,
   "id": "99b50637",
   "metadata": {},
   "outputs": [
    {
     "data": {
      "text/plain": [
       "True"
      ]
     },
     "execution_count": 124,
     "metadata": {},
     "output_type": "execute_result"
    }
   ],
   "source": [
    "bool(4)"
   ]
  },
  {
   "cell_type": "code",
   "execution_count": 125,
   "id": "6e2ca9bb",
   "metadata": {},
   "outputs": [
    {
     "data": {
      "text/plain": [
       "False"
      ]
     },
     "execution_count": 125,
     "metadata": {},
     "output_type": "execute_result"
    }
   ],
   "source": [
    "bool(0)"
   ]
  },
  {
   "cell_type": "code",
   "execution_count": 126,
   "id": "ad633d97",
   "metadata": {},
   "outputs": [
    {
     "data": {
      "text/plain": [
       "True"
      ]
     },
     "execution_count": 126,
     "metadata": {},
     "output_type": "execute_result"
    }
   ],
   "source": [
    "bool(1235)"
   ]
  },
  {
   "cell_type": "code",
   "execution_count": 127,
   "id": "f9749b42",
   "metadata": {},
   "outputs": [
    {
     "data": {
      "text/plain": [
       "True"
      ]
     },
     "execution_count": 127,
     "metadata": {},
     "output_type": "execute_result"
    }
   ],
   "source": [
    "bool(-1)"
   ]
  },
  {
   "cell_type": "code",
   "execution_count": 128,
   "id": "bfcd7348",
   "metadata": {},
   "outputs": [
    {
     "data": {
      "text/plain": [
       "True"
      ]
     },
     "execution_count": 128,
     "metadata": {},
     "output_type": "execute_result"
    }
   ],
   "source": [
    "1<2"
   ]
  },
  {
   "cell_type": "code",
   "execution_count": 129,
   "id": "12696541",
   "metadata": {},
   "outputs": [
    {
     "data": {
      "text/plain": [
       "False"
      ]
     },
     "execution_count": 129,
     "metadata": {},
     "output_type": "execute_result"
    }
   ],
   "source": [
    "2<1"
   ]
  },
  {
   "cell_type": "code",
   "execution_count": 130,
   "id": "5a917e20",
   "metadata": {},
   "outputs": [
    {
     "data": {
      "text/plain": [
       "True"
      ]
     },
     "execution_count": 130,
     "metadata": {},
     "output_type": "execute_result"
    }
   ],
   "source": [
    "0==0"
   ]
  },
  {
   "cell_type": "code",
   "execution_count": 131,
   "id": "274690d5",
   "metadata": {},
   "outputs": [
    {
     "data": {
      "text/plain": [
       "False"
      ]
     },
     "execution_count": 131,
     "metadata": {},
     "output_type": "execute_result"
    }
   ],
   "source": [
    "0==2"
   ]
  },
  {
   "cell_type": "code",
   "execution_count": 132,
   "id": "c7304875",
   "metadata": {},
   "outputs": [
    {
     "data": {
      "text/plain": [
       "False"
      ]
     },
     "execution_count": 132,
     "metadata": {},
     "output_type": "execute_result"
    }
   ],
   "source": [
    "0!=0"
   ]
  },
  {
   "cell_type": "code",
   "execution_count": 133,
   "id": "9edd3f49",
   "metadata": {},
   "outputs": [
    {
     "data": {
      "text/plain": [
       "True"
      ]
     },
     "execution_count": 133,
     "metadata": {},
     "output_type": "execute_result"
    }
   ],
   "source": [
    "0!=1"
   ]
  },
  {
   "cell_type": "code",
   "execution_count": 134,
   "id": "370d0673",
   "metadata": {},
   "outputs": [
    {
     "data": {
      "text/plain": [
       "True"
      ]
     },
     "execution_count": 134,
     "metadata": {},
     "output_type": "execute_result"
    }
   ],
   "source": [
    "\"ali\"==\"ali\""
   ]
  },
  {
   "cell_type": "code",
   "execution_count": 135,
   "id": "439200a0",
   "metadata": {},
   "outputs": [
    {
     "data": {
      "text/plain": [
       "False"
      ]
     },
     "execution_count": 135,
     "metadata": {},
     "output_type": "execute_result"
    }
   ],
   "source": [
    "\"ali\"==\"veli\""
   ]
  },
  {
   "cell_type": "code",
   "execution_count": 136,
   "id": "7de2b72e",
   "metadata": {},
   "outputs": [
    {
     "data": {
      "text/plain": [
       "True"
      ]
     },
     "execution_count": 136,
     "metadata": {},
     "output_type": "execute_result"
    }
   ],
   "source": [
    "\"ali\"<\"veli\" #bu kıyaslamayı alfabetik olarak yapar."
   ]
  },
  {
   "cell_type": "code",
   "execution_count": 137,
   "id": "f9a7bc0e",
   "metadata": {},
   "outputs": [
    {
     "data": {
      "text/plain": [
       "False"
      ]
     },
     "execution_count": 137,
     "metadata": {},
     "output_type": "execute_result"
    }
   ],
   "source": [
    "\"ali\">\"veli\""
   ]
  },
  {
   "cell_type": "code",
   "execution_count": 138,
   "id": "073dcd35",
   "metadata": {},
   "outputs": [
    {
     "data": {
      "text/plain": [
       "True"
      ]
     },
     "execution_count": 138,
     "metadata": {},
     "output_type": "execute_result"
    }
   ],
   "source": [
    "54<=54"
   ]
  },
  {
   "cell_type": "code",
   "execution_count": 139,
   "id": "5fb81246",
   "metadata": {},
   "outputs": [
    {
     "data": {
      "text/plain": [
       "False"
      ]
     },
     "execution_count": 139,
     "metadata": {},
     "output_type": "execute_result"
    }
   ],
   "source": [
    "54>54"
   ]
  },
  {
   "cell_type": "code",
   "execution_count": 140,
   "id": "abe44aa4",
   "metadata": {},
   "outputs": [
    {
     "data": {
      "text/plain": [
       "False"
      ]
     },
     "execution_count": 140,
     "metadata": {},
     "output_type": "execute_result"
    }
   ],
   "source": [
    "\"ali\"!=\"ali\""
   ]
  },
  {
   "cell_type": "code",
   "execution_count": null,
   "id": "24d7cd2e",
   "metadata": {},
   "outputs": [],
   "source": []
  }
 ],
 "metadata": {
  "kernelspec": {
   "display_name": "Python 3 (ipykernel)",
   "language": "python",
   "name": "python3"
  },
  "language_info": {
   "codemirror_mode": {
    "name": "ipython",
    "version": 3
   },
   "file_extension": ".py",
   "mimetype": "text/x-python",
   "name": "python",
   "nbconvert_exporter": "python",
   "pygments_lexer": "ipython3",
   "version": "3.9.7"
  }
 },
 "nbformat": 4,
 "nbformat_minor": 5
}
