{
 "cells": [
  {
   "cell_type": "markdown",
   "id": "a5fa19ee",
   "metadata": {},
   "source": [
    "# KALIP = def fonksiyon_adı(parametre1,parametre2...(opsiyonel)):\n",
    "#fonksiyon blogu\n",
    "#yapılacak işlemler\n",
    "#dönüş değeri-opsiyonel"
   ]
  },
  {
   "cell_type": "code",
   "execution_count": 3,
   "id": "c6963e32",
   "metadata": {},
   "outputs": [],
   "source": [
    "def fonk1():\n",
    "    print(\"Nesne tabanlı programlama.\")\n",
    "    print(\"fonsiyon test\")"
   ]
  },
  {
   "cell_type": "code",
   "execution_count": 4,
   "id": "a182cf2b",
   "metadata": {},
   "outputs": [
    {
     "data": {
      "text/plain": [
       "function"
      ]
     },
     "execution_count": 4,
     "metadata": {},
     "output_type": "execute_result"
    }
   ],
   "source": [
    "type(fonk1)"
   ]
  },
  {
   "cell_type": "code",
   "execution_count": 5,
   "id": "b2cb385a",
   "metadata": {},
   "outputs": [
    {
     "name": "stdout",
     "output_type": "stream",
     "text": [
      "Nesne tabanlı programlama.\n",
      "fonsiyon test\n"
     ]
    }
   ],
   "source": [
    "fonk1()"
   ]
  },
  {
   "cell_type": "code",
   "execution_count": 6,
   "id": "01660383",
   "metadata": {},
   "outputs": [
    {
     "name": "stdout",
     "output_type": "stream",
     "text": [
      "Nesne tabanlı programlama.\n",
      "fonsiyon test\n",
      "Nesne tabanlı programlama.\n",
      "fonsiyon test\n"
     ]
    }
   ],
   "source": [
    "fonk1()\n",
    "fonk1()"
   ]
  },
  {
   "cell_type": "code",
   "execution_count": 7,
   "id": "09a34c16",
   "metadata": {},
   "outputs": [],
   "source": [
    "def fonk2 (isim):\n",
    "    print(\"Merhaba:\", isim)"
   ]
  },
  {
   "cell_type": "code",
   "execution_count": 8,
   "id": "94b70182",
   "metadata": {},
   "outputs": [
    {
     "name": "stdout",
     "output_type": "stream",
     "text": [
      "Merhaba: furkan\n"
     ]
    }
   ],
   "source": [
    "fonk2(\"furkan\")"
   ]
  },
  {
   "cell_type": "code",
   "execution_count": 9,
   "id": "087c608a",
   "metadata": {},
   "outputs": [],
   "source": [
    "def toplama (a,b,c):\n",
    "    print(\"toplamları:\", a+b+c)\n",
    "    "
   ]
  },
  {
   "cell_type": "code",
   "execution_count": 10,
   "id": "e64b345f",
   "metadata": {},
   "outputs": [
    {
     "name": "stdout",
     "output_type": "stream",
     "text": [
      "toplamları: 24\n"
     ]
    }
   ],
   "source": [
    "toplama(7,8,9)"
   ]
  },
  {
   "cell_type": "code",
   "execution_count": 11,
   "id": "dd4f0ef0",
   "metadata": {},
   "outputs": [],
   "source": [
    "def faktöriyel(sayı):\n",
    "    faktöriyel=1\n",
    "    if (sayı ==0 or sayı==1):\n",
    "        print(\"faktöriyel:\",faktöriyel)\n",
    "    else:\n",
    "        while(sayı >= 1):\n",
    "            faktöriyel*=sayı\n",
    "            sayı -=1\n",
    "        print(\"faktöriyel:\",faktöriyel)   "
   ]
  },
  {
   "cell_type": "code",
   "execution_count": 12,
   "id": "1e9ea134",
   "metadata": {},
   "outputs": [
    {
     "name": "stdout",
     "output_type": "stream",
     "text": [
      "faktöriyel: 720\n"
     ]
    }
   ],
   "source": [
    "faktöriyel(6)"
   ]
  },
  {
   "cell_type": "code",
   "execution_count": 13,
   "id": "5f6024eb",
   "metadata": {},
   "outputs": [
    {
     "name": "stdout",
     "output_type": "stream",
     "text": [
      "faktöriyel: 120\n"
     ]
    }
   ],
   "source": [
    "faktöriyel(5)"
   ]
  },
  {
   "cell_type": "code",
   "execution_count": 14,
   "id": "06fa18bf",
   "metadata": {},
   "outputs": [
    {
     "name": "stdout",
     "output_type": "stream",
     "text": [
      "faktöriyel: 40320\n"
     ]
    }
   ],
   "source": [
    "faktöriyel(8)"
   ]
  },
  {
   "cell_type": "code",
   "execution_count": 28,
   "id": "0f5a4a60",
   "metadata": {},
   "outputs": [],
   "source": [
    "def faktoriyel(sayı):\n",
    "    faktoriyel=1\n",
    "    if (sayı ==0 or sayı ==1):\n",
    "         print(\"faktöriyel:\", faktoriyel)\n",
    "    else:\n",
    "        while (sayı >= 1):\n",
    "            faktöriyel*=sayı\n",
    "            sayı-=1\n",
    "        print(\"faktöriyel:\",faktoriyel) "
   ]
  },
  {
   "cell_type": "code",
   "execution_count": 29,
   "id": "e614f094",
   "metadata": {},
   "outputs": [
    {
     "ename": "UnboundLocalError",
     "evalue": "local variable 'faktöriyel' referenced before assignment",
     "output_type": "error",
     "traceback": [
      "\u001b[1;31m---------------------------------------------------------------------------\u001b[0m",
      "\u001b[1;31mUnboundLocalError\u001b[0m                         Traceback (most recent call last)",
      "\u001b[1;32m~\\AppData\\Local\\Temp/ipykernel_16608/1173798395.py\u001b[0m in \u001b[0;36m<module>\u001b[1;34m\u001b[0m\n\u001b[1;32m----> 1\u001b[1;33m \u001b[0mfaktoriyel\u001b[0m\u001b[1;33m(\u001b[0m\u001b[1;36m7\u001b[0m\u001b[1;33m)\u001b[0m\u001b[1;33m\u001b[0m\u001b[1;33m\u001b[0m\u001b[0m\n\u001b[0m",
      "\u001b[1;32m~\\AppData\\Local\\Temp/ipykernel_16608/1604562006.py\u001b[0m in \u001b[0;36mfaktoriyel\u001b[1;34m(sayı)\u001b[0m\n\u001b[0;32m      5\u001b[0m     \u001b[1;32melse\u001b[0m\u001b[1;33m:\u001b[0m\u001b[1;33m\u001b[0m\u001b[1;33m\u001b[0m\u001b[0m\n\u001b[0;32m      6\u001b[0m         \u001b[1;32mwhile\u001b[0m \u001b[1;33m(\u001b[0m\u001b[0msayı\u001b[0m \u001b[1;33m>=\u001b[0m \u001b[1;36m1\u001b[0m\u001b[1;33m)\u001b[0m\u001b[1;33m:\u001b[0m\u001b[1;33m\u001b[0m\u001b[1;33m\u001b[0m\u001b[0m\n\u001b[1;32m----> 7\u001b[1;33m             \u001b[0mfaktöriyel\u001b[0m\u001b[1;33m*=\u001b[0m\u001b[0msayı\u001b[0m\u001b[1;33m\u001b[0m\u001b[1;33m\u001b[0m\u001b[0m\n\u001b[0m\u001b[0;32m      8\u001b[0m             \u001b[0msayı\u001b[0m\u001b[1;33m-=\u001b[0m\u001b[1;36m1\u001b[0m\u001b[1;33m\u001b[0m\u001b[1;33m\u001b[0m\u001b[0m\n\u001b[0;32m      9\u001b[0m         \u001b[0mprint\u001b[0m\u001b[1;33m(\u001b[0m\u001b[1;34m\"faktöriyel:\"\u001b[0m\u001b[1;33m,\u001b[0m\u001b[0mfaktoriyel\u001b[0m\u001b[1;33m)\u001b[0m\u001b[1;33m\u001b[0m\u001b[1;33m\u001b[0m\u001b[0m\n",
      "\u001b[1;31mUnboundLocalError\u001b[0m: local variable 'faktöriyel' referenced before assignment"
     ]
    }
   ],
   "source": [
    "faktoriyel(7)\n"
   ]
  },
  {
   "cell_type": "code",
   "execution_count": 15,
   "id": "04432df5",
   "metadata": {},
   "outputs": [],
   "source": [
    "def toplama(a,b,c):\n",
    "    return a+b+c\n",
    "def ikiylecarp(a):\n",
    "    return a*2"
   ]
  },
  {
   "cell_type": "code",
   "execution_count": 16,
   "id": "3575288b",
   "metadata": {},
   "outputs": [
    {
     "name": "stdout",
     "output_type": "stream",
     "text": [
      "24\n"
     ]
    }
   ],
   "source": [
    "toplam = toplama(3,4,5)\n",
    "print(ikiylecarp(toplam))"
   ]
  },
  {
   "cell_type": "code",
   "execution_count": 17,
   "id": "b4eedb59",
   "metadata": {},
   "outputs": [],
   "source": [
    "def üçlecarp(a):\n",
    "    print(\"1. fonk. çalıştı\")\n",
    "    return a*3"
   ]
  },
  {
   "cell_type": "code",
   "execution_count": 18,
   "id": "124fd62b",
   "metadata": {},
   "outputs": [],
   "source": [
    "def ikiyletopla(a):\n",
    "    print(\"2. fonk. çalıştı\")\n",
    "    return a+2"
   ]
  },
  {
   "cell_type": "code",
   "execution_count": 19,
   "id": "4a7126b2",
   "metadata": {},
   "outputs": [],
   "source": [
    "def dördeböl(a):\n",
    "    print(\"3. fonk. çalıştı\")\n",
    "    return a/4"
   ]
  },
  {
   "cell_type": "code",
   "execution_count": 20,
   "id": "c799e999",
   "metadata": {},
   "outputs": [
    {
     "name": "stdout",
     "output_type": "stream",
     "text": [
      "1. fonk. çalıştı\n",
      "2. fonk. çalıştı\n",
      "3. fonk. çalıştı\n",
      "4.25\n"
     ]
    }
   ],
   "source": [
    "print(dördeböl(ikiyletopla(üçlecarp(5))))"
   ]
  },
  {
   "cell_type": "code",
   "execution_count": 21,
   "id": "b9adb761",
   "metadata": {},
   "outputs": [],
   "source": [
    "def toplama(a,b,c):\n",
    "    return a+b+c\n",
    "def ikiylecarp(a):\n",
    "    return a*2"
   ]
  },
  {
   "cell_type": "code",
   "execution_count": 22,
   "id": "0b5aa557",
   "metadata": {},
   "outputs": [
    {
     "name": "stdout",
     "output_type": "stream",
     "text": [
      "24\n"
     ]
    }
   ],
   "source": [
    "toplam = toplama(3,4,5)\n",
    "print(ikiylecarp(toplam))"
   ]
  },
  {
   "cell_type": "markdown",
   "id": "08b35eb4",
   "metadata": {},
   "source": [
    "# returndan sonra gelenler çalışmaz"
   ]
  },
  {
   "cell_type": "code",
   "execution_count": 24,
   "id": "84c78850",
   "metadata": {},
   "outputs": [],
   "source": [
    "def toplama(a,b,c):\n",
    "    print(\"toplama fonk.\")\n",
    "    return a+b+c"
   ]
  },
  {
   "cell_type": "code",
   "execution_count": 25,
   "id": "7bfdaed4",
   "metadata": {},
   "outputs": [
    {
     "name": "stdout",
     "output_type": "stream",
     "text": [
      "toplama fonk.\n"
     ]
    },
    {
     "data": {
      "text/plain": [
       "6"
      ]
     },
     "execution_count": 25,
     "metadata": {},
     "output_type": "execute_result"
    }
   ],
   "source": [
    "toplama(1,2,3)"
   ]
  },
  {
   "cell_type": "code",
   "execution_count": 26,
   "id": "ff3ab420",
   "metadata": {},
   "outputs": [],
   "source": [
    "def fonk2(isim):\n",
    "    print(\"selam\", isim)\n",
    "    "
   ]
  },
  {
   "cell_type": "code",
   "execution_count": 27,
   "id": "57265703",
   "metadata": {},
   "outputs": [
    {
     "name": "stdout",
     "output_type": "stream",
     "text": [
      "selam furkan\n"
     ]
    }
   ],
   "source": [
    "fonk2(\"furkan\")"
   ]
  },
  {
   "cell_type": "code",
   "execution_count": 28,
   "id": "785ad6d3",
   "metadata": {},
   "outputs": [
    {
     "ename": "TypeError",
     "evalue": "fonk2() missing 1 required positional argument: 'isim'",
     "output_type": "error",
     "traceback": [
      "\u001b[1;31m---------------------------------------------------------------------------\u001b[0m",
      "\u001b[1;31mTypeError\u001b[0m                                 Traceback (most recent call last)",
      "\u001b[1;32m~\\AppData\\Local\\Temp/ipykernel_3632/1089974863.py\u001b[0m in \u001b[0;36m<module>\u001b[1;34m\u001b[0m\n\u001b[1;32m----> 1\u001b[1;33m \u001b[0mfonk2\u001b[0m\u001b[1;33m(\u001b[0m\u001b[1;33m)\u001b[0m \u001b[1;31m#böyle kullanılmaz çalışmaz\u001b[0m\u001b[1;33m\u001b[0m\u001b[1;33m\u001b[0m\u001b[0m\n\u001b[0m",
      "\u001b[1;31mTypeError\u001b[0m: fonk2() missing 1 required positional argument: 'isim'"
     ]
    }
   ],
   "source": [
    "fonk2() #böyle kullanılmaz çalışmaz"
   ]
  },
  {
   "cell_type": "code",
   "execution_count": 29,
   "id": "79b7a984",
   "metadata": {},
   "outputs": [],
   "source": [
    "def fonk2(isim=\"xxx\"):\n",
    "    print(\"selam\", isim)"
   ]
  },
  {
   "cell_type": "code",
   "execution_count": 30,
   "id": "7c68092d",
   "metadata": {},
   "outputs": [
    {
     "name": "stdout",
     "output_type": "stream",
     "text": [
      "selam xxx\n"
     ]
    }
   ],
   "source": [
    "fonk2()"
   ]
  },
  {
   "cell_type": "code",
   "execution_count": 31,
   "id": "0d1c2c84",
   "metadata": {},
   "outputs": [
    {
     "name": "stdout",
     "output_type": "stream",
     "text": [
      "selam rüm\n"
     ]
    }
   ],
   "source": [
    "fonk2(\"rüm\")"
   ]
  },
  {
   "cell_type": "code",
   "execution_count": 32,
   "id": "fe43069f",
   "metadata": {},
   "outputs": [],
   "source": [
    "def bilgilerigöster(ad=\"bilgi yok\", soyad=\"bilgi yok\", numara=\"bilgi yok\"):\n",
    "    print(\"Ad:\",ad, \"Soyad:\", soyad, \"Numara:\", numara)"
   ]
  },
  {
   "cell_type": "code",
   "execution_count": 33,
   "id": "e52e8b60",
   "metadata": {},
   "outputs": [
    {
     "name": "stdout",
     "output_type": "stream",
     "text": [
      "Ad: bilgi yok Soyad: bilgi yok Numara: bilgi yok\n"
     ]
    }
   ],
   "source": [
    "bilgilerigöster()"
   ]
  },
  {
   "cell_type": "code",
   "execution_count": 34,
   "id": "5e608d49",
   "metadata": {},
   "outputs": [
    {
     "name": "stdout",
     "output_type": "stream",
     "text": [
      "Ad: ali Soyad: furkan Numara: 12235\n"
     ]
    }
   ],
   "source": [
    "bilgilerigöster(\"ali\",\"furkan\",\"12235\")"
   ]
  },
  {
   "cell_type": "code",
   "execution_count": 35,
   "id": "b28ea83f",
   "metadata": {},
   "outputs": [
    {
     "name": "stdout",
     "output_type": "stream",
     "text": [
      "Ad: bilgi yok Soyad: bilgi yok Numara: 1214\n"
     ]
    }
   ],
   "source": [
    "bilgilerigöster(numara=1214)"
   ]
  },
  {
   "cell_type": "code",
   "execution_count": 36,
   "id": "9d45bf1b",
   "metadata": {},
   "outputs": [
    {
     "name": "stdout",
     "output_type": "stream",
     "text": [
      "Ad: Ali Soyad: bilgi yok Numara: 12364\n"
     ]
    }
   ],
   "source": [
    "bilgilerigöster(ad=\"Ali\", numara=\"12364\")"
   ]
  },
  {
   "cell_type": "code",
   "execution_count": 37,
   "id": "bd17c52f",
   "metadata": {},
   "outputs": [],
   "source": [
    "def toplama(a,b,c):\n",
    "    print(a+b+c)"
   ]
  },
  {
   "cell_type": "code",
   "execution_count": 38,
   "id": "188f547e",
   "metadata": {},
   "outputs": [
    {
     "name": "stdout",
     "output_type": "stream",
     "text": [
      "15\n"
     ]
    }
   ],
   "source": [
    "toplama(4,5,6)"
   ]
  },
  {
   "cell_type": "code",
   "execution_count": 39,
   "id": "36da4405",
   "metadata": {},
   "outputs": [
    {
     "ename": "TypeError",
     "evalue": "toplama() takes 3 positional arguments but 4 were given",
     "output_type": "error",
     "traceback": [
      "\u001b[1;31m---------------------------------------------------------------------------\u001b[0m",
      "\u001b[1;31mTypeError\u001b[0m                                 Traceback (most recent call last)",
      "\u001b[1;32m~\\AppData\\Local\\Temp/ipykernel_3632/1200847551.py\u001b[0m in \u001b[0;36m<module>\u001b[1;34m\u001b[0m\n\u001b[1;32m----> 1\u001b[1;33m \u001b[0mtoplama\u001b[0m\u001b[1;33m(\u001b[0m\u001b[1;36m6\u001b[0m\u001b[1;33m,\u001b[0m\u001b[1;36m7\u001b[0m\u001b[1;33m,\u001b[0m\u001b[1;36m8\u001b[0m\u001b[1;33m,\u001b[0m\u001b[1;36m9\u001b[0m\u001b[1;33m)\u001b[0m \u001b[1;31m#4 tane argüman veremeyiz.çünkü 3 tane değişken atadık.kaç değişken atarsak o kadar argüman verebiliriz.\u001b[0m\u001b[1;33m\u001b[0m\u001b[1;33m\u001b[0m\u001b[0m\n\u001b[0m",
      "\u001b[1;31mTypeError\u001b[0m: toplama() takes 3 positional arguments but 4 were given"
     ]
    }
   ],
   "source": [
    "toplama(6,7,8,9) #4 tane argüman veremeyiz.çünkü 3 tane değişken atadık.kaç değişken atarsak o kadar argüman verebiliriz."
   ]
  },
  {
   "cell_type": "markdown",
   "id": "357efba5",
   "metadata": {},
   "source": [
    "#bir fonk. çok sayıda argümanla kullanmak istersek *parametre kullanmak gerekir."
   ]
  },
  {
   "cell_type": "code",
   "execution_count": 40,
   "id": "786652d9",
   "metadata": {},
   "outputs": [],
   "source": [
    "def toplama(*parametreler):\n",
    "    toplam = 0\n",
    "    print(\"Parametreler:\", parametreler)\n",
    "    for i in parametreler:\n",
    "        toplam +=i\n",
    "    return toplam    "
   ]
  },
  {
   "cell_type": "code",
   "execution_count": 41,
   "id": "9977ccd2",
   "metadata": {},
   "outputs": [
    {
     "name": "stdout",
     "output_type": "stream",
     "text": [
      "Parametreler: (3, 4, 5, 6, 7, 8, 9, 10)\n",
      "52\n"
     ]
    }
   ],
   "source": [
    "print(toplama(3,4,5,6,7,8,9,10)) "
   ]
  },
  {
   "cell_type": "code",
   "execution_count": 42,
   "id": "7634cc02",
   "metadata": {},
   "outputs": [
    {
     "name": "stdout",
     "output_type": "stream",
     "text": [
      "Parametreler: (1, 2, 3)\n",
      "6\n"
     ]
    }
   ],
   "source": [
    "print(toplama(1,2,3))"
   ]
  },
  {
   "cell_type": "markdown",
   "id": "bb1f6b01",
   "metadata": {},
   "source": [
    "# kullanıcıdan girilen değer ile 0 arasındaki 8 e bölünen sayılardan bir liste oluşturulması?"
   ]
  },
  {
   "cell_type": "code",
   "execution_count": 44,
   "id": "0dcdc676",
   "metadata": {},
   "outputs": [],
   "source": [
    "def sekiz():\n",
    "    l2= []\n",
    "    a=int(input(\"kullanıcı değeri giriniz: \"))\n",
    "    for i in range(1,a+1):\n",
    "        if i%8==0:\n",
    "            l2.append(i)\n",
    "            \n",
    "    print(l2)"
   ]
  },
  {
   "cell_type": "code",
   "execution_count": 45,
   "id": "05694bc8",
   "metadata": {},
   "outputs": [
    {
     "name": "stdout",
     "output_type": "stream",
     "text": [
      "kullanıcı değeri giriniz: 8\n",
      "[8]\n"
     ]
    }
   ],
   "source": [
    "sekiz()"
   ]
  },
  {
   "cell_type": "code",
   "execution_count": 47,
   "id": "f9bd2c1b",
   "metadata": {},
   "outputs": [],
   "source": [
    "def sekiz():\n",
    "    l2= []\n",
    "    l3=[]\n",
    "    a=int(input(\"kullanıcı değeri giriniz: \"))\n",
    "    for i in range(1,a+1):\n",
    "        if i%8==0:\n",
    "            print(i)\n",
    "            l2.append(i)\n",
    "        else:\n",
    "            l3.append(i)\n",
    "            \n",
    "    print(\"bölünebilenler=\", l2)\n",
    "    print(\"bölünemeyenler=\",l3)"
   ]
  },
  {
   "cell_type": "code",
   "execution_count": 48,
   "id": "b62e5c74",
   "metadata": {},
   "outputs": [
    {
     "name": "stdout",
     "output_type": "stream",
     "text": [
      "kullanıcı değeri giriniz: 70\n",
      "8\n",
      "16\n",
      "24\n",
      "32\n",
      "40\n",
      "48\n",
      "56\n",
      "64\n",
      "bölünebilenler= [8, 16, 24, 32, 40, 48, 56, 64]\n",
      "bölünemeyenler= [1, 2, 3, 4, 5, 6, 7, 9, 10, 11, 12, 13, 14, 15, 17, 18, 19, 20, 21, 22, 23, 25, 26, 27, 28, 29, 30, 31, 33, 34, 35, 36, 37, 38, 39, 41, 42, 43, 44, 45, 46, 47, 49, 50, 51, 52, 53, 54, 55, 57, 58, 59, 60, 61, 62, 63, 65, 66, 67, 68, 69, 70]\n"
     ]
    }
   ],
   "source": [
    "sekiz()"
   ]
  },
  {
   "cell_type": "code",
   "execution_count": 91,
   "id": "178d6408",
   "metadata": {},
   "outputs": [],
   "source": [
    "def tamBolenleriBul(sayı):\n",
    "    tamBolenler= []\n",
    "    \n",
    "    for i in range(2,sayı):\n",
    "        if ( sayı % i ==0):\n",
    "            tamBolenler.append(i)\n",
    "            \n",
    "    return tamBolenler"
   ]
  },
  {
   "cell_type": "code",
   "execution_count": 93,
   "id": "d864ac77",
   "metadata": {},
   "outputs": [
    {
     "name": "stdout",
     "output_type": "stream",
     "text": [
      "[2, 4, 5, 8, 10, 20, 25, 40, 50, 100]\n"
     ]
    }
   ],
   "source": [
    "print(tamBolenleriBul(200))"
   ]
  },
  {
   "cell_type": "code",
   "execution_count": 55,
   "id": "023fdcf1",
   "metadata": {},
   "outputs": [],
   "source": [
    "def ise_alım():\n",
    "    while True:\n",
    "        s1=0\n",
    "        s2=0\n",
    "        l4=[\"pazartesi\", \"salı\",\"çarşamba\",\"perşembe\",\"cuma\",\"cumartesi\",\"pazar\"]\n",
    "        a1=input(\"çıkmak için q değeri giriniz.Devam etmek için enter a basınız.\")\n",
    "        if a1 == \"q\" or a1 == \"Q\":\n",
    "            break\n",
    "        elif(a1 == \"\"):\n",
    "            a2 = input(\"cinsiyet ? (erkek ise E/ kadın ise K) giriniz\")\n",
    "            if a2 ==\"e\" or a2 ==\"E\":\n",
    "                a3= input(\"askerliğinizi yaptınız mı?(evet=e)/(hayır=h)\" )\n",
    "                if a3==\"E\" or a3==\"e\":\n",
    "                    for i in (l4):\n",
    "                        print(i,\"günü çalışabilir misiniz? (evet=e)/ (hayır=h)\")\n",
    "                        c1= input()\n",
    "                        if (c1==\"e\" or c1==\"E\"):\n",
    "                            s1=s1+1\n",
    "                    if(s1>=4):\n",
    "                        print(\"sef olarak ise alındınız\")\n",
    "                    elif(s1<4 and s1>0):\n",
    "                        print(\"komi olarak işe alındınız\")   \n",
    "                    else:\n",
    "                        print(\"ise alamayız\")\n",
    "                elif( a3==\"h\" or a3==\"H\"):\n",
    "                    print(\"işe alınmadınız\")\n",
    "                else:\n",
    "                    print(\"yanlıs değer girdiniz\")\n",
    "            elif (a2==\"k\" or a2 == \"K\"):   \n",
    "                    c2=int(input(\"kaç yıldır ahçısınız ?\"))\n",
    "                    if (c2>3):\n",
    "                        print(\"şef ascı olarak ise alındınız\")\n",
    "                    elif(c2==3):\n",
    "                        print(\"mutfak elemanı olarak alındınız.\")\n",
    "                    elif(c2<3):\n",
    "                        print(\"işe alınmadınız\")\n",
    "                    else:\n",
    "                        print(\"yanlış değer girdiniz\")\n",
    "            else:\n",
    "                print(\"yanlış harf girdiniz\")\n",
    "                \n",
    "        else:\n",
    "            print(\"yanlış harf girdiniz\")\n",
    "            break"
   ]
  },
  {
   "cell_type": "code",
   "execution_count": 56,
   "id": "0414c99b",
   "metadata": {},
   "outputs": [
    {
     "name": "stdout",
     "output_type": "stream",
     "text": [
      "çıkmak için q değeri giriniz.Devam etmek için enter a basınız.\n",
      "cinsiyet ? (erkek ise E/ kadın ise K) girinizk\n",
      "kaç yıldır ahçısınız ?4\n",
      "şef ascı olarak ise alındınız\n",
      "çıkmak için q değeri giriniz.Devam etmek için enter a basınız.q\n"
     ]
    }
   ],
   "source": [
    "ise_alım()"
   ]
  },
  {
   "cell_type": "code",
   "execution_count": 67,
   "id": "6a4bc9e7",
   "metadata": {},
   "outputs": [
    {
     "name": "stdout",
     "output_type": "stream",
     "text": [
      "------------------------------\n",
      "isim       : Fırat\n",
      "soyisim    : Özgül\n",
      "isletimsis : Ubuntu\n",
      "sehir      : İstanbul\n",
      "------------------------------\n",
      "------------------------------\n",
      "isim       : Mehmet\n",
      "soyisim    : Öztaban\n",
      "isletimsis : Debian\n",
      "sehir      : Ankara\n",
      "------------------------------\n"
     ]
    }
   ],
   "source": [
    "def kayıt_olustur(isim, soyisim, isletimsis, sehir):\n",
    "    \n",
    "    print(\"-\"*30)\n",
    "    \n",
    "    print(\"isim       :\", isim)\n",
    "    print(\"soyisim    :\", soyisim)\n",
    "    print(\"isletimsis :\", isletimsis)\n",
    "    print(\"sehir      :\", sehir)\n",
    "    \n",
    "    print(\"-\"*30)\n",
    "    \n",
    "    \n",
    "kayıt_olustur(\"Fırat\", \"Özgül\", \"Ubuntu\", \"İstanbul\")\n",
    "kayıt_olustur(\"Mehmet\", \"Öztaban\", \"Debian\", \"Ankara\")"
   ]
  },
  {
   "cell_type": "code",
   "execution_count": 69,
   "id": "d2a7950d",
   "metadata": {},
   "outputs": [
    {
     "name": "stdout",
     "output_type": "stream",
     "text": [
      "21 11 26 29\n"
     ]
    }
   ],
   "source": [
    "def yasHesapla(dogumYili):\n",
    "    return 2021- dogumYili\n",
    "\n",
    "cınar = yasHesapla(2000)\n",
    "ada= yasHesapla(2010)\n",
    "rumeysa= yasHesapla(1995)\n",
    "islam= yasHesapla(1992)\n",
    "\n",
    "print(cınar, ada, rumeysa, islam)"
   ]
  },
  {
   "cell_type": "code",
   "execution_count": 72,
   "id": "9403fe83",
   "metadata": {},
   "outputs": [
    {
     "name": "stdout",
     "output_type": "stream",
     "text": [
      "emekliliğinize 14 yıl kaldı\n",
      "emekliliğinize 39 yıl kaldı\n",
      "emekliliğinize 34 yıl kaldı\n"
     ]
    }
   ],
   "source": [
    "def EmeklilikYiliHesaplama(dogumYili, isim):\n",
    "    yas = yasHesapla(dogumYili)\n",
    "    emeklilik = 65 - yas\n",
    "    if emeklilik >0:\n",
    "        print(f\"emekliliğinize {emeklilik} yıl kaldı\")\n",
    "    else:\n",
    "        print(\"Zaten emekli oldunuz\")\n",
    "        \n",
    "EmeklilikYiliHesaplama(1970, \"Ali\")\n",
    "EmeklilikYiliHesaplama(1995, \"Rümeysa\")\n",
    "EmeklilikYiliHesaplama(1990, \"islam\")"
   ]
  },
  {
   "cell_type": "code",
   "execution_count": 73,
   "id": "cdc7d4a5",
   "metadata": {},
   "outputs": [
    {
     "name": "stdout",
     "output_type": "stream",
     "text": [
      "12 sayısının karesi 144 sayısıdır\n"
     ]
    }
   ],
   "source": [
    "def karebul():\n",
    "    sayı=12\n",
    "    cıktı = \"{} sayısının karesi {} sayısıdır\"\n",
    "    print(cıktı.format(sayı,sayı**2))\n",
    "\n",
    "karebul()"
   ]
  },
  {
   "cell_type": "code",
   "execution_count": 11,
   "id": "77fa3949",
   "metadata": {},
   "outputs": [
    {
     "ename": "TypeError",
     "evalue": "karebul() takes 0 positional arguments but 1 was given",
     "output_type": "error",
     "traceback": [
      "\u001b[1;31m---------------------------------------------------------------------------\u001b[0m",
      "\u001b[1;31mTypeError\u001b[0m                                 Traceback (most recent call last)",
      "\u001b[1;32m~\\AppData\\Local\\Temp/ipykernel_16608/1206585667.py\u001b[0m in \u001b[0;36m<module>\u001b[1;34m\u001b[0m\n\u001b[0;32m      3\u001b[0m     \u001b[0mprint\u001b[0m\u001b[1;33m(\u001b[0m\u001b[0mcıktı\u001b[0m\u001b[1;33m.\u001b[0m\u001b[0mformat\u001b[0m\u001b[1;33m(\u001b[0m\u001b[0mi\u001b[0m\u001b[1;33m,\u001b[0m \u001b[0mi\u001b[0m\u001b[1;33m**\u001b[0m\u001b[1;36m2\u001b[0m\u001b[1;33m)\u001b[0m\u001b[1;33m)\u001b[0m\u001b[1;33m\u001b[0m\u001b[1;33m\u001b[0m\u001b[0m\n\u001b[0;32m      4\u001b[0m \u001b[1;33m\u001b[0m\u001b[0m\n\u001b[1;32m----> 5\u001b[1;33m \u001b[0mkarebul\u001b[0m\u001b[1;33m(\u001b[0m\u001b[1;36m5\u001b[0m\u001b[1;33m)\u001b[0m\u001b[1;33m\u001b[0m\u001b[1;33m\u001b[0m\u001b[0m\n\u001b[0m",
      "\u001b[1;31mTypeError\u001b[0m: karebul() takes 0 positional arguments but 1 was given"
     ]
    }
   ],
   "source": [
    "def karebul():\n",
    "    a=int(input(\"Kenar uzunluğunu gir : \"))\n",
    "    print(cıktı.format(i, i**2))\n",
    "    \n",
    "karebul(5)"
   ]
  },
  {
   "cell_type": "code",
   "execution_count": 86,
   "id": "dd245904",
   "metadata": {},
   "outputs": [
    {
     "name": "stdout",
     "output_type": "stream",
     "text": [
      "5 sayısının karesi 25 sayısıdır\n"
     ]
    }
   ],
   "source": [
    "def karebul(i):\n",
    "    cıktı =\"{} sayısının karesi {} sayısıdır\"\n",
    "    print(cıktı.format(i, i**2))\n",
    "    \n",
    "karebul(5)"
   ]
  },
  {
   "cell_type": "code",
   "execution_count": 87,
   "id": "24e1df2a",
   "metadata": {},
   "outputs": [
    {
     "name": "stdout",
     "output_type": "stream",
     "text": [
      "10 sayısının karesi 100 sayısıdır\n"
     ]
    }
   ],
   "source": [
    "karebul(10)"
   ]
  },
  {
   "cell_type": "code",
   "execution_count": 88,
   "id": "419392d9",
   "metadata": {},
   "outputs": [
    {
     "name": "stdout",
     "output_type": "stream",
     "text": [
      "5 sayısının karesi 25, karekökü ise 2.23606797749979 sayısıdır\n"
     ]
    }
   ],
   "source": [
    "def kare_bul(sayı):\n",
    "    cıktı=\"{} sayısının karesi {}, karekökü ise {} sayısıdır\"\n",
    "    print(cıktı.format(sayı,sayı**2, sayı**0.5))\n",
    "kare_bul(5)    "
   ]
  },
  {
   "cell_type": "code",
   "execution_count": 95,
   "id": "47d5f467",
   "metadata": {},
   "outputs": [
    {
     "name": "stdout",
     "output_type": "stream",
     "text": [
      "Merhaba\n",
      "Merhaba\n",
      "Merhaba\n",
      "Merhaba\n",
      "Merhaba\n",
      "\n"
     ]
    }
   ],
   "source": [
    "def yazdır(kelime, adet):\n",
    "    print(kelime*adet)\n",
    "\n",
    "yazdır(\"Merhaba\\n\", 5)    "
   ]
  },
  {
   "cell_type": "code",
   "execution_count": 100,
   "id": "2c736556",
   "metadata": {},
   "outputs": [
    {
     "name": "stdout",
     "output_type": "stream",
     "text": [
      "sayı 1 : 1\n",
      "sayı 2 : 17\n",
      "2\n",
      "3\n",
      "5\n",
      "7\n",
      "11\n",
      "13\n"
     ]
    }
   ],
   "source": [
    "def asalSayılarıBul(sayı1, sayı2):\n",
    "    for sayı in range(sayı1, sayı2):\n",
    "        if sayı > 1:\n",
    "            for i in range(2, sayı):\n",
    "                if (sayı % i ==0):\n",
    "                    break\n",
    "            else:\n",
    "                print(sayı)\n",
    "                \n",
    "                \n",
    "sayı1 = int(input(\"sayı 1 : \"))\n",
    "sayı2 = int(input(\"sayı 2 : \"))\n",
    "\n",
    "asalSayılarıBul(sayı1, sayı2)"
   ]
  },
  {
   "cell_type": "code",
   "execution_count": null,
   "id": "2c481921",
   "metadata": {},
   "outputs": [
    {
     "name": "stdout",
     "output_type": "stream",
     "text": [
      "Bir işlem seçiniz : q\n"
     ]
    }
   ],
   "source": [
    "def toplama(a,b):\n",
    "    return a+b\n",
    "def cıkarma(a,b):\n",
    "    return a-b\n",
    "def carpma(a,b):\n",
    "    return a*b\n",
    "def bolme(a,b):\n",
    "    return a/b\n",
    "\n",
    "while True:\n",
    "    islem = input(\"Bir işlem seçiniz : \")\n",
    "    \n",
    "    if islem == \"q\":\n",
    "        exit()\n",
    "     \n",
    "    a= int(input(\"Birinci sayıyı gir :  \"))\n",
    "    b= int(input(\"İkinci sayıyı gir  :  \"))\n",
    "        \n",
    "    if islem==\"1\":\n",
    "        print(\"Sonuc :\", toplama(a,b))\n",
    "    elif islem==\"2\":\n",
    "        print(\"Sonuc :\", cıkarma(a,b))\n",
    "    elif islem==\"3\":\n",
    "        print(\"Sonuc :\", carpma(a,b))\n",
    "    elif islem==\"4\":\n",
    "        print(\"Sonuc :\", bolme(a,b))\n",
    "    else:\n",
    "        print(\"Tekrar dene\")\n",
    "        exit() # bu sistem pycharm da calısıyor"
   ]
  },
  {
   "cell_type": "code",
   "execution_count": 5,
   "id": "293d0494",
   "metadata": {},
   "outputs": [
    {
     "name": "stdout",
     "output_type": "stream",
     "text": [
      "Birinci sayıyı gir :\n",
      " 5\n",
      "İkinci sayıyı gir  :\n",
      " 5\n",
      "\n",
      " Toplama için 1\n",
      " Çıkarma için 2\n",
      " Çarpma için 3\n",
      " Bölme için 4\n",
      "\n",
      ":3\n",
      "25\n",
      "None\n"
     ]
    }
   ],
   "source": [
    "def toplama(a,b):\n",
    "    return a+b\n",
    "def cıkarma(a,b):\n",
    "    return a-b\n",
    "def carpma(a,b):\n",
    "    return a*b\n",
    "def bolme(a,b):\n",
    "    return a/b\n",
    "def x(a,b,islem):\n",
    "    if islem==\"1\":\n",
    "        print(toplama(a,b))\n",
    "    elif islem==\"2\":\n",
    "        print(cıkarma(a,b))\n",
    "    elif islem==\"3\":\n",
    "        print(carpma(a,b))\n",
    "    elif islem==\"4\":\n",
    "        print(bolme(a,b))\n",
    "def degisen():\n",
    "    a= int(input(\"Birinci sayıyı gir :\\n \"))\n",
    "    b= int(input(\"İkinci sayıyı gir  :\\n \"))\n",
    "    print(\"\\n Toplama için 1\\n Çıkarma için 2\\n Çarpma için 3\\n Bölme için 4\\n\")\n",
    "    islem=input(\":\")\n",
    "    x(a,b,islem)\n",
    "\n",
    "def kontrol():\n",
    "    degisen()\n",
    "    \n",
    "    \n",
    "    \n",
    "print(kontrol())    \n",
    "\n",
    "    "
   ]
  },
  {
   "cell_type": "code",
   "execution_count": 7,
   "id": "f9087374",
   "metadata": {},
   "outputs": [
    {
     "name": "stdout",
     "output_type": "stream",
     "text": [
      "bölünen değeri giriniz: 100\n",
      "bölen değeri giriniz :10\n",
      "100 sayısı 10 sayısına tam bölünür\n"
     ]
    }
   ],
   "source": [
    "for i in range(0,1):\n",
    "    a=int(input(\"bölünen değeri giriniz: \"))\n",
    "    b=int(input(\"bölen değeri giriniz :\"))\n",
    "    h=a%b\n",
    "    if(h==0):\n",
    "        print(a, \"sayısı\",b, \"sayısına tam bölünür\")\n",
    "    else:\n",
    "        print(a, \"sayısı\", b, \"sayısına tam bölünmez\")"
   ]
  },
  {
   "cell_type": "code",
   "execution_count": 24,
   "id": "61bb6f21",
   "metadata": {},
   "outputs": [],
   "source": [
    "x = (\"Burak\")\n",
    "def Deneme():\n",
    "    global x\n",
    "    x=(\"Rümeysa\")\n",
    "    print(x)\n",
    "def Deneme1():\n",
    "    global x\n",
    "    x=(\"Erhan\")\n",
    "    print(x)"
   ]
  },
  {
   "cell_type": "code",
   "execution_count": 25,
   "id": "3199c057",
   "metadata": {},
   "outputs": [
    {
     "name": "stdout",
     "output_type": "stream",
     "text": [
      "Rümeysa\n"
     ]
    }
   ],
   "source": [
    "Deneme()"
   ]
  },
  {
   "cell_type": "code",
   "execution_count": 26,
   "id": "b4a985dd",
   "metadata": {},
   "outputs": [
    {
     "name": "stdout",
     "output_type": "stream",
     "text": [
      "Rümeysa\n"
     ]
    }
   ],
   "source": [
    "print(x)"
   ]
  },
  {
   "cell_type": "code",
   "execution_count": 27,
   "id": "aef6337f",
   "metadata": {},
   "outputs": [
    {
     "name": "stdout",
     "output_type": "stream",
     "text": [
      "Erhan\n"
     ]
    }
   ],
   "source": [
    "Deneme1()"
   ]
  },
  {
   "cell_type": "code",
   "execution_count": 28,
   "id": "afc58532",
   "metadata": {},
   "outputs": [
    {
     "data": {
      "text/plain": [
       "'Erhan'"
      ]
     },
     "execution_count": 28,
     "metadata": {},
     "output_type": "execute_result"
    }
   ],
   "source": [
    "x"
   ]
  },
  {
   "cell_type": "code",
   "execution_count": 29,
   "id": "5354837a",
   "metadata": {},
   "outputs": [
    {
     "data": {
      "text/plain": [
       "'Erhan'"
      ]
     },
     "execution_count": 29,
     "metadata": {},
     "output_type": "execute_result"
    }
   ],
   "source": [
    "x"
   ]
  },
  {
   "cell_type": "code",
   "execution_count": 30,
   "id": "b1b26680",
   "metadata": {},
   "outputs": [
    {
     "name": "stdout",
     "output_type": "stream",
     "text": [
      "Rümeysa\n"
     ]
    }
   ],
   "source": [
    "Deneme()"
   ]
  },
  {
   "cell_type": "code",
   "execution_count": 31,
   "id": "dc1e752d",
   "metadata": {},
   "outputs": [
    {
     "name": "stdout",
     "output_type": "stream",
     "text": [
      "Rümeysa\n"
     ]
    }
   ],
   "source": [
    "print(x)"
   ]
  },
  {
   "cell_type": "code",
   "execution_count": 37,
   "id": "233a7a0f",
   "metadata": {},
   "outputs": [],
   "source": [
    "x = (\"Burak\")\n",
    "def Deneme():\n",
    "    global x\n",
    "    x=(\"Rümeysa\")\n",
    "    print(x)\n"
   ]
  },
  {
   "cell_type": "code",
   "execution_count": 38,
   "id": "26e6f38e",
   "metadata": {},
   "outputs": [
    {
     "data": {
      "text/plain": [
       "'Burak'"
      ]
     },
     "execution_count": 38,
     "metadata": {},
     "output_type": "execute_result"
    }
   ],
   "source": [
    "x"
   ]
  },
  {
   "cell_type": "code",
   "execution_count": 39,
   "id": "6c50ea40",
   "metadata": {},
   "outputs": [
    {
     "name": "stdout",
     "output_type": "stream",
     "text": [
      "Rümeysa\n"
     ]
    }
   ],
   "source": [
    "Deneme()"
   ]
  },
  {
   "cell_type": "code",
   "execution_count": 40,
   "id": "5e1e7d54",
   "metadata": {},
   "outputs": [
    {
     "name": "stdout",
     "output_type": "stream",
     "text": [
      "Rümeysa\n"
     ]
    }
   ],
   "source": [
    "print(x)"
   ]
  },
  {
   "cell_type": "code",
   "execution_count": 44,
   "id": "50bb8ae2",
   "metadata": {},
   "outputs": [
    {
     "name": "stdout",
     "output_type": "stream",
     "text": [
      "Yıl gir: 1995\n",
      "Ay gir: 7\n",
      "     July 1995\n",
      "Mo Tu We Th Fr Sa Su\n",
      "                1  2\n",
      " 3  4  5  6  7  8  9\n",
      "10 11 12 13 14 15 16\n",
      "17 18 19 20 21 22 23\n",
      "24 25 26 27 28 29 30\n",
      "31\n",
      "\n"
     ]
    }
   ],
   "source": [
    "import calendar\n",
    "\n",
    "yil=int(input(\"Yıl gir: \"))\n",
    "ay = int(input(\"Ay gir: \"))\n",
    "print(calendar.month(yil,ay))"
   ]
  },
  {
   "cell_type": "code",
   "execution_count": 2,
   "id": "426fb34c",
   "metadata": {},
   "outputs": [
    {
     "ename": "SyntaxError",
     "evalue": "unexpected EOF while parsing (Temp/ipykernel_16444/3979792221.py, line 6)",
     "output_type": "error",
     "traceback": [
      "\u001b[1;36m  File \u001b[1;32m\"C:\\Users\\GIGABYTE\\AppData\\Local\\Temp/ipykernel_16444/3979792221.py\"\u001b[1;36m, line \u001b[1;32m6\u001b[0m\n\u001b[1;33m    print(cıktı.format(x, x**2)\u001b[0m\n\u001b[1;37m                               ^\u001b[0m\n\u001b[1;31mSyntaxError\u001b[0m\u001b[1;31m:\u001b[0m unexpected EOF while parsing\n"
     ]
    }
   ],
   "source": [
    "def kare():\n",
    "   kareninalanı= a*a\n",
    "   cevresi=a*4\n",
    "   x=input(\"Karenin kenar uzunluğunu gir : \")\n",
    "   cıktı=\"{} sayısının karesi {} sayısıdır.\"\n",
    "   print(cıktı.format(x, x**2)"
   ]
  },
  {
   "cell_type": "code",
   "execution_count": 3,
   "id": "0d144fa2",
   "metadata": {},
   "outputs": [
    {
     "name": "stdout",
     "output_type": "stream",
     "text": [
      "kenar uzunluğunu gir: 5\n"
     ]
    },
    {
     "ename": "TypeError",
     "evalue": "'function' object is not iterable",
     "output_type": "error",
     "traceback": [
      "\u001b[1;31m---------------------------------------------------------------------------\u001b[0m",
      "\u001b[1;31mTypeError\u001b[0m                                 Traceback (most recent call last)",
      "\u001b[1;32m~\\AppData\\Local\\Temp/ipykernel_16444/47409117.py\u001b[0m in \u001b[0;36m<module>\u001b[1;34m\u001b[0m\n\u001b[0;32m      6\u001b[0m         \u001b[1;32melif\u001b[0m \u001b[0mkarecevresi\u001b[0m\u001b[1;33m==\u001b[0m\u001b[0mx\u001b[0m\u001b[1;33m*\u001b[0m\u001b[1;36m4\u001b[0m\u001b[1;33m:\u001b[0m\u001b[1;33m\u001b[0m\u001b[1;33m\u001b[0m\u001b[0m\n\u001b[0;32m      7\u001b[0m             \u001b[0mprint\u001b[0m\u001b[1;33m(\u001b[0m\u001b[1;34m\"Karenin çevresi :\"\u001b[0m\u001b[1;33m)\u001b[0m\u001b[1;33m\u001b[0m\u001b[1;33m\u001b[0m\u001b[0m\n\u001b[1;32m----> 8\u001b[1;33m \u001b[0mkare\u001b[0m\u001b[1;33m(\u001b[0m\u001b[1;33m)\u001b[0m\u001b[1;33m\u001b[0m\u001b[1;33m\u001b[0m\u001b[0m\n\u001b[0m",
      "\u001b[1;32m~\\AppData\\Local\\Temp/ipykernel_16444/47409117.py\u001b[0m in \u001b[0;36mkare\u001b[1;34m()\u001b[0m\n\u001b[0;32m      1\u001b[0m \u001b[1;32mdef\u001b[0m \u001b[0mkare\u001b[0m\u001b[1;33m(\u001b[0m\u001b[1;33m)\u001b[0m\u001b[1;33m:\u001b[0m\u001b[1;33m\u001b[0m\u001b[1;33m\u001b[0m\u001b[0m\n\u001b[0;32m      2\u001b[0m     \u001b[0mx\u001b[0m\u001b[1;33m=\u001b[0m\u001b[0mint\u001b[0m\u001b[1;33m(\u001b[0m\u001b[0minput\u001b[0m\u001b[1;33m(\u001b[0m\u001b[1;34m\"kenar uzunluğunu gir: \"\u001b[0m\u001b[1;33m)\u001b[0m\u001b[1;33m)\u001b[0m\u001b[1;33m\u001b[0m\u001b[1;33m\u001b[0m\u001b[0m\n\u001b[1;32m----> 3\u001b[1;33m     \u001b[1;32mfor\u001b[0m \u001b[0mi\u001b[0m \u001b[1;32min\u001b[0m \u001b[0mkare\u001b[0m\u001b[1;33m:\u001b[0m\u001b[1;33m\u001b[0m\u001b[1;33m\u001b[0m\u001b[0m\n\u001b[0m\u001b[0;32m      4\u001b[0m         \u001b[1;32mif\u001b[0m \u001b[0mkarealanı\u001b[0m\u001b[1;33m==\u001b[0m\u001b[0mx\u001b[0m\u001b[1;33m*\u001b[0m\u001b[1;36m2\u001b[0m\u001b[1;33m:\u001b[0m\u001b[1;33m\u001b[0m\u001b[1;33m\u001b[0m\u001b[0m\n\u001b[0;32m      5\u001b[0m             \u001b[0mprint\u001b[0m\u001b[1;33m(\u001b[0m\u001b[1;34m\"karenin alanı: \"\u001b[0m\u001b[1;33m)\u001b[0m\u001b[1;33m\u001b[0m\u001b[1;33m\u001b[0m\u001b[0m\n",
      "\u001b[1;31mTypeError\u001b[0m: 'function' object is not iterable"
     ]
    }
   ],
   "source": [
    "def kare():\n",
    "    x=int(input(\"kenar uzunluğunu gir: \"))\n",
    "    for i in kare:\n",
    "        if karealanı==x*2:\n",
    "            print(\"karenin alanı: \")\n",
    "        elif karecevresi==x*4:\n",
    "            print(\"Karenin çevresi :\")\n",
    "kare()            "
   ]
  },
  {
   "cell_type": "code",
   "execution_count": 11,
   "id": "bcd77297",
   "metadata": {},
   "outputs": [
    {
     "name": "stdout",
     "output_type": "stream",
     "text": [
      "kenar uzunluğunu gir: 5\n"
     ]
    },
    {
     "ename": "NameError",
     "evalue": "name 'karealanı' is not defined",
     "output_type": "error",
     "traceback": [
      "\u001b[1;31m---------------------------------------------------------------------------\u001b[0m",
      "\u001b[1;31mNameError\u001b[0m                                 Traceback (most recent call last)",
      "\u001b[1;32m~\\AppData\\Local\\Temp/ipykernel_16444/2774819706.py\u001b[0m in \u001b[0;36m<module>\u001b[1;34m\u001b[0m\n\u001b[0;32m      5\u001b[0m     \u001b[1;32melif\u001b[0m \u001b[0mkarecevresi\u001b[0m\u001b[1;33m==\u001b[0m\u001b[0ma\u001b[0m\u001b[1;33m*\u001b[0m\u001b[1;36m4\u001b[0m\u001b[1;33m:\u001b[0m\u001b[1;33m\u001b[0m\u001b[1;33m\u001b[0m\u001b[0m\n\u001b[0;32m      6\u001b[0m         \u001b[0mprint\u001b[0m\u001b[1;33m(\u001b[0m\u001b[1;34m\"Karenin çevresi :\"\u001b[0m\u001b[1;33m)\u001b[0m\u001b[1;33m\u001b[0m\u001b[1;33m\u001b[0m\u001b[0m\n\u001b[1;32m----> 7\u001b[1;33m \u001b[0mkare\u001b[0m\u001b[1;33m(\u001b[0m\u001b[1;33m)\u001b[0m\u001b[1;33m\u001b[0m\u001b[1;33m\u001b[0m\u001b[0m\n\u001b[0m",
      "\u001b[1;32m~\\AppData\\Local\\Temp/ipykernel_16444/2774819706.py\u001b[0m in \u001b[0;36mkare\u001b[1;34m()\u001b[0m\n\u001b[0;32m      1\u001b[0m \u001b[1;32mdef\u001b[0m \u001b[0mkare\u001b[0m\u001b[1;33m(\u001b[0m\u001b[1;33m)\u001b[0m\u001b[1;33m:\u001b[0m\u001b[1;33m\u001b[0m\u001b[1;33m\u001b[0m\u001b[0m\n\u001b[0;32m      2\u001b[0m     \u001b[0mx\u001b[0m\u001b[1;33m=\u001b[0m\u001b[0mint\u001b[0m\u001b[1;33m(\u001b[0m\u001b[0minput\u001b[0m\u001b[1;33m(\u001b[0m\u001b[1;34m\"kenar uzunluğunu gir: \"\u001b[0m\u001b[1;33m)\u001b[0m\u001b[1;33m)\u001b[0m\u001b[1;33m\u001b[0m\u001b[1;33m\u001b[0m\u001b[0m\n\u001b[1;32m----> 3\u001b[1;33m     \u001b[1;32mif\u001b[0m \u001b[0mkarealanı\u001b[0m\u001b[1;33m==\u001b[0m\u001b[0ma\u001b[0m\u001b[1;33m*\u001b[0m\u001b[1;36m2\u001b[0m\u001b[1;33m:\u001b[0m\u001b[1;33m\u001b[0m\u001b[1;33m\u001b[0m\u001b[0m\n\u001b[0m\u001b[0;32m      4\u001b[0m         \u001b[0mprint\u001b[0m\u001b[1;33m(\u001b[0m\u001b[1;34m\"karenin alanı: \"\u001b[0m\u001b[1;33m)\u001b[0m\u001b[1;33m\u001b[0m\u001b[1;33m\u001b[0m\u001b[0m\n\u001b[0;32m      5\u001b[0m     \u001b[1;32melif\u001b[0m \u001b[0mkarecevresi\u001b[0m\u001b[1;33m==\u001b[0m\u001b[0ma\u001b[0m\u001b[1;33m*\u001b[0m\u001b[1;36m4\u001b[0m\u001b[1;33m:\u001b[0m\u001b[1;33m\u001b[0m\u001b[1;33m\u001b[0m\u001b[0m\n",
      "\u001b[1;31mNameError\u001b[0m: name 'karealanı' is not defined"
     ]
    }
   ],
   "source": [
    "def kare():\n",
    "    x=int(input(\"kenar uzunluğunu gir: \"))\n",
    "    if karealanı==a*2:\n",
    "        print(\"karenin alanı: \")\n",
    "    elif karecevresi==a*4:\n",
    "        print(\"Karenin çevresi :\")\n",
    "kare()            "
   ]
  },
  {
   "cell_type": "code",
   "execution_count": null,
   "id": "68625fc7",
   "metadata": {},
   "outputs": [],
   "source": []
  }
 ],
 "metadata": {
  "kernelspec": {
   "display_name": "Python 3 (ipykernel)",
   "language": "python",
   "name": "python3"
  },
  "language_info": {
   "codemirror_mode": {
    "name": "ipython",
    "version": 3
   },
   "file_extension": ".py",
   "mimetype": "text/x-python",
   "name": "python",
   "nbconvert_exporter": "python",
   "pygments_lexer": "ipython3",
   "version": "3.9.7"
  }
 },
 "nbformat": 4,
 "nbformat_minor": 5
}
