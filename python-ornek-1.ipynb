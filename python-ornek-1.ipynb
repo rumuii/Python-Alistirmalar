{
 "cells": [
  {
   "cell_type": "code",
   "execution_count": 1,
   "id": "cd9f8744",
   "metadata": {},
   "outputs": [
    {
     "name": "stdout",
     "output_type": "stream",
     "text": [
      "hello rüm\n"
     ]
    }
   ],
   "source": [
    "print(\"hello rüm\")"
   ]
  },
  {
   "cell_type": "code",
   "execution_count": 1,
   "id": "a6ac6287",
   "metadata": {},
   "outputs": [
    {
     "name": "stdout",
     "output_type": "stream",
     "text": [
      "35\n"
     ]
    }
   ],
   "source": [
    "print(35)"
   ]
  },
  {
   "cell_type": "code",
   "execution_count": 2,
   "id": "4864e4de",
   "metadata": {},
   "outputs": [
    {
     "name": "stdout",
     "output_type": "stream",
     "text": [
      "25\n"
     ]
    }
   ],
   "source": [
    "a=15\n",
    "b=10\n",
    "print(a+b)"
   ]
  },
  {
   "cell_type": "code",
   "execution_count": 3,
   "id": "e721ffbd",
   "metadata": {},
   "outputs": [
    {
     "name": "stdout",
     "output_type": "stream",
     "text": [
      "mavi\n"
     ]
    },
    {
     "data": {
      "text/plain": [
       "'mavi'"
      ]
     },
     "execution_count": 3,
     "metadata": {},
     "output_type": "execute_result"
    }
   ],
   "source": [
    "input()"
   ]
  },
  {
   "cell_type": "code",
   "execution_count": 1,
   "id": "7ea6f1e6",
   "metadata": {},
   "outputs": [
    {
     "name": "stdout",
     "output_type": "stream",
     "text": [
      "3.14\n"
     ]
    }
   ],
   "source": [
    "print(3.14)"
   ]
  },
  {
   "cell_type": "code",
   "execution_count": 3,
   "id": "7458bee3",
   "metadata": {},
   "outputs": [
    {
     "name": "stdout",
     "output_type": "stream",
     "text": [
      "Mavi dershanem\n"
     ]
    }
   ],
   "source": [
    "print(\"Mavi \"+\"dershanem\")"
   ]
  },
  {
   "cell_type": "code",
   "execution_count": 4,
   "id": "0fad4dcf",
   "metadata": {},
   "outputs": [
    {
     "name": "stdout",
     "output_type": "stream",
     "text": [
      "30\n"
     ]
    }
   ],
   "source": [
    "print(16+14)"
   ]
  },
  {
   "cell_type": "code",
   "execution_count": 5,
   "id": "50364eb3",
   "metadata": {},
   "outputs": [
    {
     "name": "stdout",
     "output_type": "stream",
     "text": [
      "35 3.14 Merhaba ptyhon\n"
     ]
    }
   ],
   "source": [
    "print(35,3.14,\"Merhaba\",\"ptyhon\")"
   ]
  },
  {
   "cell_type": "code",
   "execution_count": 6,
   "id": "76889967",
   "metadata": {},
   "outputs": [
    {
     "name": "stdout",
     "output_type": "stream",
     "text": [
      "25\n"
     ]
    }
   ],
   "source": [
    "a=15\n",
    "b=10\n",
    "print(a+b)"
   ]
  },
  {
   "cell_type": "code",
   "execution_count": 7,
   "id": "f84876ed",
   "metadata": {},
   "outputs": [
    {
     "name": "stdout",
     "output_type": "stream",
     "text": [
      "Merhaba\n",
      "Nasılsın\n",
      "İyi misin\n"
     ]
    }
   ],
   "source": [
    "print(\"Merhaba\\nNasılsın\\nİyi misin\")"
   ]
  },
  {
   "cell_type": "code",
   "execution_count": 8,
   "id": "e91c520e",
   "metadata": {},
   "outputs": [
    {
     "name": "stdout",
     "output_type": "stream",
     "text": [
      "35/43/54/65\n"
     ]
    }
   ],
   "source": [
    "print(35,43,54,65,sep =\"/\")"
   ]
  },
  {
   "cell_type": "code",
   "execution_count": 9,
   "id": "cdb82a5d",
   "metadata": {},
   "outputs": [
    {
     "name": "stdout",
     "output_type": "stream",
     "text": [
      "ali\n",
      "veli\n",
      "cemil\n"
     ]
    }
   ],
   "source": [
    "print(\"ali\",\"veli\",\"cemil\",sep=\"\\n\")"
   ]
  },
  {
   "cell_type": "code",
   "execution_count": 12,
   "id": "4f4f56fc",
   "metadata": {},
   "outputs": [
    {
     "name": "stdout",
     "output_type": "stream",
     "text": [
      "Python\n"
     ]
    }
   ],
   "source": [
    "print(\"Python\")"
   ]
  },
  {
   "cell_type": "code",
   "execution_count": 13,
   "id": "8646c9fc",
   "metadata": {},
   "outputs": [
    {
     "name": "stdout",
     "output_type": "stream",
     "text": [
      "P y t h o n\n"
     ]
    }
   ],
   "source": [
    "print(*\"Python\")"
   ]
  },
  {
   "cell_type": "code",
   "execution_count": 14,
   "id": "81cf18d8",
   "metadata": {},
   "outputs": [
    {
     "name": "stdout",
     "output_type": "stream",
     "text": [
      "P/y/t/h/o/n\n"
     ]
    }
   ],
   "source": [
    "print(*\"Python\",sep =\"/\")"
   ]
  },
  {
   "cell_type": "code",
   "execution_count": 17,
   "id": "c6bde2e1",
   "metadata": {},
   "outputs": [
    {
     "name": "stdout",
     "output_type": "stream",
     "text": [
      "T.B.M.M\n"
     ]
    }
   ],
   "source": [
    "print(\"T\",\"B\",\"M\",\"M\", sep =\".\")"
   ]
  },
  {
   "cell_type": "code",
   "execution_count": 19,
   "id": "bac05db1",
   "metadata": {},
   "outputs": [
    {
     "name": "stdout",
     "output_type": "stream",
     "text": [
      "T.B.M.M\n"
     ]
    }
   ],
   "source": [
    "print(*\"TBMM\",sep =\".\")"
   ]
  },
  {
   "cell_type": "code",
   "execution_count": 20,
   "id": "d1a32935",
   "metadata": {},
   "outputs": [
    {
     "name": "stdout",
     "output_type": "stream",
     "text": [
      "Merhaba İyi misin?\n"
     ]
    }
   ],
   "source": [
    "print(\"Merhaba İyi misin?\")"
   ]
  },
  {
   "cell_type": "code",
   "execution_count": 21,
   "id": "29a43ad0",
   "metadata": {},
   "outputs": [
    {
     "name": "stdout",
     "output_type": "stream",
     "text": [
      "Ocak\tMart\tŞubat\n"
     ]
    }
   ],
   "source": [
    "print(\"Ocak\\tMart\\tŞubat\")"
   ]
  },
  {
   "cell_type": "code",
   "execution_count": 23,
   "id": "fba95ef3",
   "metadata": {},
   "outputs": [
    {
     "name": "stdout",
     "output_type": "stream",
     "text": [
      "a\t\t\t\t\t\t\t\n"
     ]
    }
   ],
   "source": [
    "print(\"a\\t\\t\\t\\t\\t\\t\\t\")"
   ]
  },
  {
   "cell_type": "code",
   "execution_count": 25,
   "id": "66260022",
   "metadata": {},
   "outputs": [
    {
     "data": {
      "text/plain": [
       "int"
      ]
     },
     "execution_count": 25,
     "metadata": {},
     "output_type": "execute_result"
    }
   ],
   "source": [
    "type(34)"
   ]
  },
  {
   "cell_type": "code",
   "execution_count": 26,
   "id": "9c02fc33",
   "metadata": {},
   "outputs": [
    {
     "name": "stdout",
     "output_type": "stream",
     "text": [
      "<class 'int'>\n"
     ]
    }
   ],
   "source": [
    "x = 7\n",
    "print  (type(x))"
   ]
  },
  {
   "cell_type": "code",
   "execution_count": 27,
   "id": "1c19c015",
   "metadata": {},
   "outputs": [
    {
     "data": {
      "text/plain": [
       "float"
      ]
     },
     "execution_count": 27,
     "metadata": {},
     "output_type": "execute_result"
    }
   ],
   "source": [
    "type(3.14)"
   ]
  },
  {
   "cell_type": "code",
   "execution_count": 28,
   "id": "f410d194",
   "metadata": {},
   "outputs": [],
   "source": [
    "y=5.14"
   ]
  },
  {
   "cell_type": "code",
   "execution_count": 29,
   "id": "16c2e6b0",
   "metadata": {},
   "outputs": [
    {
     "name": "stdout",
     "output_type": "stream",
     "text": [
      "<class 'float'>\n"
     ]
    }
   ],
   "source": [
    "print (type(y))"
   ]
  },
  {
   "cell_type": "code",
   "execution_count": 30,
   "id": "0497beef",
   "metadata": {},
   "outputs": [
    {
     "data": {
      "text/plain": [
       "str"
      ]
     },
     "execution_count": 30,
     "metadata": {},
     "output_type": "execute_result"
    }
   ],
   "source": [
    "type(\"Mavi\")"
   ]
  },
  {
   "cell_type": "code",
   "execution_count": 31,
   "id": "fa6eb9d2",
   "metadata": {},
   "outputs": [
    {
     "name": "stdout",
     "output_type": "stream",
     "text": [
      "<class 'str'>\n"
     ]
    }
   ],
   "source": [
    "z=\"Mavi\"\n",
    "print(type(z))"
   ]
  },
  {
   "cell_type": "code",
   "execution_count": 4,
   "id": "2f090fa5",
   "metadata": {},
   "outputs": [
    {
     "data": {
      "text/plain": [
       "'hll'"
      ]
     },
     "execution_count": 4,
     "metadata": {},
     "output_type": "execute_result"
    }
   ],
   "source": [
    "a= \"halil ibrahim\"\n",
    "a [0:5:2]"
   ]
  },
  {
   "cell_type": "code",
   "execution_count": 8,
   "id": "508cd36b",
   "metadata": {
    "scrolled": true
   },
   "outputs": [
    {
     "data": {
      "text/plain": [
       "'rea'"
      ]
     },
     "execution_count": 8,
     "metadata": {},
     "output_type": "execute_result"
    }
   ],
   "source": [
    "b= \"rümeysa ergen\"\n",
    "b [0:7:3]"
   ]
  },
  {
   "cell_type": "markdown",
   "id": "5415b924",
   "metadata": {},
   "source": [
    "# ödev 1 soru"
   ]
  },
  {
   "cell_type": "code",
   "execution_count": 13,
   "id": "fec495f5",
   "metadata": {},
   "outputs": [
    {
     "name": "stdout",
     "output_type": "stream",
     "text": [
      "birinci değer gir30\n",
      "ikinci değer gir20\n",
      "ücüncü değer gir10\n",
      "en büyük değer 30\n"
     ]
    }
   ],
   "source": [
    "x =int(input(\"birinci değer gir\"))\n",
    "y =int(input(\"ikinci değer gir\"))\n",
    "z =int(input(\"ücüncü değer gir\"))\n",
    "if x>y or x>z:\n",
    "    print(\"en büyük değer\",x)\n",
    "elif y>x or y>z:\n",
    "    print(\"en büyük değer\",y)\n",
    "elif z>x or z>y:\n",
    "    print(\"en büyük değer\",z)\n",
    "else:\n",
    "    print(\"tekrar dene\");"
   ]
  },
  {
   "cell_type": "code",
   "execution_count": 13,
   "id": "b2dd42db",
   "metadata": {},
   "outputs": [
    {
     "name": "stdout",
     "output_type": "stream",
     "text": [
      "birinci değer gir40\n",
      "ikinci değer gir50\n",
      "ücüncü değer gir60\n",
      "en büyük değer 60\n"
     ]
    }
   ],
   "source": [
    "x = int(input(\"birinci değer gir\"))\n",
    "y = int(input(\"ikinci değer gir\"))\n",
    "z = int(input(\"ücüncü değer gir\"))\n",
    "if x>y and x>z:\n",
    "    print(\"en büyük değer\",x)\n",
    "elif y>x and y>z:\n",
    "    print(\"en büyük değer\",y)\n",
    "elif z>x and z>y:\n",
    "    print(\"en büyük değer\",z)\n",
    "else:\n",
    "    print(\"tekrar dene\")"
   ]
  },
  {
   "cell_type": "code",
   "execution_count": 14,
   "id": "c4b9d539",
   "metadata": {},
   "outputs": [
    {
     "name": "stdout",
     "output_type": "stream",
     "text": [
      "birinci değer gir40\n",
      "ikinci değer gir50\n",
      "ücüncü değer gir60\n",
      "en büyük değer 50\n"
     ]
    }
   ],
   "source": [
    "x =int(input(\"birinci değer gir\"))\n",
    "y =int(input(\"ikinci değer gir\"))\n",
    "z =int(input(\"ücüncü değer gir\"))\n",
    "if x>y or x>z:\n",
    "    print(\"en büyük değer\",x)\n",
    "elif y>x or y>z:\n",
    "    print(\"en büyük değer\",y)\n",
    "elif z>x or z>y:\n",
    "    print(\"en büyük değer\",z)\n",
    "else:\n",
    "    print(\"tekrar dene\")"
   ]
  },
  {
   "cell_type": "code",
   "execution_count": 18,
   "id": "10d1b829",
   "metadata": {},
   "outputs": [
    {
     "name": "stdout",
     "output_type": "stream",
     "text": [
      "Kullanıcı adınız: rümeysa\n",
      "Teşekkürler!\n"
     ]
    }
   ],
   "source": [
    "kullanıcı = input(\"Kullanıcı adınız: \")\n",
    "\n",
    "if kullanıcı:\n",
    "    print(\"Teşekkürler!\")"
   ]
  },
  {
   "cell_type": "code",
   "execution_count": 17,
   "id": "5537d08b",
   "metadata": {},
   "outputs": [
    {
     "name": "stdout",
     "output_type": "stream",
     "text": [
      "Notunuz: 60\n",
      "D aldınız.\n"
     ]
    }
   ],
   "source": [
    "x = int(input(\"Notunuz: \"))\n",
    "\n",
    "if x > 100 or x < 0:\n",
    "    print(\"Böyle bir not yok\")\n",
    "    \n",
    "elif 90 <= x <=100:\n",
    "    print(\"A aldınız.\")\n",
    "    \n",
    "elif 80 <= x <=89:\n",
    "    print(\"B aldınız.\")\n",
    "    \n",
    "elif 70 <= x <=79:\n",
    "    print(\"C aldınız.\")\n",
    "    \n",
    "elif 60 <= x <=69:\n",
    "    print(\"D aldınız.\")\n",
    "\n",
    "elif 0 <= x <=59: \n",
    "    print(\"F kaldınız.\")"
   ]
  },
  {
   "cell_type": "code",
   "execution_count": 6,
   "id": "6daefe1b",
   "metadata": {},
   "outputs": [
    {
     "name": "stdout",
     "output_type": "stream",
     "text": [
      "Birinci sınav notunu gir: 50\n",
      "ikinci sınav notunu gir: 10\n",
      "Final sınav notunu gir: 50\n",
      "Kaldı. Bir daha dene\n"
     ]
    }
   ],
   "source": [
    "s1=int (input(\"Birinci sınav notunu gir: \"))\n",
    "s2= int (input(\"ikinci sınav notunu gir: \"))\n",
    "f = int (input(\"Final sınav notunu gir: \"))\n",
    "dnotu=int(((s1+s2)/2)*0.4)+(f*0.6)\n",
    "\n",
    "if dnotu<50:\n",
    "    print(\"Kaldı.\", \"Bir daha dene\")\n",
    "\n",
    "elif dnotu>=50:\n",
    "    print(\"Geçti.\", \"Tebrikler\")\n",
    "    "
   ]
  },
  {
   "cell_type": "code",
   "execution_count": 7,
   "id": "9782ad7d",
   "metadata": {},
   "outputs": [
    {
     "name": "stdout",
     "output_type": "stream",
     "text": [
      "Birinci sınav notunu gir: 50\n",
      "ikinci sınav notunu gir: 10\n",
      "Final sınav notunu gir: 40\n",
      "Kaldı. Bir daha dene\n"
     ]
    }
   ],
   "source": [
    "s1=int (input(\"Birinci sınav notunu gir: \"))\n",
    "s2= int (input(\"ikinci sınav notunu gir: \"))\n",
    "f = int (input(\"Final sınav notunu gir: \"))\n",
    "dnotu=int(((s1+s2)/2)*0.4)+(f*0.6)\n",
    "\n",
    "if dnotu<50:\n",
    "    print(\"Kaldı.\", \"Bir daha dene\")\n",
    "\n",
    "elif dnotu>=50:\n",
    "    print(\"Geçti.\", \"Tebrikler\")"
   ]
  },
  {
   "cell_type": "code",
   "execution_count": 8,
   "id": "70749ec9",
   "metadata": {},
   "outputs": [
    {
     "name": "stdout",
     "output_type": "stream",
     "text": [
      "Birinci sınav notunu gir: 80\n",
      "ikinci sınav notunu gir: 90\n",
      "Final sınav notunu gir: 60\n",
      "Geçti. Tebrikler\n"
     ]
    }
   ],
   "source": [
    "s1=int (input(\"Birinci sınav notunu gir: \"))\n",
    "s2= int (input(\"ikinci sınav notunu gir: \"))\n",
    "f = int (input(\"Final sınav notunu gir: \"))\n",
    "dnotu=int(((s1+s2)/2)*0.4)+(f*0.6)\n",
    "\n",
    "if dnotu<50:\n",
    "    print(\"Kaldı.\", \"Bir daha dene\")\n",
    "\n",
    "elif dnotu>=50:\n",
    "    print(\"Geçti.\", \"Tebrikler\")"
   ]
  },
  {
   "cell_type": "code",
   "execution_count": 3,
   "id": "acf43daf",
   "metadata": {},
   "outputs": [
    {
     "name": "stdout",
     "output_type": "stream",
     "text": [
      "a sayısını gir: 0\n",
      "Bu sayı sıfırdır\n"
     ]
    }
   ],
   "source": [
    "a=int(input(\"a sayısını gir: \"))\n",
    "\n",
    "if   a>0:\n",
    "    print(\"Bu sayı pozitiftir\")\n",
    "\n",
    "elif a<0:\n",
    "    print(\"Bu sayı negatiftir\")\n",
    "    \n",
    "elif a==0:\n",
    "    print(\"Bu sayı sıfırdır\")\n",
    "    \n",
    "else:\n",
    "    print(\"tekrar dene\")"
   ]
  },
  {
   "cell_type": "code",
   "execution_count": 1,
   "id": "5e40c899",
   "metadata": {},
   "outputs": [
    {
     "name": "stdout",
     "output_type": "stream",
     "text": [
      "<class 'tuple'>\n"
     ]
    }
   ],
   "source": [
    "x = (\"apple\", \"banana\", \"cherry\")\n",
    "print(type(x))"
   ]
  },
  {
   "cell_type": "code",
   "execution_count": 3,
   "id": "3b56e284",
   "metadata": {},
   "outputs": [
    {
     "name": "stdout",
     "output_type": "stream",
     "text": [
      "<class 'dict'>\n"
     ]
    }
   ],
   "source": [
    "x = {\"name\" : \"John\", \"age\" : 36}\n",
    "print(type(x))"
   ]
  },
  {
   "cell_type": "code",
   "execution_count": 4,
   "id": "8047b100",
   "metadata": {},
   "outputs": [
    {
     "name": "stdout",
     "output_type": "stream",
     "text": [
      "7\n"
     ]
    }
   ],
   "source": [
    "import random\n",
    "\n",
    "print(random.randrange(1, 10))"
   ]
  },
  {
   "cell_type": "code",
   "execution_count": 5,
   "id": "23247d53",
   "metadata": {},
   "outputs": [
    {
     "name": "stdout",
     "output_type": "stream",
     "text": [
      "HELLO, WORLD!\n"
     ]
    }
   ],
   "source": [
    "a = \"Hello, World!\"\n",
    "print(a.upper())"
   ]
  },
  {
   "cell_type": "code",
   "execution_count": 6,
   "id": "d48480d8",
   "metadata": {},
   "outputs": [
    {
     "name": "stdout",
     "output_type": "stream",
     "text": [
      "RÜMEYSA ERGEN\n"
     ]
    }
   ],
   "source": [
    "x = \"rümeysa ergen\"\n",
    "print(x.upper())"
   ]
  },
  {
   "cell_type": "code",
   "execution_count": 7,
   "id": "7c848f78",
   "metadata": {},
   "outputs": [
    {
     "name": "stdout",
     "output_type": "stream",
     "text": [
      "hello, world!\n"
     ]
    }
   ],
   "source": [
    "a = \"Hello, World!\"\n",
    "print(a.lower());"
   ]
  },
  {
   "cell_type": "code",
   "execution_count": 8,
   "id": "978eec7a",
   "metadata": {},
   "outputs": [
    {
     "name": "stdout",
     "output_type": "stream",
     "text": [
      "Hello, World!\n"
     ]
    }
   ],
   "source": [
    "a = \" Hello, World! \"\n",
    "print(a.strip())\n"
   ]
  },
  {
   "cell_type": "code",
   "execution_count": 3,
   "id": "dac43f60",
   "metadata": {},
   "outputs": [
    {
     "name": "stdout",
     "output_type": "stream",
     "text": [
      "RÜMEYSA ERGEN\n"
     ]
    }
   ],
   "source": [
    "a=\"RÜMEYSA ERGEN \"\n",
    "print(a.strip())"
   ]
  },
  {
   "cell_type": "code",
   "execution_count": 15,
   "id": "399cceee",
   "metadata": {},
   "outputs": [
    {
     "name": "stdout",
     "output_type": "stream",
     "text": [
      "1 x 1=1\n",
      "1 x 2=2\n",
      "1 x 3=3\n",
      "1 x 4=4\n",
      "1 x 5=5\n",
      "1 x 6=6\n",
      "1 x 7=7\n",
      "1 x 8=8\n",
      "1 x 9=9\n",
      "1 x 10=10\n",
      "\n",
      "\n",
      "2 x 1=2\n",
      "2 x 2=4\n",
      "2 x 3=6\n",
      "2 x 4=8\n",
      "2 x 5=10\n",
      "2 x 6=12\n",
      "2 x 7=14\n",
      "2 x 8=16\n",
      "2 x 9=18\n",
      "2 x 10=20\n",
      "\n",
      "\n",
      "3 x 1=3\n",
      "3 x 2=6\n",
      "3 x 3=9\n",
      "3 x 4=12\n",
      "3 x 5=15\n",
      "3 x 6=18\n",
      "3 x 7=21\n",
      "3 x 8=24\n",
      "3 x 9=27\n",
      "3 x 10=30\n",
      "\n",
      "\n",
      "4 x 1=4\n",
      "4 x 2=8\n",
      "4 x 3=12\n",
      "4 x 4=16\n",
      "4 x 5=20\n",
      "4 x 6=24\n",
      "4 x 7=28\n",
      "4 x 8=32\n",
      "4 x 9=36\n",
      "4 x 10=40\n",
      "\n",
      "\n",
      "5 x 1=5\n",
      "5 x 2=10\n",
      "5 x 3=15\n",
      "5 x 4=20\n",
      "5 x 5=25\n",
      "5 x 6=30\n",
      "5 x 7=35\n",
      "5 x 8=40\n",
      "5 x 9=45\n",
      "5 x 10=50\n",
      "\n",
      "\n",
      "6 x 1=6\n",
      "6 x 2=12\n",
      "6 x 3=18\n",
      "6 x 4=24\n",
      "6 x 5=30\n",
      "6 x 6=36\n",
      "6 x 7=42\n",
      "6 x 8=48\n",
      "6 x 9=54\n",
      "6 x 10=60\n",
      "\n",
      "\n",
      "7 x 1=7\n",
      "7 x 2=14\n",
      "7 x 3=21\n",
      "7 x 4=28\n",
      "7 x 5=35\n",
      "7 x 6=42\n",
      "7 x 7=49\n",
      "7 x 8=56\n",
      "7 x 9=63\n",
      "7 x 10=70\n",
      "\n",
      "\n",
      "8 x 1=8\n",
      "8 x 2=16\n",
      "8 x 3=24\n",
      "8 x 4=32\n",
      "8 x 5=40\n",
      "8 x 6=48\n",
      "8 x 7=56\n",
      "8 x 8=64\n",
      "8 x 9=72\n",
      "8 x 10=80\n",
      "\n",
      "\n",
      "9 x 1=9\n",
      "9 x 2=18\n",
      "9 x 3=27\n",
      "9 x 4=36\n",
      "9 x 5=45\n",
      "9 x 6=54\n",
      "9 x 7=63\n",
      "9 x 8=72\n",
      "9 x 9=81\n",
      "9 x 10=90\n",
      "\n",
      "\n",
      "10 x 1=10\n",
      "10 x 2=20\n",
      "10 x 3=30\n",
      "10 x 4=40\n",
      "10 x 5=50\n",
      "10 x 6=60\n",
      "10 x 7=70\n",
      "10 x 8=80\n",
      "10 x 9=90\n",
      "10 x 10=100\n",
      "\n",
      "\n"
     ]
    }
   ],
   "source": [
    "for i in range(1,11): \n",
    "    for j in range (1,11):\n",
    "        print(\"{} x {}={}\".format(i,j,i*j))\n",
    "    print(\"\\n\")\n",
    "    "
   ]
  },
  {
   "cell_type": "markdown",
   "id": "eae1575b",
   "metadata": {},
   "source": [
    "# oyun "
   ]
  },
  {
   "cell_type": "code",
   "execution_count": 57,
   "id": "ce39b385",
   "metadata": {},
   "outputs": [
    {
     "name": "stdout",
     "output_type": "stream",
     "text": [
      "Kaç hak kullanmak istersiniz: 2\n",
      "tahmin: 15\n",
      "yukarı\n",
      "tahmin: 14\n",
      "yukarı\n",
      "hakkınız bitti. Tutulan sayı : 23\n"
     ]
    }
   ],
   "source": [
    "import random\n",
    "\n",
    "sayi = random.randint(1,100)\n",
    "can = int(input('Kaç hak kullanmak istersiniz: '))\n",
    "hak = can\n",
    "sayac = 0\n",
    "\n",
    "while hak > 0:\n",
    "    hak -= 1 \n",
    "    sayac += 1\n",
    "    tahmin = int(input('tahmin: '))\n",
    "    \n",
    "    if sayi == tahmin:\n",
    "        print(f'Tebrikler {sayac}. defada bildiniz. Toplam puanınız: {100 - (100/can) * (sayac-1) }')\n",
    "        break\n",
    "    elif sayi > tahmin:\n",
    "        print('yukarı')\n",
    "    else:\n",
    "        print('aşağı')\n",
    "    if hak == 0:\n",
    "        \n",
    "        print(f'hakkınız bitti. Tutulan sayı : {sayi}')\n",
    "              "
   ]
  },
  {
   "cell_type": "code",
   "execution_count": 51,
   "id": "6c55ff50",
   "metadata": {},
   "outputs": [
    {
     "name": "stdout",
     "output_type": "stream",
     "text": [
      "kaç hak kullanmak istersiniz: 5\n",
      "tahmin: 77\n",
      "aşağı\n",
      "tahmin: 17\n",
      "yukarı\n",
      "tahmin: 54\n",
      "aşağı\n",
      "tahmin: 8\n",
      "yukarı\n",
      "tahmin: 1\n",
      "yukarı\n",
      "hakkınız bitti. Tutulan sayı : 52\n"
     ]
    }
   ],
   "source": [
    "import random\n",
    "\n",
    "sayi = random.randint(1,100)\n",
    "can = int(input('kaç hak kullanmak istersiniz: '))\n",
    "hak = can\n",
    "sayac = 0\n",
    "\n",
    "while hak > 0:\n",
    "    hak -= 1\n",
    "    sayac += 1\n",
    "    tahmin = int(input('tahmin: '))\n",
    "\n",
    "    if sayi == tahmin:\n",
    "        print(f'Tebrikler {sayac}. defada bildiniz. Toplam puanınız: {100 - (100/can) * (sayac-1) }')\n",
    "        break\n",
    "    elif sayi > tahmin:\n",
    "        print('yukarı')\n",
    "    else:\n",
    "        print('aşağı')\n",
    "    if hak == 0:\n",
    "         print(f'hakkınız bitti. Tutulan sayı : {sayi}')\n"
   ]
  },
  {
   "cell_type": "markdown",
   "id": "e58a51f3",
   "metadata": {},
   "source": [
    "# sayısal loto"
   ]
  },
  {
   "cell_type": "code",
   "execution_count": null,
   "id": "da56cc58",
   "metadata": {},
   "outputs": [],
   "source": [
    "import random\n",
    "\n",
    "ilk34sayı = range(1,35) #ilk 34 sayının listesini oluşturduk.\n",
    "sonBirsayı = range(1,15) #aşağıdaki 14 sayının listesini oluşturduk\n",
    "\n",
    "#Kazanan sayılar\n",
    "#İlk beş kazanan sayı = [1,2,3,4,5]\n",
    "ilkBesKazananSayı = random.sample(ilk34sayı, 5) #Kazanan ilk 5 sayıyı belirledik.\n",
    "#Son bir kazanan sayı = [6]\n",
    "sonBirsayı = random.sample(sonBirsayı, 1) #Kazanan son sayıyı belirledik.\n",
    "\n",
    "#Kullanıcının girdiği sayılar\n",
    "bakiye = 1000\n",
    "print(bakiye)\n",
    "while True:\n",
    "    print(\"Hesaptaki paran\", bakiye)\n",
    "    secim = int(input(\"\"\"\n",
    "    1- Oyna\n",
    "    2- Sonuc getir\n",
    "    3- Kazancimi ver ve\n",
    "    \"\"\")"
   ]
  },
  {
   "cell_type": "markdown",
   "id": "bd2b5f56",
   "metadata": {},
   "source": [
    "# dict örnekleri dictionary aslında bir sözlük gibi düşün kullanımında süslü parantez kullanılır."
   ]
  },
  {
   "cell_type": "code",
   "execution_count": 8,
   "id": "49660f53",
   "metadata": {},
   "outputs": [
    {
     "name": "stdout",
     "output_type": "stream",
     "text": [
      "Güzel bir dil\n"
     ]
    }
   ],
   "source": [
    "sozluk ={\"Python\": \"Güzel bir dil\", \"Php\":\"Script dili\", \"Java\":\"compile edililen dil\"}\n",
    "\n",
    "print(sozluk[\"Python\"])"
   ]
  },
  {
   "cell_type": "code",
   "execution_count": 12,
   "id": "07bed1fd",
   "metadata": {},
   "outputs": [
    {
     "name": "stdout",
     "output_type": "stream",
     "text": [
      "('Python', 'Güzel bir dil')\n",
      "('Php', 'Script dili')\n",
      "('Java', 'compile edililen dil')\n"
     ]
    }
   ],
   "source": [
    "sozluk ={\"Python\": \"Güzel bir dil\", \"Php\":\"Script dili\", \"Java\":\"compile edililen dil\"}\n",
    "\n",
    "for i in sozluk.items():\n",
    "    print(i)\n",
    "    "
   ]
  },
  {
   "cell_type": "code",
   "execution_count": 13,
   "id": "6b455ec1",
   "metadata": {},
   "outputs": [
    {
     "name": "stdout",
     "output_type": "stream",
     "text": [
      "Python Güzel bir dil\n",
      "Php Script dili\n",
      "Java compile edililen dil\n"
     ]
    }
   ],
   "source": [
    "sozluk ={\"Python\": \"Güzel bir dil\", \"Php\":\"Script dili\", \"Java\":\"compile edililen dil\"}\n",
    "\n",
    "for i in sozluk.items():\n",
    "    print(i[0]+\" \"+i[1])"
   ]
  },
  {
   "cell_type": "code",
   "execution_count": 15,
   "id": "b086912a",
   "metadata": {},
   "outputs": [
    {
     "name": "stdout",
     "output_type": "stream",
     "text": [
      "Python Güzel bir dil\n",
      "Php Script dili\n",
      "Java compile edililen dil\n"
     ]
    }
   ],
   "source": [
    "sozluk ={\"Python\": \"Güzel bir dil\", \"Php\":\"Script dili\", \"Java\":\"compile edililen dil\"}\n",
    "\n",
    "for i,j in sozluk.items():\n",
    "    print(i +\" \"+ j)"
   ]
  },
  {
   "cell_type": "code",
   "execution_count": 18,
   "id": "274666cd",
   "metadata": {},
   "outputs": [
    {
     "name": "stdout",
     "output_type": "stream",
     "text": [
      "İsim giriniz: Oğuz\n",
      "Oğuz in aldığı dersler:\n",
      "Script Dersi\n",
      "Nesne tabanlı proğramlama\n"
     ]
    }
   ],
   "source": [
    "dersler = {\"Ahmet\": [\"Veri tabanları\", \"İşletim sistemleri\"],\"Oğuz\":[\"Script Dersi\", \"Nesne tabanlı proğramlama\"], \"Mehmet\":\"Lİner Algebra\"}\n",
    "\n",
    "isim = input(\"İsim giriniz: \")\n",
    "\n",
    "print(\"{} in aldığı dersler:\".format(isim))\n",
    "\n",
    "for i in (dersler[isim]):\n",
    "    print(i)\n"
   ]
  },
  {
   "cell_type": "code",
   "execution_count": 87,
   "id": "efc43980",
   "metadata": {},
   "outputs": [
    {
     "name": "stdout",
     "output_type": "stream",
     "text": [
      "Şehir giriniz: Adana\n",
      "Adana nın plakası:\n",
      "0\n",
      "1\n"
     ]
    }
   ],
   "source": [
    "sehirplakalar = {\"Adana\":\"01\", \"Adıyaman\": \"02\",\"Afyon\": \"03\",\"Ağrı\":\"04\"}\n",
    "\n",
    "a =input(\"Şehir giriniz: \")\n",
    "\n",
    "print(\"{} nın plakası:\".format(a))\n",
    "\n",
    "for i in (sehirplakalar[a]):\n",
    "    \n",
    "    print(i)"
   ]
  },
  {
   "cell_type": "code",
   "execution_count": 3,
   "id": "0222708c",
   "metadata": {},
   "outputs": [
    {
     "name": "stdout",
     "output_type": "stream",
     "text": [
      "Benim adım Rümeysa ve ben 26 yasındayım\n"
     ]
    }
   ],
   "source": [
    "yas = 26\n",
    "txt =\"Benim adım Rümeysa ve ben {} yasındayım\"\n",
    "print(txt.format(yas))"
   ]
  },
  {
   "cell_type": "code",
   "execution_count": 6,
   "id": "87fddf59",
   "metadata": {},
   "outputs": [
    {
     "name": "stdout",
     "output_type": "stream",
     "text": [
      "Ben 3 tane 567 eşyayı bu fiyata 49.95 istiyorum\n"
     ]
    }
   ],
   "source": [
    "miktar = 3\n",
    "esya = 567\n",
    "fiyat = 49.95\n",
    "benimSiparis = \"Ben {} tane {} eşyayı bu fiyata {} istiyorum\"\n",
    "print(benimSiparis.format(miktar,esya,fiyat))\n"
   ]
  },
  {
   "cell_type": "code",
   "execution_count": 10,
   "id": "bbc795d3",
   "metadata": {},
   "outputs": [
    {
     "name": "stdout",
     "output_type": "stream",
     "text": [
      "Naber \f\n",
      " RÜMEYSA\n"
     ]
    }
   ],
   "source": [
    "a= \"Naber \\f RÜMEYSA\"\n",
    "print(a)"
   ]
  },
  {
   "cell_type": "markdown",
   "id": "f1196c20",
   "metadata": {},
   "source": [
    "# string metotlar"
   ]
  },
  {
   "cell_type": "code",
   "execution_count": 12,
   "id": "d1feffc2",
   "metadata": {},
   "outputs": [
    {
     "name": "stdout",
     "output_type": "stream",
     "text": [
      "Hello, and welcome to my world.\n"
     ]
    }
   ],
   "source": [
    "# Baş harfi büyük kalanını küçük yazar\n",
    "txt = \"hello, and welcome to my world.\"\n",
    "\n",
    "x = txt.capitalize()\n",
    "\n",
    "print (x)"
   ]
  },
  {
   "cell_type": "code",
   "execution_count": 13,
   "id": "498f3a29",
   "metadata": {},
   "outputs": [
    {
     "name": "stdout",
     "output_type": "stream",
     "text": [
      "hello, and welcome to my world!\n"
     ]
    }
   ],
   "source": [
    "# Bütün karakterleri küçük yazar\n",
    "txt = \"Hello, And Welcome To My World!\"\n",
    "\n",
    "x = txt.casefold()\n",
    "\n",
    "print(x);"
   ]
  },
  {
   "cell_type": "code",
   "execution_count": 14,
   "id": "b7428c03",
   "metadata": {},
   "outputs": [
    {
     "name": "stdout",
     "output_type": "stream",
     "text": [
      "       banana       \n"
     ]
    }
   ],
   "source": [
    "# Varsayılan kadar boşluk veya hangi karakteri atarsan onu yazar.\n",
    "txt = \"banana\"\n",
    "\n",
    "x = txt.center(20)\n",
    "\n",
    "print(x)"
   ]
  },
  {
   "cell_type": "code",
   "execution_count": 15,
   "id": "0f37f4c3",
   "metadata": {},
   "outputs": [
    {
     "name": "stdout",
     "output_type": "stream",
     "text": [
      "2\n"
     ]
    }
   ],
   "source": [
    "#Belirtilen değerin kaç kez döndüğünü belirtir.\n",
    "\n",
    "txt = \"I love apples, apple are my favorite fruit\"\n",
    "\n",
    "x = txt.count(\"apple\")\n",
    "\n",
    "print(x)"
   ]
  },
  {
   "cell_type": "code",
   "execution_count": 16,
   "id": "73b4579a",
   "metadata": {},
   "outputs": [
    {
     "name": "stdout",
     "output_type": "stream",
     "text": [
      "1\n"
     ]
    }
   ],
   "source": [
    "# 10 dan 24 e kadar arama yapar istenilen ifadeyi kaç kere yazdığını\n",
    "txt = \"I love apples, apple are my favorite fruit\"\n",
    "\n",
    "x = txt.count(\"apple\", 10, 24)\n",
    "\n",
    "print(x)"
   ]
  },
  {
   "cell_type": "code",
   "execution_count": 3,
   "id": "5589c0c9",
   "metadata": {},
   "outputs": [
    {
     "name": "stdout",
     "output_type": "stream",
     "text": [
      "b'My name is St\\xc3\\xa5le'\n"
     ]
    }
   ],
   "source": [
    "# Dizenin kodlanmış sürümünü döndürür.\n",
    "\n",
    "txt = \"My name is Ståle\"\n",
    "\n",
    "x = txt.encode()\n",
    "\n",
    "print(x)"
   ]
  },
  {
   "cell_type": "code",
   "execution_count": 13,
   "id": "5b4b8236",
   "metadata": {},
   "outputs": [
    {
     "name": "stdout",
     "output_type": "stream",
     "text": [
      "True\n"
     ]
    }
   ],
   "source": [
    "#Dize belirtilen değerle bitiyorsa true döndürür\n",
    "\n",
    "txt = \"Hello, welcome to my world.\"\n",
    "\n",
    "x = txt.endswith(\".\")\n",
    "\n",
    "print(x)\n"
   ]
  },
  {
   "cell_type": "code",
   "execution_count": 5,
   "id": "d40da893",
   "metadata": {},
   "outputs": [
    {
     "name": "stdout",
     "output_type": "stream",
     "text": [
      "H\te\tl\tl\to\n",
      "H       e       l       l       o\n",
      "H e l l o\n",
      "H   e   l   l   o\n",
      "H         e         l         l         o\n"
     ]
    }
   ],
   "source": [
    "#Dizenin sekme boyutunu ayarlar\n",
    "\n",
    "txt = \"H\\te\\tl\\tl\\to\"\n",
    "\n",
    "print(txt)\n",
    "print(txt.expandtabs())\n",
    "print(txt.expandtabs(2))\n",
    "print(txt.expandtabs(4))\n",
    "print(txt.expandtabs(10))"
   ]
  },
  {
   "cell_type": "code",
   "execution_count": 8,
   "id": "70048a2e",
   "metadata": {},
   "outputs": [
    {
     "name": "stdout",
     "output_type": "stream",
     "text": [
      "8\n"
     ]
    }
   ],
   "source": [
    "#Dizeyi belirtilen bir değer için arar ve bulunduğu konumu döndürür\n",
    "txt = \"Hello, welcome to my world.\"\n",
    "\n",
    "x = txt.find(\"e\", 5, 10)\n",
    "\n",
    "print(x)\n",
    "\n"
   ]
  },
  {
   "cell_type": "code",
   "execution_count": 9,
   "id": "bdf78c20",
   "metadata": {},
   "outputs": [
    {
     "name": "stdout",
     "output_type": "stream",
     "text": [
      "For only 49.00 dollars!\n"
     ]
    }
   ],
   "source": [
    "# Bir dizede belirtilen değerleri biçimlendirir. süslü parantez kuıllanılır.\n",
    "\n",
    "txt = \"For only {price:.2f} dollars!\"\n",
    "print(txt.format(price = 49))"
   ]
  },
  {
   "cell_type": "code",
   "execution_count": 14,
   "id": "55ba3b70",
   "metadata": {},
   "outputs": [
    {
     "name": "stdout",
     "output_type": "stream",
     "text": [
      "My name is John, I'm 36\n",
      "My name is John, I'm 36\n",
      "My name is John, I'm 36\n"
     ]
    }
   ],
   "source": [
    "#named indexes:\n",
    "txt1 = \"My name is {fname}, I'm {age}\".format(fname = \"John\", age = 36)\n",
    "#numbered indexes:\n",
    "txt2 = \"My name is {0}, I'm {1}\".format(\"John\",36)\n",
    "#empty placeholders:\n",
    "txt3 = \"My name is {}, I'm {}\".format(\"John\",36)\n",
    "\n",
    "print(txt1)\n",
    "print(txt2)\n",
    "print(txt3)\n"
   ]
  },
  {
   "cell_type": "code",
   "execution_count": 15,
   "id": "9f549823",
   "metadata": {},
   "outputs": [
    {
     "name": "stdout",
     "output_type": "stream",
     "text": [
      "8\n"
     ]
    }
   ],
   "source": [
    "#Dizeyi belirtilen bir değer için arar ve bulunduğu konumu döndürür\n",
    "\n",
    "#index() yöntemi, find() yöntemiyle hemen hemen aynıdır, tek fark, değer bulunamazsa find() yönteminin -1 döndürmesidir. \n",
    "    \n",
    "txt = \"Hello, welcome to my world.\"\n",
    "\n",
    "x = txt.index(\"e\", 5, 10)\n",
    "\n",
    "print(x)"
   ]
  },
  {
   "cell_type": "code",
   "execution_count": 16,
   "id": "fa37a9c6",
   "metadata": {},
   "outputs": [
    {
     "name": "stdout",
     "output_type": "stream",
     "text": [
      "True\n"
     ]
    }
   ],
   "source": [
    "#Dizedeki tüm karakterler alfasayısal ise True döndürür\n",
    "\n",
    "txt = \"Company12\"\n",
    "\n",
    "x = txt.isalnum()\n",
    "\n",
    "print(x)\n",
    "\n"
   ]
  },
  {
   "cell_type": "code",
   "execution_count": 17,
   "id": "37c8ef01",
   "metadata": {},
   "outputs": [
    {
     "name": "stdout",
     "output_type": "stream",
     "text": [
      "False\n"
     ]
    }
   ],
   "source": [
    "#Dizedeki tüm karakterler alfabedeyse True döndürür\n",
    "txt = \"Company10\"\n",
    "\n",
    "x = txt.isalpha()\n",
    "\n",
    "print(x)"
   ]
  },
  {
   "cell_type": "code",
   "execution_count": 18,
   "id": "e4659f75",
   "metadata": {},
   "outputs": [
    {
     "name": "stdout",
     "output_type": "stream",
     "text": [
      "True\n",
      "False\n"
     ]
    }
   ],
   "source": [
    "#Dizedeki tüm karakterler ondalık sayıysa True döndürür\n",
    "a = \"\\u0030\" #unicode for 0\n",
    "b = \"\\u0047\" #unicode for G\n",
    "\n",
    "print(a.isdecimal())\n",
    "print(b.isdecimal())\n",
    "\n"
   ]
  },
  {
   "cell_type": "code",
   "execution_count": 19,
   "id": "94728a3d",
   "metadata": {},
   "outputs": [
    {
     "name": "stdout",
     "output_type": "stream",
     "text": [
      "True\n",
      "True\n"
     ]
    }
   ],
   "source": [
    "#Dizedeki tüm karakterler rakam ise True döndürür\n",
    "\n",
    "a = \"\\u0030\" #unicode for 0\n",
    "b = \"\\u00B2\" #unicode for ²\n",
    "\n",
    "print(a.isdigit())\n",
    "print(b.isdigit())"
   ]
  },
  {
   "cell_type": "code",
   "execution_count": 20,
   "id": "a992dbf3",
   "metadata": {},
   "outputs": [
    {
     "name": "stdout",
     "output_type": "stream",
     "text": [
      "True\n",
      "True\n",
      "False\n",
      "False\n"
     ]
    }
   ],
   "source": [
    "#Dize bir tanımlayıcıysa True döndürür\n",
    "\n",
    "\n",
    "a = \"MyFolder\"\n",
    "b = \"Demo002\"\n",
    "c = \"2bring\"\n",
    "d = \"my demo\"\n",
    "\n",
    "print(a.isidentifier())\n",
    "print(b.isidentifier())\n",
    "print(c.isidentifier())\n",
    "print(d.isidentifier())\n",
    "\n"
   ]
  },
  {
   "cell_type": "code",
   "execution_count": 21,
   "id": "76b917d2",
   "metadata": {},
   "outputs": [
    {
     "name": "stdout",
     "output_type": "stream",
     "text": [
      "False\n",
      "True\n",
      "False\n"
     ]
    }
   ],
   "source": [
    "#Dizedeki tüm karakterler küçük harf ise True döndürür\n",
    "\n",
    "a = \"Hello world!\"\n",
    "b = \"hello 123\"\n",
    "c = \"mynameisPeter\"\n",
    "\n",
    "print(a.islower())\n",
    "print(b.islower())\n",
    "print(c.islower())\n"
   ]
  },
  {
   "cell_type": "code",
   "execution_count": 22,
   "id": "ed5c5069",
   "metadata": {},
   "outputs": [
    {
     "name": "stdout",
     "output_type": "stream",
     "text": [
      "True\n",
      "True\n",
      "False\n",
      "False\n",
      "False\n"
     ]
    }
   ],
   "source": [
    "#Dizedeki tüm karakterler sayısal ise True döndürür\n",
    "\n",
    "a = \"\\u0030\" #unicode for 0\n",
    "b = \"\\u00B2\" #unicode for ²\n",
    "c = \"10km2\"\n",
    "d = \"-1\"\n",
    "e = \"1.5\"\n",
    "\n",
    "print(a.isnumeric())\n",
    "print(b.isnumeric())\n",
    "print(c.isnumeric())\n",
    "print(d.isnumeric())\n",
    "print(e.isnumeric())\n"
   ]
  },
  {
   "cell_type": "code",
   "execution_count": 23,
   "id": "a4101471",
   "metadata": {},
   "outputs": [
    {
     "name": "stdout",
     "output_type": "stream",
     "text": [
      "False\n"
     ]
    }
   ],
   "source": [
    "#Dizedeki tüm karakterler yazdırılabilirse True döndürür\n",
    "\n",
    "txt = \"Hello!\\nAre you #1?\"\n",
    "\n",
    "x = txt.isprintable()\n",
    "\n",
    "print(x)"
   ]
  },
  {
   "cell_type": "code",
   "execution_count": 24,
   "id": "ef064690",
   "metadata": {},
   "outputs": [
    {
     "name": "stdout",
     "output_type": "stream",
     "text": [
      "True\n"
     ]
    }
   ],
   "source": [
    "#Dizedeki tüm karakterler boşluksa True döndürür\n",
    "txt = \"   \"\n",
    "\n",
    "x = txt.isspace()\n",
    "\n",
    "print(x)\n"
   ]
  },
  {
   "cell_type": "code",
   "execution_count": 25,
   "id": "81cecfb7",
   "metadata": {},
   "outputs": [
    {
     "name": "stdout",
     "output_type": "stream",
     "text": [
      "False\n",
      "True\n",
      "True\n",
      "True\n"
     ]
    }
   ],
   "source": [
    "#Dize bir başlığın kurallarına uyuyorsa True döndürür\n",
    "\n",
    "a = \"HELLO, AND WELCOME TO MY WORLD\"\n",
    "b = \"Hello\"\n",
    "c = \"22 Names\"\n",
    "d = \"This Is %'!?\"\n",
    "\n",
    "print(a.istitle())\n",
    "print(b.istitle())\n",
    "print(c.istitle())\n",
    "print(d.istitle())\n"
   ]
  },
  {
   "cell_type": "code",
   "execution_count": 26,
   "id": "9646518f",
   "metadata": {},
   "outputs": [
    {
     "name": "stdout",
     "output_type": "stream",
     "text": [
      "False\n",
      "False\n",
      "True\n"
     ]
    }
   ],
   "source": [
    "#Dizedeki tüm karakterler büyük harf ise True döndürür\n",
    "\n",
    "a = \"Hello World!\"\n",
    "b = \"hello 123\"\n",
    "c = \"MY NAME IS PETER\"\n",
    "\n",
    "print(a.isupper())\n",
    "print(b.isupper())\n",
    "print(c.isupper())"
   ]
  },
  {
   "cell_type": "code",
   "execution_count": 27,
   "id": "5bd8c4ef",
   "metadata": {},
   "outputs": [
    {
     "name": "stdout",
     "output_type": "stream",
     "text": [
      "John#Peter#Vicky\n"
     ]
    }
   ],
   "source": [
    "#Bir yinelenebilir öğenin öğelerini dizenin sonuna birleştirir\n",
    "\n",
    "myTuple = (\"John\", \"Peter\", \"Vicky\")\n",
    "\n",
    "x = \"#\".join(myTuple)\n",
    "\n",
    "print(x)\n"
   ]
  },
  {
   "cell_type": "code",
   "execution_count": 28,
   "id": "8f70cd91",
   "metadata": {},
   "outputs": [
    {
     "name": "stdout",
     "output_type": "stream",
     "text": [
      "banana               is my favorite fruit.\n"
     ]
    }
   ],
   "source": [
    "#Dizenin sola dayalı bir sürümünü döndürür\n",
    "\n",
    "txt = \"banana\"\n",
    "\n",
    "x = txt.ljust(20)\n",
    "\n",
    "print(x, \"is my favorite fruit.\")\n"
   ]
  },
  {
   "cell_type": "code",
   "execution_count": 29,
   "id": "a85763f4",
   "metadata": {},
   "outputs": [
    {
     "name": "stdout",
     "output_type": "stream",
     "text": [
      "hello my friends\n"
     ]
    }
   ],
   "source": [
    "#Bir dizeyi küçük harfe dönüştürür\n",
    "\n",
    "txt = \"Hello my FRIENDS\"\n",
    "\n",
    "x = txt.lower()\n",
    "\n",
    "print(x)\n"
   ]
  },
  {
   "cell_type": "code",
   "execution_count": 30,
   "id": "9b02e69e",
   "metadata": {},
   "outputs": [
    {
     "name": "stdout",
     "output_type": "stream",
     "text": [
      "of all fruits banana      is my favorite\n"
     ]
    }
   ],
   "source": [
    "#Dizenin sol kırpılmış sürümünü döndürür\n",
    "\n",
    "txt = \"     banana     \"\n",
    "\n",
    "x = txt.lstrip()\n",
    "\n",
    "print(\"of all fruits\", x, \"is my favorite\")"
   ]
  },
  {
   "cell_type": "code",
   "execution_count": 31,
   "id": "fc166843",
   "metadata": {},
   "outputs": [
    {
     "name": "stdout",
     "output_type": "stream",
     "text": [
      "Hello Pam!\n"
     ]
    }
   ],
   "source": [
    "#Çevirilerde kullanılacak bir çeviri tablosu döndürür\n",
    "\n",
    "txt = \"Hello Sam!\"\n",
    "\n",
    "mytable = txt.maketrans(\"S\", \"P\")\n",
    "\n",
    "print(txt.translate(mytable))\n"
   ]
  },
  {
   "cell_type": "code",
   "execution_count": 32,
   "id": "2cec8029",
   "metadata": {},
   "outputs": [
    {
     "name": "stdout",
     "output_type": "stream",
     "text": [
      "('I could eat ', 'bananas', ' all day')\n"
     ]
    }
   ],
   "source": [
    "#Dizenin üç parçaya ayrıldığı bir tanımlama grubu döndürür\n",
    "\n",
    "txt = \"I could eat bananas all day\"\n",
    "\n",
    "x = txt.partition(\"bananas\")\n",
    "\n",
    "print(x)\n"
   ]
  },
  {
   "cell_type": "code",
   "execution_count": 33,
   "id": "fb084836",
   "metadata": {},
   "outputs": [
    {
     "name": "stdout",
     "output_type": "stream",
     "text": [
      "I like apples\n"
     ]
    }
   ],
   "source": [
    "#Belirtilen bir değerin belirtilen bir değerle değiştirildiği bir dize döndürür\n",
    "txt = \"I like bananas\"\n",
    "\n",
    "x = txt.replace(\"bananas\", \"apples\")\n",
    "\n",
    "print(x)\n",
    "\n"
   ]
  },
  {
   "cell_type": "code",
   "execution_count": 34,
   "id": "f839ebe6",
   "metadata": {},
   "outputs": [
    {
     "name": "stdout",
     "output_type": "stream",
     "text": [
      "three three was a race horse, two two was one too.\n"
     ]
    }
   ],
   "source": [
    "txt = \"one one was a race horse, two two was one too.\"\n",
    "\n",
    "x = txt.replace(\"one\", \"three\", 2)\n",
    "\n",
    "print(x)"
   ]
  },
  {
   "cell_type": "code",
   "execution_count": 35,
   "id": "328efdec",
   "metadata": {},
   "outputs": [
    {
     "name": "stdout",
     "output_type": "stream",
     "text": [
      "8\n"
     ]
    }
   ],
   "source": [
    "#Dizeyi belirtilen bir değer için arar ve bulunduğu yerin son konumunu döndürür\n",
    "\n",
    "txt = \"Hello, welcome to my world.\"\n",
    "\n",
    "x = txt.rfind(\"e\", 5, 10)\n",
    "\n",
    "print(x)"
   ]
  },
  {
   "cell_type": "code",
   "execution_count": 36,
   "id": "2b481eac",
   "metadata": {},
   "outputs": [
    {
     "name": "stdout",
     "output_type": "stream",
     "text": [
      "12\n"
     ]
    }
   ],
   "source": [
    "#Dizeyi belirtilen bir değer için arar ve bulunduğu yerin son konumunu döndürür\n",
    "txt = \"Mi casa, su casa.\"\n",
    "\n",
    "x = txt.rindex(\"casa\")\n",
    "\n",
    "print(x)\n"
   ]
  },
  {
   "cell_type": "code",
   "execution_count": 37,
   "id": "7c70efe9",
   "metadata": {},
   "outputs": [
    {
     "name": "stdout",
     "output_type": "stream",
     "text": [
      "              banana is my favorite fruit.\n"
     ]
    }
   ],
   "source": [
    "#Dizenin sağa yaslanmış bir sürümünü döndürür\n",
    "txt = \"banana\"\n",
    "\n",
    "x = txt.rjust(20)\n",
    "\n",
    "print(x, \"is my favorite fruit.\")\n",
    "\n"
   ]
  },
  {
   "cell_type": "code",
   "execution_count": 39,
   "id": "8fda38d1",
   "metadata": {},
   "outputs": [
    {
     "name": "stdout",
     "output_type": "stream",
     "text": [
      "('I could eat bananas all day, ', 'bananas', ' are my favorite fruit')\n"
     ]
    }
   ],
   "source": [
    "#Dizenin üç parçaya ayrıldığı bir tanımlama grubu döndürür\n",
    "\n",
    "txt = \"I could eat bananas all day, bananas are my favorite fruit\"\n",
    "\n",
    "x = txt.rpartition(\"bananas\")\n",
    "\n",
    "print(x)"
   ]
  },
  {
   "cell_type": "code",
   "execution_count": 40,
   "id": "ec404dec",
   "metadata": {},
   "outputs": [
    {
     "name": "stdout",
     "output_type": "stream",
     "text": [
      "['apple, banana', 'cherry']\n"
     ]
    }
   ],
   "source": [
    "#Dizeyi belirtilen ayırıcıda böler ve bir liste döndürür\n",
    "txt = \"apple, banana, cherry\"\n",
    "\n",
    "# setting the maxsplit parameter to 1, will return a list with 2 elements!\n",
    "x = txt.rsplit(\", \", 1)\n",
    "\n",
    "print(x)\n"
   ]
  },
  {
   "cell_type": "code",
   "execution_count": 41,
   "id": "0c4dda5f",
   "metadata": {},
   "outputs": [
    {
     "name": "stdout",
     "output_type": "stream",
     "text": [
      "banana\n"
     ]
    }
   ],
   "source": [
    "#Dizenin sağ trim sürümünü döndürür\n",
    "\n",
    "txt = \"banana,,,,,ssqqqww.....\"\n",
    "\n",
    "x = txt.rstrip(\",.qsw\")\n",
    "\n",
    "print(x)"
   ]
  },
  {
   "cell_type": "code",
   "execution_count": 42,
   "id": "73fc5ec0",
   "metadata": {},
   "outputs": [
    {
     "name": "stdout",
     "output_type": "stream",
     "text": [
      "['Thank you for the music', 'Welcome to the jungle']\n"
     ]
    }
   ],
   "source": [
    "#Dizeyi satır sonlarında böler ve bir liste döndürür\n",
    "txt = \"Thank you for the music\\nWelcome to the jungle\"\n",
    "\n",
    "x = txt.splitlines()\n",
    "\n",
    "print(x)"
   ]
  },
  {
   "cell_type": "code",
   "execution_count": 43,
   "id": "f2a7ffcc",
   "metadata": {},
   "outputs": [
    {
     "name": "stdout",
     "output_type": "stream",
     "text": [
      "True\n"
     ]
    }
   ],
   "source": [
    "#Dize belirtilen değerle başlarsa true döndürür\n",
    "txt = \"Hello, welcome to my world.\"\n",
    "\n",
    "x = txt.startswith(\"Hello\")\n",
    "\n",
    "print(x)"
   ]
  },
  {
   "cell_type": "code",
   "execution_count": 44,
   "id": "3d20521b",
   "metadata": {},
   "outputs": [
    {
     "name": "stdout",
     "output_type": "stream",
     "text": [
      "hELLO mY nAME iS peter\n"
     ]
    }
   ],
   "source": [
    "#Durumları değiştirir, küçük harf büyük harf olur ve tam tersi\n",
    "\n",
    "txt = \"Hello My Name Is PETER\"\n",
    "\n",
    "x = txt.swapcase()\n",
    "\n",
    "print(x)"
   ]
  },
  {
   "cell_type": "code",
   "execution_count": 45,
   "id": "acdd3e80",
   "metadata": {},
   "outputs": [
    {
     "name": "stdout",
     "output_type": "stream",
     "text": [
      "Welcome To My World\n"
     ]
    }
   ],
   "source": [
    "#Her kelimenin ilk karakterini büyük harfe dönüştürür\n",
    "\n",
    "txt = \"Welcome to my world\"\n",
    "\n",
    "x = txt.title()\n",
    "\n",
    "print(x)"
   ]
  },
  {
   "cell_type": "code",
   "execution_count": 46,
   "id": "eafa8b20",
   "metadata": {},
   "outputs": [
    {
     "name": "stdout",
     "output_type": "stream",
     "text": [
      "Hello Pam!\n"
     ]
    }
   ],
   "source": [
    "#Çevrilmiş bir dize döndürür\n",
    "\n",
    "mydict = {83:  80}\n",
    "txt = \"Hello Sam!\"\n",
    "print(txt.translate(mydict))"
   ]
  },
  {
   "cell_type": "code",
   "execution_count": 47,
   "id": "e0c37f95",
   "metadata": {},
   "outputs": [
    {
     "name": "stdout",
     "output_type": "stream",
     "text": [
      "HELLO MY FRIENDS\n"
     ]
    }
   ],
   "source": [
    "#Bir dizeyi büyük harfe dönüştürür\n",
    "\n",
    "txt = \"Hello my friends\"\n",
    "\n",
    "x = txt.upper()\n",
    "\n",
    "print(x)"
   ]
  },
  {
   "cell_type": "code",
   "execution_count": 48,
   "id": "91f23e55",
   "metadata": {},
   "outputs": [
    {
     "name": "stdout",
     "output_type": "stream",
     "text": [
      "Hello my friends\n",
      "0000000050\n"
     ]
    }
   ],
   "source": [
    "#txt = \"50\"\n",
    "\n",
    "x = txt.zfill(10)\n",
    "\n",
    "print(x)\n",
    "\n",
    "txt = \"50\"\n",
    "\n",
    "x = txt.zfill(10)\n",
    "\n",
    "print(x)"
   ]
  }
 ],
 "metadata": {
  "kernelspec": {
   "display_name": "Python 3.10.5 64-bit",
   "language": "python",
   "name": "python3"
  },
  "language_info": {
   "codemirror_mode": {
    "name": "ipython",
    "version": 3
   },
   "file_extension": ".py",
   "mimetype": "text/x-python",
   "name": "python",
   "nbconvert_exporter": "python",
   "pygments_lexer": "ipython3",
   "version": "3.10.5"
  },
  "vscode": {
   "interpreter": {
    "hash": "b4044981413740eee27414ea3226f4e43a5d1b63348b3154fc0b089b38ce4bb9"
   }
  }
 },
 "nbformat": 4,
 "nbformat_minor": 5
}
